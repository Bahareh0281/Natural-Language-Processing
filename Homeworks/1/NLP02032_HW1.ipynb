{
  "nbformat": 4,
  "nbformat_minor": 0,
  "metadata": {
    "colab": {
      "provenance": []
    },
    "kernelspec": {
      "name": "python3",
      "display_name": "Python 3"
    },
    "language_info": {
      "name": "python"
    }
  },
  "cells": [
    {
      "cell_type": "markdown",
      "source": [
        "#Q1: Probabilistic N-Gram Language Model(50 points)"
      ],
      "metadata": {
        "id": "a4NQTign_k_T"
      }
    },
    {
      "cell_type": "markdown",
      "source": [
        "**Objective:**\n",
        "\n",
        "The objective of this question is to implement and experiment with an N-Gram language model using the Reuters dataset. The task involves building a probabilistic N-Gram model and creating a text generator based on the trained model with customizable parameters.\n",
        "\n",
        "**Tasks:**\n",
        "\n",
        "\n",
        "**1.Text Preprocessing (5 points):**\n",
        "*   Implement the preprocess_text function to perform necessary text preprocessing. You may use NLTK or other relevant libraries for this task. (Already provided, no modification needed)\n",
        "\n",
        "\n",
        "**2.Build Probabilistic N-Gram Model (15 points):**\n",
        "\n",
        "*   Implement the build_probabilistic_ngram_model function to construct a probabilistic N-Gram model from the Reuters dataset.\n",
        "\n",
        "\n",
        "**3.Generate Text with Customizable Parameters (15 points):**\n",
        "\n",
        "*   Implement the generate_text function to generate text given a seed text and the probabilistic N-Gram model.\n",
        "*   The function should have parameters for probability_threshold and min_length to customize the generation process.\n",
        "*   Ensure that the generation stops when either the specified min_length is reached or the probabilities fall below probability_threshold.\n",
        "\n",
        "\n",
        "**4.Experimentation and Parameter Tuning (5 points):**\n",
        "\n",
        "*   Use Google Colab to experiment with different values of n_value, probability_threshold, and min_length.\n",
        "Find the optimal parameters that result in coherent and meaningful generated text.\n",
        "*   Provide a detailed analysis of the impact of changing each parameter on the generated text's quality.\n",
        "*   Discuss any challenges faced during parameter tuning and propose potential improvements.\n",
        "\n",
        "\n",
        "**5.Results and Conclusion (10 points):**\n",
        "\n",
        "*   Summarize your findings and present the optimal parameter values for n_value, probability_threshold, and min_length.\n",
        "*   Discuss the trade-offs and considerations when selecting these parameters.\n",
        "*   Conclude with insights gained from the experimentation."
      ],
      "metadata": {
        "id": "zDKtnG-HAH1k"
      }
    },
    {
      "cell_type": "code",
      "source": [
        "import nltk\n",
        "from nltk.corpus import reuters\n",
        "from nltk import ngrams\n",
        "import random\n",
        "import string\n",
        "from collections import defaultdict\n",
        "\n",
        "# Download the Reuters dataset if not already downloaded\n",
        "nltk.download('reuters')\n",
        "nltk.download('punkt')\n",
        "\n",
        "nltk.download('stopwords')\n",
        "from nltk import FreqDist\n",
        "from nltk.corpus import stopwords\n",
        "from collections import Counter"
      ],
      "metadata": {
        "id": "3NWXJy-T-Vd7",
        "outputId": "d0a62960-360d-41f8-c79e-a8f1f3203183",
        "colab": {
          "base_uri": "https://localhost:8080/"
        }
      },
      "execution_count": 2,
      "outputs": [
        {
          "output_type": "stream",
          "name": "stderr",
          "text": [
            "[nltk_data] Downloading package reuters to /root/nltk_data...\n",
            "[nltk_data]   Package reuters is already up-to-date!\n",
            "[nltk_data] Downloading package punkt to /root/nltk_data...\n",
            "[nltk_data]   Package punkt is already up-to-date!\n",
            "[nltk_data] Downloading package stopwords to /root/nltk_data...\n",
            "[nltk_data]   Package stopwords is already up-to-date!\n"
          ]
        }
      ]
    },
    {
      "cell_type": "code",
      "execution_count": 3,
      "metadata": {
        "id": "Q9IHxAbU0N80"
      },
      "outputs": [],
      "source": [
        "def preprocess_text(text):\n",
        "    # Tokenize the text\n",
        "    tokens = nltk.word_tokenize(text.lower())\n",
        "\n",
        "    # Remove punctuation\n",
        "    tokens = [token for token in tokens if token not in string.punctuation]\n",
        "\n",
        "    return tokens\n",
        "\n",
        "def build_probabilistic_ngram_model(corpus, n):\n",
        "    # Create a defaultdict to store the n-gram model\n",
        "    ngram_model = defaultdict(list)\n",
        "    # print(\"ngram_model is: \", ngram_model)\n",
        "    # Iterate over the corpus\n",
        "    for tokens in corpus:\n",
        "        # print(\"tokens is: \", tokens)\n",
        "        # Create n-grams\n",
        "        grams = list(ngrams(tokens, n, pad_left=True, pad_right=True))\n",
        "        # print(\"grams is: \", grams)\n",
        "        # Update the n-gram model\n",
        "        for gram in grams:\n",
        "            # print(\"gram is: \", gram)\n",
        "            context = tuple(gram[:-1])\n",
        "            # print(\"context is: \", context)\n",
        "            word = gram[-1]\n",
        "            # print(\"word is: \", word)\n",
        "            ngram_model[context].append(word)\n",
        "\n",
        "    # Convert the model to probabilities\n",
        "    for context, words in ngram_model.items():\n",
        "        word_counts = defaultdict(int)\n",
        "        total_count = len(words)\n",
        "        for word in words:\n",
        "            word_counts[word] += 1\n",
        "        probabilities = {}\n",
        "        for word, count in word_counts.items():\n",
        "            probabilities[word] = count / total_count\n",
        "        ngram_model[context] = probabilities\n",
        "    # print(\"ngram_model is: \", ngram_model)\n",
        "    return ngram_model\n",
        "\n",
        "def generate_text(model, seed_text, n, probability_threshold=0.1, min_length=10):\n",
        "    # Preprocess the seed text\n",
        "    seed_tokens = preprocess_text(seed_text)\n",
        "\n",
        "    # Initialize the generated text with the seed text\n",
        "    generated_text = seed_tokens\n",
        "\n",
        "    # Generate the remaining text\n",
        "    while len(generated_text) < min_length:\n",
        "        # Get the context for the next word\n",
        "        context = tuple(generated_text[-n:])\n",
        "\n",
        "        # Check if the context is in the model\n",
        "        if context in model:\n",
        "            # Get the probabilities for the next word\n",
        "            probabilities = model[context]\n",
        "\n",
        "            # Filter the probabilities based on the threshold\n",
        "            filtered_probs = {word: prob for word, prob in probabilities.items() if prob >= probability_threshold}\n",
        "\n",
        "            # Check if there are any words left after filtering\n",
        "            if filtered_probs:\n",
        "                # Select the next word based on the probabilities\n",
        "                next_word = random.choices(list(filtered_probs.keys()), list(filtered_probs.values()))[0]\n",
        "\n",
        "                # Add the next word to the generated text\n",
        "                generated_text.append(next_word)\n",
        "            else:\n",
        "                # If no words are left, break the loop\n",
        "                print(\"No words are left\")\n",
        "                break\n",
        "        else:\n",
        "            # If the context is not in the model, break the loop\n",
        "            print(\"Context is not in the model\")\n",
        "            break\n",
        "\n",
        "    # Convert the generated text back to a string\n",
        "    generated_text = ' '.join(generated_text)\n",
        "\n",
        "    return generated_text"
      ]
    },
    {
      "cell_type": "code",
      "source": [
        "# Load the Reuters dataset\n",
        "corpus = [reuters.raw(file_id) for file_id in reuters.fileids()]\n",
        "\n",
        "# Preprocess the entire corpus\n",
        "preprocessed_corpus = [preprocess_text(text) for text in corpus]\n",
        "\n",
        "# Choose an n for the n-gram model\n",
        "n_value = 3  # You may change this value\n",
        "\n",
        "# Build the probabilistic n-gram model\n",
        "probabilistic_ngram_model = build_probabilistic_ngram_model(preprocessed_corpus, n_value)"
      ],
      "metadata": {
        "id": "eVVMe_s59Ngd"
      },
      "execution_count": 6,
      "outputs": []
    },
    {
      "cell_type": "code",
      "source": [
        "# Test the text generator\n",
        "seed_text = \"Inflation is\"\n",
        "generated_text = generate_text(probabilistic_ngram_model, seed_text, n_value, probability_threshold=0.02, min_length=5)\n",
        "print(f\"Generated Text: {generated_text}\")"
      ],
      "metadata": {
        "id": "n-4WP7IC9Q7s",
        "colab": {
          "base_uri": "https://localhost:8080/"
        },
        "outputId": "ed92b4ec-abca-4c56-ebce-98e4580835bf"
      },
      "execution_count": 7,
      "outputs": [
        {
          "output_type": "stream",
          "name": "stdout",
          "text": [
            "Context is not in the model\n",
            "Generated Text: inflation is not\n"
          ]
        }
      ]
    },
    {
      "cell_type": "code",
      "source": [
        "# Load the Reuters dataset\n",
        "corpus = [reuters.raw(file_id) for file_id in reuters.fileids()]\n",
        "\n",
        "# Preprocess the entire corpus\n",
        "preprocessed_corpus = [preprocess_text(text) for text in corpus]\n",
        "\n",
        "# Test the text generator\n",
        "seed_text = \"Inflation is\"\n",
        "Result = \"inflation is\"\n",
        "n_value = 3\n",
        "for i in range(1, 10):\n",
        "    print(f\"{i}th time:\")\n",
        "    probabilistic_ngram_model = build_probabilistic_ngram_model(preprocessed_corpus, n_value)\n",
        "    generated_text = generate_text(probabilistic_ngram_model, seed_text, n_value, probability_threshold=0.02, min_length=10)\n",
        "    generated_words = generated_text.split()\n",
        "    if \"Context is not in the model\" in generated_words:\n",
        "        generated_words.remove(\"Context\")\n",
        "        generated_words.remove(\"is\")\n",
        "        generated_text = \" \".join(generated_words)\n",
        "    print(f\"Generated Text: {generated_text}\")\n",
        "    seed_text = \" \".join(generated_words[-2:])\n",
        "    Result += (\" \" + \" \".join(generated_words[-1:]))\n",
        "    print(f\"Result is: {Result}\")\n",
        "\n",
        "# for n_value in range (2, 10):\n",
        "#   print(\"n is: \", n_value)\n",
        "#   # Build the probabilistic n-gram model\n",
        "#   probabilistic_ngram_model = build_probabilistic_ngram_model(preprocessed_corpus, n_value)\n",
        "#   generated_text = generate_text(probabilistic_ngram_model, seed_text, n_value, probability_threshold=0.02, min_length=10)\n",
        "#   print(f\"Generated Text: {generated_text}\")\n",
        "#   seed_text = generated_text\n"
      ],
      "metadata": {
        "colab": {
          "base_uri": "https://localhost:8080/"
        },
        "id": "n_NV9OZiQZTc",
        "outputId": "075d10c0-05c2-440f-8e9e-20323d6c4b6c"
      },
      "execution_count": 23,
      "outputs": [
        {
          "output_type": "stream",
          "name": "stdout",
          "text": [
            "1th time:\n",
            "Context is not in the model\n",
            "Generated Text: inflation is a\n",
            "Result is: inflation is a\n",
            "2th time:\n",
            "Context is not in the model\n",
            "Generated Text: is a subsidiary\n",
            "Result is: inflation is a subsidiary\n",
            "3th time:\n",
            "Context is not in the model\n",
            "Generated Text: a subsidiary of\n",
            "Result is: inflation is a subsidiary of\n",
            "4th time:\n",
            "Context is not in the model\n",
            "Generated Text: subsidiary of the\n",
            "Result is: inflation is a subsidiary of the\n",
            "5th time:\n",
            "Context is not in the model\n",
            "Generated Text: of the company\n",
            "Result is: inflation is a subsidiary of the company\n",
            "6th time:\n",
            "Context is not in the model\n",
            "Generated Text: the company said\n",
            "Result is: inflation is a subsidiary of the company said\n",
            "7th time:\n",
            "Context is not in the model\n",
            "Generated Text: company said the\n",
            "Result is: inflation is a subsidiary of the company said the\n",
            "8th time:\n",
            "Context is not in the model\n",
            "Generated Text: said the u.s.\n",
            "Result is: inflation is a subsidiary of the company said the u.s.\n",
            "9th time:\n",
            "Context is not in the model\n",
            "Generated Text: the u.s companies\n",
            "Result is: inflation is a subsidiary of the company said the u.s. companies\n"
          ]
        }
      ]
    },
    {
      "cell_type": "code",
      "source": [
        "# imports\n",
        "import string\n",
        "import random\n",
        "import nltk\n",
        "nltk.download('punkt')\n",
        "nltk.download('stopwords')\n",
        "nltk.download('reuters')\n",
        "from nltk.corpus import reuters\n",
        "from nltk import FreqDist\n",
        "from nltk.corpus import stopwords  # Add this line to import the stopwords module\n",
        "from collections import Counter  # Add this line to import the Counter class\n",
        "\n",
        "# input the reuters sentences\n",
        "sents =reuters.sents()\n",
        "\n",
        "# write the removal characters such as : Stopwords and punctuation\n",
        "stop_words = set(stopwords.words('english'))\n",
        "string.punctuation = string.punctuation +'\"'+'\"'+'-'+'''+'''+'—'\n",
        "string.punctuation\n",
        "removal_list = list(stop_words) + list(string.punctuation)+ ['lt','rt']\n",
        "removal_list\n",
        "\n",
        "# generate unigrams bigrams trigrams\n",
        "unigram=[]\n",
        "bigram=[]\n",
        "trigram=[]\n",
        "tokenized_text=[]\n",
        "for sentence in sents:\n",
        "  sentence = list(map(lambda x:x.lower(),sentence))\n",
        "  for word in sentence:\n",
        "      if word== '.':\n",
        "        sentence.remove(word)\n",
        "      else:\n",
        "        unigram.append(word)\n",
        "\n",
        "  tokenized_text.append(sentence)\n",
        "  bigram.extend(list(ngrams(sentence, 2,pad_left=True, pad_right=True)))\n",
        "  trigram.extend(list(ngrams(sentence, 3, pad_left=True, pad_right=True)))\n",
        "\n",
        "# remove the n-grams with removable words\n",
        "def remove_stopwords(x):\n",
        "\ty = []\n",
        "\tfor pair in x:\n",
        "\t\tcount = 0\n",
        "\t\tfor word in pair:\n",
        "\t\t\tif word in removal_list:\n",
        "\t\t\t\tcount = count or 0\n",
        "\t\t\telse:\n",
        "\t\t\t\tcount = count or 1\n",
        "\t\tif (count==1):\n",
        "\t\t\ty.append(pair)\n",
        "\treturn (y)\n",
        "unigram = remove_stopwords(unigram)\n",
        "bigram = remove_stopwords(bigram)\n",
        "trigram = remove_stopwords(trigram)\n",
        "\n",
        "# generate frequency of n-grams\n",
        "freq_bi = FreqDist(bigram)\n",
        "freq_tri = FreqDist(trigram)\n",
        "\n",
        "d = {}\n",
        "for a, b, c in freq_tri:\n",
        "    if a is not None and b is not None and c is not None:\n",
        "        if (a, b) not in d:\n",
        "            d[a, b] = Counter()\n",
        "        d[a, b] += Counter({c: freq_tri[a, b, c]})\n",
        "\n",
        "\n",
        "# Next word prediction\n",
        "s=''\n",
        "def pick_word(counter):\n",
        "\t\"Chooses a random element.\"\n",
        "\treturn random.choice(list(counter.elements()))\n",
        "prefix = \"he\", \"said\"\n",
        "print(\" \".join(prefix))\n",
        "s = \" \".join(prefix)\n",
        "for i in range(19):\n",
        "\tsuffix = pick_word(d[prefix])\n",
        "\ts=s+' '+suffix\n",
        "\tprint(s)\n",
        "\tprefix = prefix[1], suffix\n"
      ],
      "metadata": {
        "colab": {
          "base_uri": "https://localhost:8080/"
        },
        "id": "y53qVVuMbOON",
        "outputId": "5278cc1a-155a-46cf-d183-fd9e1a2be0ff"
      },
      "execution_count": null,
      "outputs": [
        {
          "output_type": "stream",
          "name": "stderr",
          "text": [
            "[nltk_data] Downloading package punkt to /root/nltk_data...\n",
            "[nltk_data]   Package punkt is already up-to-date!\n",
            "[nltk_data] Downloading package stopwords to /root/nltk_data...\n",
            "[nltk_data]   Package stopwords is already up-to-date!\n",
            "[nltk_data] Downloading package reuters to /root/nltk_data...\n",
            "[nltk_data]   Package reuters is already up-to-date!\n"
          ]
        },
        {
          "output_type": "stream",
          "name": "stdout",
          "text": [
            "he said\n",
            "he said citibank\n",
            "he said citibank n\n",
            "he said citibank n a\n",
            "he said citibank n a .-\n",
            "he said citibank n a .- c\n",
            "he said citibank n a .- c 9\n",
            "he said citibank n a .- c 9 5\n",
            "he said citibank n a .- c 9 5 pct\n",
            "he said citibank n a .- c 9 5 pct to\n",
            "he said citibank n a .- c 9 5 pct to 2\n",
            "he said citibank n a .- c 9 5 pct to 2 ,\n",
            "he said citibank n a .- c 9 5 pct to 2 , after\n",
            "he said citibank n a .- c 9 5 pct to 2 , after trading\n",
            "he said citibank n a .- c 9 5 pct to 2 , after trading late\n",
            "he said citibank n a .- c 9 5 pct to 2 , after trading late yesterday\n",
            "he said citibank n a .- c 9 5 pct to 2 , after trading late yesterday that\n",
            "he said citibank n a .- c 9 5 pct to 2 , after trading late yesterday that grain\n",
            "he said citibank n a .- c 9 5 pct to 2 , after trading late yesterday that grain prices\n",
            "he said citibank n a .- c 9 5 pct to 2 , after trading late yesterday that grain prices would\n"
          ]
        }
      ]
    },
    {
      "cell_type": "markdown",
      "source": [
        "#Q2: Sentiment Analysis with Naive Bayes Classifier(50 Points)"
      ],
      "metadata": {
        "id": "dZ3XzDx7JUNN"
      }
    },
    {
      "cell_type": "markdown",
      "source": [
        "**Objective:**\n",
        "\n",
        "You are tasked with implementing a Naive Bayes classifier for sentiment analysis. The provided code is incomplete, and your goal is to complete the missing parts. Additionally, you should train the classifier on a small dataset and analyze its performance.\n",
        "\n",
        "**Tasks:**\n",
        "\n",
        "1.**Complete the Code (35 points)**: Fill in the missing parts in the provided Python code for the Naive Bayes classifier. Pay special attention to the `extract_features` function.\n",
        "\n",
        "2.**Train and Test**: Train the Naive Bayes classifier on the training data and test it on a separate test set. Evaluate the accuracy of the classifier.\n",
        "\n",
        "3.**Analysis (15 points)**: Discuss the results. Identify any misclassifications and try to understand why the classifier may fail in those cases. Provide examples of sentences that were not predicted correctly and explain possible reasons.\n"
      ],
      "metadata": {
        "id": "NMuVkjW2XfAp"
      }
    },
    {
      "cell_type": "code",
      "source": [
        "import random\n",
        "import math\n",
        "import string\n",
        "from collections import defaultdict\n",
        "\n",
        "from nltk.corpus import stopwords\n",
        "from nltk.stem import PorterStemmer\n",
        "from nltk.corpus import movie_reviews\n",
        "import nltk\n",
        "\n",
        "# Download NLTK resources\n",
        "nltk.download('movie_reviews')\n",
        "nltk.download('punkt')\n",
        "nltk.download('stopwords')"
      ],
      "metadata": {
        "id": "M68XJubdKeDL"
      },
      "execution_count": null,
      "outputs": []
    },
    {
      "cell_type": "code",
      "source": [
        "def get_features(tokens):\n",
        "    # Remove punctuation\n",
        "    tokens = [word for word in tokens if word not in string.punctuation]\n",
        "\n",
        "    # Remove stopwords\n",
        "    stop_words = set(stopwords.words('english'))\n",
        "    tokens = [word for word in tokens if word.lower() not in stop_words]\n",
        "\n",
        "    # Perform stemming\n",
        "    stemmer = PorterStemmer()\n",
        "    tokens = [stemmer.stem(word) for word in tokens]\n",
        "\n",
        "    return tokens"
      ],
      "metadata": {
        "id": "KSLo4_JoUcax"
      },
      "execution_count": null,
      "outputs": []
    },
    {
      "cell_type": "code",
      "source": [
        "class NaiveBayesClassifier:\n",
        "    def __init__(self, classes):\n",
        "        self.classes = classes\n",
        "        self.class_probs = defaultdict(float)\n",
        "        self.feature_probs = defaultdict(lambda: defaultdict(float))\n",
        "\n",
        "    def train(self, training_data):\n",
        "        # Implement training here\n",
        "        # You should use get_features function to extract useful tokens from\n",
        "        # dataset and use them to train the classifier.\n",
        "        pass\n",
        "\n",
        "    def classify(self, features):\n",
        "        # Implement classification here\n",
        "        pass"
      ],
      "metadata": {
        "id": "m2Whvjy_Jq8n"
      },
      "execution_count": null,
      "outputs": []
    },
    {
      "cell_type": "code",
      "source": [
        "# Load the movie reviews dataset from NLTK\n",
        "data = [(list(movie_reviews.words(fileid)), category)\n",
        "             for category in movie_reviews.categories()\n",
        "             for fileid in movie_reviews.fileids(category)]\n",
        "\n",
        "random.shuffle(data)\n",
        "\n",
        "# Shuffle the dataset for randomness\n",
        "random.shuffle(data)\n",
        "\n",
        "# Split the dataset into training and testing sets\n",
        "split_ratio = 0.8\n",
        "split_index = int(len(data) * split_ratio)\n",
        "train_set = data[:split_index]\n",
        "test_set = data[split_index:]\n",
        "\n",
        "# Train the Naive Bayes classifier\n",
        "classes = set(sentiment for _, sentiment in train_set)\n",
        "classifier = NaiveBayesClassifier(classes)\n",
        "classifier.train(train_set)\n",
        "\n",
        "def calculate_accuracy(dataset, dataset_type):\n",
        "    # Test the classifier on the testing set\n",
        "    correct_predictions = 0\n",
        "    for example in dataset:\n",
        "        tokens, true_sentiment = example\n",
        "        features = get_features(tokens)\n",
        "        predicted_sentiment = classifier.classify(features)\n",
        "        if predicted_sentiment == true_sentiment:\n",
        "            correct_predictions += 1\n",
        "\n",
        "    accuracy = correct_predictions / len(dataset)\n",
        "    print(f\"{dataset_type} Accuracy: {accuracy}\")\n",
        "\n",
        "calculate_accuracy(train_set, 'Train')\n",
        "calculate_accuracy(test_set, 'Test')"
      ],
      "metadata": {
        "id": "j2jeyI6nKooE"
      },
      "execution_count": null,
      "outputs": []
    },
    {
      "cell_type": "markdown",
      "source": [
        "#Submission Instructions:\n"
      ],
      "metadata": {
        "id": "Nfl8UA42Gqjf"
      }
    },
    {
      "cell_type": "markdown",
      "source": [
        "1.Submit a Google Colab notebook containing your completed code and experimentation results.\n",
        "\n",
        "2.Include comments and explanations in your code to help understand the implemented logic.\n",
        "\n",
        "3.Clearly present the results of your parameter tuning in the notebook.\n",
        "\n",
        "4.Provide a brief summary of your findings and insights in the conclusion section.\n",
        "\n",
        "**Additional Notes:**\n",
        "*   Ensure that the notebook runs successfully in Google Colab.\n",
        "*   Experiment with various seed texts to showcase the diversity of generated text.\n",
        "*   Document any issues encountered during experimentation and how you addressed them.\n",
        "\n",
        "**Grading:**\n",
        "*   Each task will be graded out of the specified points.\n",
        "*   Points will be awarded for correctness, clarity of code, thorough experimentation, and insightful analysis."
      ],
      "metadata": {
        "id": "75kVTQX6GsCn"
      }
    }
  ]
}