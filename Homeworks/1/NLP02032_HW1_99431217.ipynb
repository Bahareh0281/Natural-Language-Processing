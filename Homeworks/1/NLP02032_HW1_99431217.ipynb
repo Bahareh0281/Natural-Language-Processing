{
  "nbformat": 4,
  "nbformat_minor": 0,
  "metadata": {
    "colab": {
      "provenance": []
    },
    "kernelspec": {
      "name": "python3",
      "display_name": "Python 3"
    },
    "language_info": {
      "name": "python"
    }
  },
  "cells": [
    {
      "cell_type": "markdown",
      "source": [
        "#Q1: Probabilistic N-Gram Language Model(50 points)"
      ],
      "metadata": {
        "id": "a4NQTign_k_T"
      }
    },
    {
      "cell_type": "markdown",
      "source": [
        "**Objective:**\n",
        "\n",
        "The objective of this question is to implement and experiment with an N-Gram language model using the Reuters dataset. The task involves building a probabilistic N-Gram model and creating a text generator based on the trained model with customizable parameters.\n",
        "\n",
        "**Tasks:**\n",
        "\n",
        "\n",
        "**1.Text Preprocessing (5 points):**\n",
        "*   Implement the preprocess_text function to perform necessary text preprocessing. You may use NLTK or other relevant libraries for this task. (Already provided, no modification needed)\n",
        "\n",
        "\n",
        "**2.Build Probabilistic N-Gram Model (15 points):**\n",
        "\n",
        "*   Implement the build_probabilistic_ngram_model function to construct a probabilistic N-Gram model from the Reuters dataset.\n",
        "\n",
        "\n",
        "**3.Generate Text with Customizable Parameters (15 points):**\n",
        "\n",
        "*   Implement the generate_text function to generate text given a seed text and the probabilistic N-Gram model.\n",
        "*   The function should have parameters for probability_threshold and min_length to customize the generation process.\n",
        "*   Ensure that the generation stops when either the specified min_length is reached or the probabilities fall below probability_threshold.\n",
        "\n",
        "\n",
        "**4.Experimentation and Parameter Tuning (5 points):**\n",
        "\n",
        "*   Use Google Colab to experiment with different values of n_value, probability_threshold, and min_length.\n",
        "Find the optimal parameters that result in coherent and meaningful generated text.\n",
        "*   Provide a detailed analysis of the impact of changing each parameter on the generated text's quality.\n",
        "*   Discuss any challenges faced during parameter tuning and propose potential improvements.\n",
        "\n",
        "\n",
        "**5.Results and Conclusion (10 points):**\n",
        "\n",
        "*   Summarize your findings and present the optimal parameter values for n_value, probability_threshold, and min_length.\n",
        "*   Discuss the trade-offs and considerations when selecting these parameters.\n",
        "*   Conclude with insights gained from the experimentation."
      ],
      "metadata": {
        "id": "zDKtnG-HAH1k"
      }
    },
    {
      "cell_type": "code",
      "source": [
        "import nltk\n",
        "from nltk.corpus import reuters\n",
        "from nltk import ngrams\n",
        "import random\n",
        "import string\n",
        "from collections import defaultdict\n",
        "\n",
        "# Download the Reuters dataset if not already downloaded\n",
        "nltk.download('reuters')\n",
        "nltk.download('punkt')"
      ],
      "metadata": {
        "id": "3NWXJy-T-Vd7",
        "outputId": "f9429dd8-81df-458a-88e0-54024ee8dd45",
        "colab": {
          "base_uri": "https://localhost:8080/"
        }
      },
      "execution_count": 4,
      "outputs": [
        {
          "output_type": "stream",
          "name": "stderr",
          "text": [
            "[nltk_data] Downloading package reuters to /root/nltk_data...\n",
            "[nltk_data]   Package reuters is already up-to-date!\n",
            "[nltk_data] Downloading package punkt to /root/nltk_data...\n",
            "[nltk_data]   Package punkt is already up-to-date!\n"
          ]
        },
        {
          "output_type": "execute_result",
          "data": {
            "text/plain": [
              "True"
            ]
          },
          "metadata": {},
          "execution_count": 4
        }
      ]
    },
    {
      "cell_type": "markdown",
      "source": [
        "**Explanations of each Function:**\n",
        "\n",
        "\n",
        "**1.preprocess_text(text):**\n",
        "*   This function takes a text string as input and performs preprocessing steps on it. It tokenizes the text by lowercasing it and removing punctuation using the NLTK library's word_tokenize function. The function returns a list of tokens.\n",
        "\n",
        "**2.generate_ngrams(tokens, n):**\n",
        "*   This function generates n-grams from a list of tokens. It takes the list of tokens and the value of n as input. It pads the tokens with None values on the left and right to handle the boundaries of the n-grams. Then, it iterates over the padded tokens and creates tuples of n consecutive tokens, representing the n-grams. The function returns a list of n-grams.\n",
        "\n",
        "**3.build_probabilistic_ngram_model(corpus, n):**\n",
        "*   This function builds a probabilistic n-gram model from a corpus of tokens. It takes the corpus (a list of tokenized texts) and the value of n as input. It creates a defaultdict to store the n-gram model. It iterates over the corpus and generates n-grams using the pre-defined \"ngrams\" function or \"generate_ngrams\" function. Then, it updates the n-gram model by storing the context (tuple of n-1 tokens) as a key and the following word as a value. The n-gram model is stored as a dictionary of lists. Finally, it converts the model to probabilities by counting the occurrences of each word and dividing by the total count. The function returns the probabilistic n-gram model.\n",
        "\n",
        "**4.generate_text(model, seed_text, n, probability_threshold=0.1, min_length=10):**\n",
        "*   This function generates text based on a probabilistic n-gram model. It takes the model (built using \"build_probabilistic_ngram_model\"), a seed text, the value of n, a probability threshold, and a minimum length as input. It preprocesses the seed text using the preprocess_text function and initializes the generated text with the seed tokens. It then enters a loop to generate the remaining text until the minimum length is reached. In each iteration, it gets the context (tuple of the last n tokens) from the generated text and checks if it is in the model. If the context is in the model, it retrieves the probabilities for the next word based on the context. It filters the probabilities based on the threshold and selects the next word randomly using the random.choices function. The next word is added to the generated text. If the context is not in the model or no words are left after filtering, the loop breaks. Finally, the generated text is converted back to a string and returned."
      ],
      "metadata": {
        "id": "sBTenHV7hkjY"
      }
    },
    {
      "cell_type": "code",
      "execution_count": 15,
      "metadata": {
        "id": "Q9IHxAbU0N80"
      },
      "outputs": [],
      "source": [
        "# Function to preprocess text\n",
        "def preprocess_text(text):\n",
        "    # Tokenize the text (lowercasing)\n",
        "    tokens = nltk.word_tokenize(text.lower())\n",
        "\n",
        "    # Removing punctuation\n",
        "    tokens = [token for token in tokens if token not in string.punctuation]\n",
        "\n",
        "    return tokens\n",
        "\n",
        "# Function to generate n-grams\n",
        "def generate_ngrams(tokens, n):\n",
        "    # Pad the tokens with None values on the left and right\n",
        "    padded_tokens = [None] * (n - 1) + tokens + [None] * (n - 1)\n",
        "\n",
        "    # Generate n-grams\n",
        "    ngrams = []\n",
        "    for i in range(len(padded_tokens) - n + 1):\n",
        "        ngram = tuple(padded_tokens[i:i + n])\n",
        "        ngrams.append(ngram)\n",
        "\n",
        "    return ngrams\n",
        "\n",
        "# Function to build a probabilistic n-gram model\n",
        "def build_probabilistic_ngram_model(corpus, n):\n",
        "    # Create a defaultdict to store the n-gram model\n",
        "    ngram_model = defaultdict(list)\n",
        "\n",
        "    # Iterate over the corpus\n",
        "    for tokens in corpus:\n",
        "        # Create n-grams\n",
        "        # grams = list(ngrams(tokens, n, pad_left=True, pad_right=True)) # Pre-defined Function\n",
        "        grams = generate_ngrams(tokens, n) # Self-defined Function\n",
        "\n",
        "        # Update the n-gram model\n",
        "        for gram in grams:\n",
        "            context = tuple(gram[:-1])\n",
        "            word = gram[-1]\n",
        "            ngram_model[context].append(word)\n",
        "\n",
        "    # Convert the model to probabilities\n",
        "    for context, words in ngram_model.items():\n",
        "        word_counts = defaultdict(int)\n",
        "        total_count = len(words)\n",
        "        for word in words:\n",
        "            word_counts[word] += 1\n",
        "        probabilities = {}\n",
        "        for word, count in word_counts.items():\n",
        "            probabilities[word] = count / total_count\n",
        "        ngram_model[context] = probabilities\n",
        "    return ngram_model\n",
        "\n",
        "def generate_text(model, seed_text, n, probability_threshold=0.1, min_length=10):\n",
        "    # Preprocess the seed text\n",
        "    seed_tokens = preprocess_text(seed_text)\n",
        "\n",
        "    # Initialize the generated text with the seed text\n",
        "    generated_text = seed_tokens\n",
        "\n",
        "    # Generate the remaining text\n",
        "    while len(generated_text) < min_length:\n",
        "        # Get the context for the next word\n",
        "        context = tuple(generated_text[-n:])\n",
        "\n",
        "        # Check if the context is in the model\n",
        "        if context in model:\n",
        "            # Get the probabilities for the next word\n",
        "            probabilities = model[context]\n",
        "\n",
        "            # Filter the probabilities based on the threshold\n",
        "            filtered_probs = {word: prob for word, prob in probabilities.items() if prob >= probability_threshold}\n",
        "\n",
        "            # Check if there are any words left after filtering\n",
        "            if filtered_probs:\n",
        "                # Select the next word based on the probabilities\n",
        "                next_word = random.choices(list(filtered_probs.keys()), list(filtered_probs.values()))[0]\n",
        "\n",
        "                # Add the next word to the generated text\n",
        "                generated_text.append(next_word)\n",
        "            else:\n",
        "                # If no words are left, break the loop\n",
        "                # print(\"No words are left\")\n",
        "                break\n",
        "        else:\n",
        "            # If the context is not in the model, break the loop\n",
        "            # print(\"Context is not in the model\")\n",
        "            break\n",
        "\n",
        "    # Convert the generated text back to a string\n",
        "    generated_text = ' '.join(generated_text)\n",
        "\n",
        "    return generated_text"
      ]
    },
    {
      "cell_type": "code",
      "source": [
        "# Load the Reuters dataset\n",
        "corpus = [reuters.raw(file_id) for file_id in reuters.fileids()]\n",
        "\n",
        "# Preprocess the entire corpus\n",
        "preprocessed_corpus = [preprocess_text(text) for text in corpus]\n",
        "\n",
        "# Choose an n for the n-gram model\n",
        "n_value = 3  # You may change this value\n",
        "\n",
        "# Build the probabilistic n-gram model\n",
        "probabilistic_ngram_model = build_probabilistic_ngram_model(preprocessed_corpus, n_value)"
      ],
      "metadata": {
        "id": "eVVMe_s59Ngd"
      },
      "execution_count": 16,
      "outputs": []
    },
    {
      "cell_type": "code",
      "source": [
        "# Test the text generator with constant value of n\n",
        "seed_text = \"Inflation is\"\n",
        "Result = ' '.join(preprocess_text(seed_text))\n",
        "\n",
        "# Number of iterations\n",
        "words_count = 10\n",
        "\n",
        "for i in range(words_count):\n",
        "    generated_text = generate_text(probabilistic_ngram_model, seed_text, n_value, probability_threshold=0.02, min_length=5)\n",
        "    generated_words = generated_text.split()\n",
        "    print(f\"Generated Text: {generated_text}\")\n",
        "    seed_text = \" \".join(generated_words[-2:])\n",
        "    Result += (\" \" + \" \".join(generated_words[-1:]))\n",
        "\n",
        "print(f\"Result is: {Result}\")"
      ],
      "metadata": {
        "colab": {
          "base_uri": "https://localhost:8080/"
        },
        "id": "n_NV9OZiQZTc",
        "outputId": "dea06153-46f1-433d-8f6f-686192721eec"
      },
      "execution_count": 21,
      "outputs": [
        {
          "output_type": "stream",
          "name": "stdout",
          "text": [
            "Generated Text: inflation is likely\n",
            "Generated Text: is likely to\n",
            "Generated Text: likely to fall\n",
            "Generated Text: to fall to\n",
            "Generated Text: fall to about\n",
            "Generated Text: to about three\n",
            "Generated Text: about three months\n",
            "Generated Text: three months it\n",
            "Generated Text: months it wants\n",
            "Generated Text: it wants to\n",
            "Result is: inflation is likely to fall to about three months it wants to\n"
          ]
        }
      ]
    },
    {
      "cell_type": "code",
      "source": [
        "# for n_value in range (2, 10):\n",
        "#   print(\"n is: \", n_value)\n",
        "#   # Build the probabilistic n-gram model\n",
        "#   probabilistic_ngram_model = build_probabilistic_ngram_model(preprocessed_corpus, n_value)\n",
        "#   generated_text = generate_text(probabilistic_ngram_model, seed_text, n_value, probability_threshold=0.02, min_length=10)\n",
        "#   print(f\"Generated Text: {generated_text}\")\n",
        "#   seed_text = generated_text"
      ],
      "metadata": {
        "id": "XxX_xdADmmH7"
      },
      "execution_count": null,
      "outputs": []
    },
    {
      "cell_type": "markdown",
      "source": [
        "#Q2: Sentiment Analysis with Naive Bayes Classifier(50 Points)"
      ],
      "metadata": {
        "id": "dZ3XzDx7JUNN"
      }
    },
    {
      "cell_type": "markdown",
      "source": [
        "**Objective:**\n",
        "\n",
        "You are tasked with implementing a Naive Bayes classifier for sentiment analysis. The provided code is incomplete, and your goal is to complete the missing parts. Additionally, you should train the classifier on a small dataset and analyze its performance.\n",
        "\n",
        "**Tasks:**\n",
        "\n",
        "1.**Complete the Code (35 points)**: Fill in the missing parts in the provided Python code for the Naive Bayes classifier. Pay special attention to the `extract_features` function.\n",
        "\n",
        "2.**Train and Test**: Train the Naive Bayes classifier on the training data and test it on a separate test set. Evaluate the accuracy of the classifier.\n",
        "\n",
        "3.**Analysis (15 points)**: Discuss the results. Identify any misclassifications and try to understand why the classifier may fail in those cases. Provide examples of sentences that were not predicted correctly and explain possible reasons.\n"
      ],
      "metadata": {
        "id": "NMuVkjW2XfAp"
      }
    },
    {
      "cell_type": "code",
      "source": [
        "import random\n",
        "import math\n",
        "import string\n",
        "from collections import defaultdict\n",
        "\n",
        "from nltk.corpus import stopwords\n",
        "from nltk.stem import PorterStemmer\n",
        "from nltk.corpus import movie_reviews\n",
        "import nltk\n",
        "\n",
        "# Download NLTK resources\n",
        "nltk.download('movie_reviews')\n",
        "nltk.download('punkt')\n",
        "nltk.download('stopwords')"
      ],
      "metadata": {
        "id": "M68XJubdKeDL"
      },
      "execution_count": null,
      "outputs": []
    },
    {
      "cell_type": "code",
      "source": [
        "def get_features(tokens):\n",
        "    # Remove punctuation\n",
        "    tokens = [word for word in tokens if word not in string.punctuation]\n",
        "\n",
        "    # Remove stopwords\n",
        "    stop_words = set(stopwords.words('english'))\n",
        "    tokens = [word for word in tokens if word.lower() not in stop_words]\n",
        "\n",
        "    # Perform stemming\n",
        "    stemmer = PorterStemmer()\n",
        "    tokens = [stemmer.stem(word) for word in tokens]\n",
        "\n",
        "    return tokens"
      ],
      "metadata": {
        "id": "KSLo4_JoUcax"
      },
      "execution_count": null,
      "outputs": []
    },
    {
      "cell_type": "code",
      "source": [
        "class NaiveBayesClassifier:\n",
        "    def __init__(self, classes):\n",
        "        self.classes = classes\n",
        "        self.class_probs = defaultdict(float)\n",
        "        self.feature_probs = defaultdict(lambda: defaultdict(float))\n",
        "\n",
        "    def train(self, training_data):\n",
        "        # Implement training here\n",
        "        # You should use get_features function to extract useful tokens from\n",
        "        # dataset and use them to train the classifier.\n",
        "        pass\n",
        "\n",
        "    def classify(self, features):\n",
        "        # Implement classification here\n",
        "        pass"
      ],
      "metadata": {
        "id": "m2Whvjy_Jq8n"
      },
      "execution_count": null,
      "outputs": []
    },
    {
      "cell_type": "code",
      "source": [
        "# Load the movie reviews dataset from NLTK\n",
        "data = [(list(movie_reviews.words(fileid)), category)\n",
        "             for category in movie_reviews.categories()\n",
        "             for fileid in movie_reviews.fileids(category)]\n",
        "\n",
        "random.shuffle(data)\n",
        "\n",
        "# Shuffle the dataset for randomness\n",
        "random.shuffle(data)\n",
        "\n",
        "# Split the dataset into training and testing sets\n",
        "split_ratio = 0.8\n",
        "split_index = int(len(data) * split_ratio)\n",
        "train_set = data[:split_index]\n",
        "test_set = data[split_index:]\n",
        "\n",
        "# Train the Naive Bayes classifier\n",
        "classes = set(sentiment for _, sentiment in train_set)\n",
        "classifier = NaiveBayesClassifier(classes)\n",
        "classifier.train(train_set)\n",
        "\n",
        "def calculate_accuracy(dataset, dataset_type):\n",
        "    # Test the classifier on the testing set\n",
        "    correct_predictions = 0\n",
        "    for example in dataset:\n",
        "        tokens, true_sentiment = example\n",
        "        features = get_features(tokens)\n",
        "        predicted_sentiment = classifier.classify(features)\n",
        "        if predicted_sentiment == true_sentiment:\n",
        "            correct_predictions += 1\n",
        "\n",
        "    accuracy = correct_predictions / len(dataset)\n",
        "    print(f\"{dataset_type} Accuracy: {accuracy}\")\n",
        "\n",
        "calculate_accuracy(train_set, 'Train')\n",
        "calculate_accuracy(test_set, 'Test')"
      ],
      "metadata": {
        "id": "j2jeyI6nKooE"
      },
      "execution_count": null,
      "outputs": []
    },
    {
      "cell_type": "markdown",
      "source": [
        "#Submission Instructions:\n"
      ],
      "metadata": {
        "id": "Nfl8UA42Gqjf"
      }
    },
    {
      "cell_type": "markdown",
      "source": [
        "1.Submit a Google Colab notebook containing your completed code and experimentation results.\n",
        "\n",
        "2.Include comments and explanations in your code to help understand the implemented logic.\n",
        "\n",
        "3.Clearly present the results of your parameter tuning in the notebook.\n",
        "\n",
        "4.Provide a brief summary of your findings and insights in the conclusion section.\n",
        "\n",
        "**Additional Notes:**\n",
        "*   Ensure that the notebook runs successfully in Google Colab.\n",
        "*   Experiment with various seed texts to showcase the diversity of generated text.\n",
        "*   Document any issues encountered during experimentation and how you addressed them.\n",
        "\n",
        "**Grading:**\n",
        "*   Each task will be graded out of the specified points.\n",
        "*   Points will be awarded for correctness, clarity of code, thorough experimentation, and insightful analysis."
      ],
      "metadata": {
        "id": "75kVTQX6GsCn"
      }
    }
  ]
}