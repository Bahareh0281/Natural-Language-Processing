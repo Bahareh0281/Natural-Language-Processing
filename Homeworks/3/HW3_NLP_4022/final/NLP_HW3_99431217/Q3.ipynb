{
  "nbformat": 4,
  "nbformat_minor": 0,
  "metadata": {
    "colab": {
      "provenance": []
    },
    "kernelspec": {
      "name": "python3",
      "display_name": "Python 3"
    },
    "language_info": {
      "name": "python"
    }
  },
  "cells": [
    {
      "cell_type": "markdown",
      "source": [
        "# Q3"
      ],
      "metadata": {
        "id": "NgQDc4v3TfsF"
      }
    },
    {
      "cell_type": "markdown",
      "source": [
        "*   We will develop a NER system specific to the category of names of the top 1000 movie titles from IMDB.\n",
        "\n",
        "*   We will evaluate the system on a collection of text likely to contain instances of these named entities."
      ],
      "metadata": {
        "id": "r3BJFGcYT-LV"
      }
    },
    {
      "cell_type": "code",
      "source": [
        "import nltk\n",
        "nltk.download('punkt')"
      ],
      "metadata": {
        "id": "GnwTjXyH5Xls",
        "colab": {
          "base_uri": "https://localhost:8080/"
        },
        "outputId": "ce9ae4b7-b572-4390-da6f-93f76bef00c7"
      },
      "execution_count": 36,
      "outputs": [
        {
          "output_type": "stream",
          "name": "stderr",
          "text": [
            "[nltk_data] Downloading package punkt to /root/nltk_data...\n",
            "[nltk_data]   Package punkt is already up-to-date!\n"
          ]
        },
        {
          "output_type": "execute_result",
          "data": {
            "text/plain": [
              "True"
            ]
          },
          "metadata": {},
          "execution_count": 36
        }
      ]
    },
    {
      "cell_type": "code",
      "source": [
        "import re\n",
        "import csv\n",
        "import math\n",
        "import nltk\n",
        "nltk.download('brown')\n",
        "nltk.download('movie_reviews')\n",
        "from nltk.corpus import brown, movie_reviews\n",
        "from nltk.tokenize import word_tokenize"
      ],
      "metadata": {
        "id": "o3DlFdNPT95l",
        "colab": {
          "base_uri": "https://localhost:8080/"
        },
        "outputId": "411525c7-e95c-41c3-9c48-9a70303e01a6"
      },
      "execution_count": 37,
      "outputs": [
        {
          "output_type": "stream",
          "name": "stderr",
          "text": [
            "[nltk_data] Downloading package brown to /root/nltk_data...\n",
            "[nltk_data]   Package brown is already up-to-date!\n",
            "[nltk_data] Downloading package movie_reviews to /root/nltk_data...\n",
            "[nltk_data]   Package movie_reviews is already up-to-date!\n"
          ]
        }
      ]
    },
    {
      "cell_type": "code",
      "source": [
        "def get_top_1000_list():\n",
        "    \"\"\"\n",
        "    Function to extract movie titles from a IMDB-top-1000.csv file.\n",
        "\n",
        "    Returns:\n",
        "        list: A list of unique titles of the top 1000 movies\n",
        "    \"\"\"\n",
        "    movie_titles = []\n",
        "    csv_file_path = 'IMDB-top-1000.csv'\n",
        "    with open(csv_file_path, 'r', encoding='utf-8') as file:\n",
        "        reader = csv.reader(file)\n",
        "        next(reader)\n",
        "        for row in reader:\n",
        "          # print (type(row))\n",
        "          # print(\"Row is: \", row)\n",
        "            title = row[1]\n",
        "            movie_titles.append(title.split())\n",
        "\n",
        "    # collected_titles =  list(set(movie_titles))  # Return unique movie titles\n",
        "    collected_titles = movie_titles\n",
        "    return collected_titles"
      ],
      "metadata": {
        "id": "5hHLacEwzP3q"
      },
      "execution_count": 38,
      "outputs": []
    },
    {
      "cell_type": "code",
      "source": [
        "# Example usage\n",
        "movie_titles = get_top_1000_list()\n",
        "print(movie_titles)"
      ],
      "metadata": {
        "colab": {
          "base_uri": "https://localhost:8080/"
        },
        "id": "d3WMjuXDoqo8",
        "outputId": "8591362c-6df7-418f-c110-e580e9794de1"
      },
      "execution_count": 39,
      "outputs": [
        {
          "output_type": "stream",
          "name": "stdout",
          "text": [
            "[['The', 'Shawshank', 'Redemption'], ['The', 'Godfather'], ['The', 'Dark', 'Knight'], ['The', 'Lord', 'of', 'the', 'Rings:', 'The', 'Return', 'of', 'the', 'King'], [\"Schindler's\", 'List'], ['The', 'Godfather', 'Part', 'II'], ['12', 'Angry', 'Men'], ['Jai', 'Bhim'], ['Pulp', 'Fiction'], ['Inception'], ['The', 'Lord', 'of', 'the', 'Rings:', 'The', 'Two', 'Towers'], ['Fight', 'Club'], ['The', 'Lord', 'of', 'the', 'Rings:', 'The', 'Fellowship', 'of', 'the', 'Ring'], ['Forrest', 'Gump'], ['The', 'Good,', 'the', 'Bad', 'and', 'the', 'Ugly'], ['Soorarai', 'Pottru'], ['The', 'Matrix'], ['Goodfellas'], ['Star', 'Wars:', 'Episode', 'V', '-', 'The', 'Empire', 'Strikes', 'Back'], ['One', 'Flew', 'Over', 'the', \"Cuckoo's\", 'Nest'], ['Top', 'Gun:', 'Maverick'], ['Interstellar'], ['City', 'of', 'God'], ['Spirited', 'Away'], ['Saving', 'Private', 'Ryan'], ['The', 'Green', 'Mile'], ['Life', 'Is', 'Beautiful'], ['Seven'], ['Terminator', '2:', 'Judgment', 'Day'], ['The', 'Silence', 'of', 'the', 'Lambs'], ['Star', 'Wars'], ['Harakiri'], ['Seven', 'Samurai'], [\"It's\", 'a', 'Wonderful', 'Life'], ['Asuran'], ['Parasite'], ['Whiplash'], ['Untouchable'], ['K.G.F:', 'Chapter', '2'], ['Sardar', 'Udham'], ['The', 'Prestige'], ['The', 'Departed'], ['The', 'Pianist'], ['Gladiator'], ['American', 'History', 'X'], ['The', 'Usual', 'Suspects'], ['Leon'], ['The', 'Lion', 'King'], ['Cinema', 'Paradiso'], ['Grave', 'of', 'the', 'Fireflies'], ['Back', 'to', 'the', 'Future'], ['Apocalypse', 'Now'], ['Alien'], ['Once', 'Upon', 'a', 'Time', 'in', 'the', 'West'], ['Psycho'], ['Rear', 'Window'], ['Casablanca'], ['Modern', 'Times'], ['City', 'Lights'], ['Hamilton'], ['Capernaum'], ['Joker'], ['96'], ['Your', 'Name.'], ['Spider-Man:', 'Into', 'the', 'Spider-Verse'], ['Avengers:', 'Endgame'], ['Avengers:', 'Infinity', 'War'], ['Coco'], ['Django', 'Unchained'], ['The', 'Dark', 'Knight', 'Rises'], ['Drishyam', '2'], ['3', 'Idiots'], ['Shershaah'], ['WALL·E'], ['The', 'Lives', 'of', 'Others'], ['Oldboy'], ['Memento'], ['American', 'Beauty'], ['Princess', 'Mononoke'], ['Braveheart'], ['Aliens'], ['Amadeus'], ['Raiders', 'of', 'the', 'Lost', 'Ark'], ['Das', 'Boot'], ['The', 'Shining'], ['High', 'and', 'Low'], ['Dr.', 'Strangelove', 'or:', 'How', 'I', 'Learned', 'to', 'Stop', 'Worrying', 'and', 'Love', 'the', 'Bomb'], ['Witness', 'for', 'the', 'Prosecution'], ['Paths', 'of', 'Glory'], ['Sunset', 'Blvd.'], ['The', 'Great', 'Dictator'], ['Raatchasan'], ['Everything', 'Everywhere', 'All', 'at', 'Once'], ['Ayla'], ['Dangal'], ['Drishyam'], ['The', 'Hunt'], ['A', 'Separation'], ['Incendies'], ['Spider-Man:', 'No', 'Way', 'Home'], ['Up'], ['Like', 'Stars', 'on', 'Earth'], ['Toy', 'Story', '3'], ['Inglourious', 'Basterds'], ['Eternal', 'Sunshine', 'of', 'the', 'Spotless', 'Mind'], ['Amélie'], ['Snatch'], ['Requiem', 'for', 'a', 'Dream'], ['Good', 'Will', 'Hunting'], ['Toy', 'Story'], ['Heat'], ['Reservoir', 'Dogs'], ['Full', 'Metal', 'Jacket'], ['Come', 'and', 'See'], ['Once', 'Upon', 'a', 'Time', 'in', 'America'], ['Scarface'], ['Star', 'Wars:', 'Return', 'of', 'the', 'Jedi'], ['The', 'Sting'], ['A', 'Clockwork', 'Orange'], ['2001:', 'A', 'Space', 'Odyssey'], ['To', 'Kill', 'a', 'Mockingbird'], ['Lawrence', 'of', 'Arabia'], ['Judgment', 'at', 'Nuremberg'], ['The', 'Apartment'], ['North', 'by', 'Northwest'], ['Vertigo'], ['Pather', 'Panchali'], [\"Singin'\", 'in', 'the', 'Rain'], ['Ikiru'], ['Bicycle', 'Thieves'], ['Double', 'Indemnity'], ['Citizen', 'Kane'], ['M'], ['Metropolis'], ['The', 'Kid'], ['Chhichhore'], ['1917'], ['Uri:', 'The', 'Surgical', 'Strike'], ['Tumbbad'], ['Andhadhun'], ['K.G.F'], ['Green', 'Book'], ['Vikram', 'Vedha'], ['Baahubali', '2:', 'The', 'Conclusion'], ['Drishyam'], ['Bhaag', 'Milkha', 'Bhaag'], ['Inside', 'Out'], ['Gangs', 'of', 'Wasseypur'], ['Paan', 'Singh', 'Tomar'], ['The', 'Secret', 'in', 'Their', 'Eyes'], ['Warrior'], ['Shutter', 'Island'], ['Demon', 'Slayer', 'the', 'Movie:', 'Mugen', 'Train'], ['Miracle', 'in', 'Cell', 'No.', '7'], ['Article', '15'], ['The', 'Father'], ['The', 'Wolf', 'of', 'Wall', 'Street'], ['No', 'Country', 'for', 'Old', 'Men'], ['My', 'Father', 'and', 'My', 'Son'], ['There', 'Will', 'Be', 'Blood'], [\"Pan's\", 'Labyrinth'], ['V', 'for', 'Vendetta'], ['Batman', 'Begins'], ['Downfall'], [\"Howl's\", 'Moving', 'Castle'], ['A', 'Beautiful', 'Mind'], ['Kill', 'Bill:', 'Vol.', '1'], ['Finding', 'Nemo'], ['The', 'Sixth', 'Sense'], ['Lock,', 'Stock', 'and', 'Two', 'Smoking', 'Barrels'], ['The', 'Truman', 'Show'], ['L.A.', 'Confidential'], ['Children', 'of', 'Heaven'], ['Casino'], ['Jurassic', 'Park'], ['Unforgiven'], ['Indiana', 'Jones', 'and', 'the', 'Last', 'Crusade'], ['Die', 'Hard'], ['Ran'], ['The', 'Thing'], ['Raging', 'Bull'], ['The', 'Elephant', 'Man'], ['Taxi', 'Driver'], ['Monty', 'Python', 'and', 'the', 'Holy', 'Grail'], ['Dersu', 'Uzala'], ['Chinatown'], ['Z'], ['For', 'a', 'Few', 'Dollars', 'More'], ['The', 'Great', 'Escape'], ['Yojimbo'], ['Some', 'Like', 'It', 'Hot'], ['The', 'Bridge', 'on', 'the', 'River', 'Kwai'], ['Dial', 'M', 'for', 'Murder'], ['Tokyo', 'Story'], ['The', 'Wages', 'of', 'Fear'], ['Umberto', 'D.'], ['Rashomon'], ['All', 'About', 'Eve'], ['The', 'Treasure', 'of', 'the', 'Sierra', 'Madre'], ['To', 'Be', 'or', 'Not', 'to', 'Be'], ['Gone', 'with', 'the', 'Wind'], ['The', 'Passion', 'of', 'Joan', 'of', 'Arc'], ['The', 'General'], ['The', 'Gold', 'Rush'], ['Sherlock', 'Jr.'], ['Portrait', 'of', 'a', 'Lady', 'on', 'Fire'], ['RRR'], ['Pink'], ['A', 'Silent', 'Voice'], ['Three', 'Billboards', 'Outside', 'Ebbing,', 'Missouri'], ['Talvar'], ['Klaus'], ['Masaan'], ['The', 'Handmaiden'], ['Bajrangi', 'Bhaijaan'], ['Haider'], ['Queen'], ['Logan'], ['Room'], ['Wild', 'Tales'], ['Tangerines'], ['PK'], ['OMG:', 'Oh', 'My', 'God!'], ['The', 'Grand', 'Budapest', 'Hotel'], ['Gone', 'Girl'], ['Wolf', 'Children'], ['Hacksaw', 'Ridge'], ['Barfi!'], ['12', 'Years', 'a', 'Slave'], ['Rush'], ['Le', 'Mans', \"'66\"], ['Spotlight'], ['Kahaani'], ['Udaan'], ['Zindagi', 'Na', 'Milegi', 'Dobara'], ['The', 'Help'], ['Prisoners'], ['Mad', 'Max:', 'Fury', 'Road'], ['A', 'Wednesday'], ['Gran', 'Torino'], ['Harry', 'Potter', 'and', 'the', 'Deathly', 'Hallows:', 'Part', '2'], ['Hachi:', 'A', \"Dog's\", 'Tale'], ['Mary', 'and', 'Max'], ['How', 'to', 'Train', 'Your', 'Dragon'], ['Chakde!', 'India'], ['Into', 'the', 'Wild'], ['Color', 'It', 'Yellow'], ['Million', 'Dollar', 'Baby'], ['Hotel', 'Rwanda'], ['Ratatouille'], ['Before', 'Sunset'], ['Black'], ['Munna', 'Bhai', 'M.B.B.S.'], ['Swades:', 'We,', 'the', 'People'], ['Memories', 'of', 'Murder'], ['Pirates', 'of', 'the', 'Caribbean:', 'The', 'Curse', 'of', 'the', 'Black', 'Pearl'], ['Dil', 'Chahta', 'Hai'], ['Catch', 'Me', 'If', 'You', 'Can'], [\"Everything's\", 'Gonna', 'Be', 'Great'], ['Amores', 'perros'], ['Hera', 'Pheri'], ['Sarfarosh'], ['Monsters,', 'Inc.'], ['Lagaan:', 'Once', 'Upon', 'a', 'Time', 'in', 'India'], ['The', 'Celebration'], ['The', 'Iron', 'Giant'], ['The', 'Big', 'Lebowski'], ['Trainspotting'], ['Fargo'], ['The', 'Bandit'], ['Underground'], ['La', 'Haine'], ['Before', 'Sunrise'], ['Three', 'Colours:', 'Red'], ['In', 'the', 'Name', 'of', 'the', 'Father'], ['Groundhog', 'Day'], ['Farewell', 'My', 'Concubine'], ['Raise', 'the', 'Red', 'Lantern'], ['Time', 'of', 'the', 'Gypsies'], ['Dead', 'Poets', 'Society'], ['My', 'Neighbour', 'Totoro'], ['Stand', 'by', 'Me'], ['Platoon'], ['Jean', 'de', 'Florette'], ['The', 'Terminator'], ['Gandhi'], ['Fanny', 'and', 'Alexander'], ['Blade', 'Runner'], ['Stalker'], ['Autumn', 'Sonata'], ['The', 'Deer', 'Hunter'], ['Rocky'], ['Network'], ['The', 'Message'], ['Sholay'], ['Jaws'], ['Barry', 'Lyndon'], ['Paper', 'Moon'], ['The', 'Exorcist'], ['Anand'], ['Cool', 'Hand', 'Luke'], ['Persona'], ['The', 'Sound', 'of', 'Music'], ['The', 'Battle', 'of', 'Algiers'], ['The', 'Man', 'Who', 'Shot', 'Liberty', 'Valance'], ['The', 'Virgin', 'Spring'], ['Inherit', 'the', 'Wind'], ['The', '400', 'Blows'], ['Ben-Hur'], ['The', 'Hidden', 'Fortress'], ['Wild', 'Strawberries'], ['The', 'Seventh', 'Seal'], ['Nights', 'of', 'Cabiria'], ['Throne', 'of', 'Blood'], ['Rififi'], ['On', 'the', 'Waterfront'], ['Les', 'Diaboliques'], ['Ace', 'in', 'the', 'Hole'], ['White', 'Heat'], ['The', 'Third', 'Man'], ['The', 'Red', 'Shoes'], ['The', 'Best', 'Years', 'of', 'Our', 'Lives'], ['The', 'Shop', 'Around', 'the', 'Corner'], ['Rebecca'], ['The', 'Grapes', 'of', 'Wrath'], ['The', 'Wizard', 'of', 'Oz'], ['Mr.', 'Smith', 'Goes', 'to', 'Washington'], ['La', 'Grande', 'Illusion'], ['It', 'Happened', 'One', 'Night'], ['All', 'Quiet', 'on', 'the', 'Western', 'Front'], ['The', 'Circus'], ['Sunrise:', 'A', 'Song', 'of', 'Two', 'Humans'], ['Badhaai', 'Ho'], ['Wolfwalkers'], ['The', 'Invisible', 'Guest'], ['La', 'La', 'Land'], ['Lion'], ['The', 'Martian'], ['Mommy'], ['Soul'], ['Zootropolis'], ['Winter', 'Sleep'], ['Baahubali:', 'The', 'Beginning'], ['The', 'Tale', 'of', 'the', 'Princess', 'Kaguya'], ['Special', 'Chabbis'], ['The', 'Imitation', 'Game'], ['Guardians', 'of', 'the', 'Galaxy'], ['Song', 'of', 'the', 'Sea'], ['Blade', 'Runner', '2049'], ['Her'], ['The', 'Revenant'], ['The', 'Perks', 'of', 'Being', 'a', 'Wallflower'], ['Elite', 'Squad', '2:', 'The', 'Enemy', 'Within'], ['The', \"King's\", 'Speech'], ['Deadpool'], ['Zack', \"Snyder's\", 'Justice', 'League'], ['Ip', 'Man'], ['Dune'], ['Departures'], ['CODA'], ['Slumdog', 'Millionaire'], ['Black', 'Swan'], ['Elite', 'Squad'], ['Avengers', 'Assemble'], ['Persepolis'], ['Lage', 'Raho', 'Munna', 'Bhai'], ['The', 'Pursuit', 'of', 'Happyness'], ['Blood', 'Diamond'], ['The', 'Bourne', 'Ultimatum'], ['Nobody', 'Knows'], ['Sin', 'City'], ['The', 'Diving', 'Bell', 'and', 'the', 'Butterfly'], ['Brotherhood'], ['G.O.R.A.'], ['Casino', 'Royale'], ['Kill', 'Bill:', 'Vol.', '2'], ['Spring,', 'Summer,', 'Fall,', 'Winter...', 'And', 'Spring'], ['The', 'Sea', 'Inside'], ['Cinderella', 'Man'], ['Infernal', 'Affairs'], ['Big', 'Fish'], ['The', 'Incredibles'], ['My', 'Sassy', 'Girl'], ['Dogville'], ['Vizontele'], ['Donnie', 'Darko'], ['Magnolia'], ['Neon', 'Genesis', 'Evangelion:', 'The', 'End', 'of', 'Evangelion'], ['The', 'Straight', 'Story'], ['Perfect', 'Blue'], ['Central', 'Station'], ['The', 'Legend', 'of', '1900'], ['Black', 'Cat,', 'White', 'Cat'], ['In', 'the', 'Mood', 'for', 'Love'], ['Sling', 'Blade'], ['Secrets', '&', 'Lies'], ['Twelve', 'Monkeys'], ['Dilwale', 'Dulhania', 'Le', 'Jayenge'], ['Chungking', 'Express'], ['Andaz', 'Apna', 'Apna'], ['Scent', 'of', 'a', 'Woman'], ['Aladdin'], ['JFK'], ['Beauty', 'and', 'the', 'Beast'], ['Dances', 'with', 'Wolves'], ['Rain', 'Man'], ['Akira'], ['The', 'Princess', 'Bride'], ['Wings', 'of', 'Desire'], ['Au', 'Revoir', 'les', 'Enfants'], ['Laputa:', 'Castle', 'in', 'the', 'Sky'], ['Paris,', 'Texas'], ['Nausicaä', 'of', 'the', 'Valley', 'of', 'the', 'Wind'], ['Nostalgia'], ['Pink', 'Floyd:', 'The', 'Wall'], ['Fitzcarraldo'], ['Life', 'of', 'Brian'], ['Being', 'There'], ['Annie', 'Hall'], ['Dog', 'Day', 'Afternoon'], ['Mirror'], ['Young', 'Frankenstein'], ['Papillon'], ['Cries', 'and', 'Whispers'], ['Solaris'], ['Sleuth'], ['The', 'Last', 'Picture', 'Show'], ['Fiddler', 'on', 'the', 'Roof'], ['Butch', 'Cassidy', 'and', 'the', 'Sundance', 'Kid'], [\"Rosemary's\", 'Baby'], ['Planet', 'of', 'the', 'Apes'], ['Le', 'Samouraï'], ['The', 'Graduate'], [\"Who's\", 'Afraid', 'of', 'Virginia', 'Woolf?'], ['Andrei', 'Rublev'], ['The', 'Leopard'], ['Federico', \"Fellini's\", '8½'], ['The', 'Exterminating', 'Angel'], ['What', 'Ever', 'Happened', 'to', 'Baby', 'Jane?'], ['Sanjuro'], [\"Ivan's\", 'Childhood'], ['The', 'Hustler'], ['La', 'dolce', 'vita'], ['Rio', 'Bravo'], ['Anatomy', 'of', 'a', 'Murder'], ['Touch', 'of', 'Evil'], ['Sweet', 'Smell', 'of', 'Success'], ['The', 'Killing'], ['The', 'Night', 'of', 'the', 'Hunter'], ['La', 'Strada'], ['Stalag', '17'], ['Roman', 'Holiday'], ['High', 'Noon'], ['Kind', 'Hearts', 'and', 'Coronets'], ['Out', 'of', 'the', 'Past'], ['Rome,', 'Open', 'City'], ['Mildred', 'Pierce'], ['Brief', 'Encounter'], ['The', 'Maltese', 'Falcon'], ['Battleship', 'Potemkin'], ['The', 'Cabinet', 'of', 'Dr.', 'Caligari'], ['Knives', 'Out'], ['Shoplifters'], ['Marriage', 'Story'], ['Super', '30'], ['Padman'], ['Togo'], ['Airlift'], ['M.S.', 'Dhoni:', 'The', 'Untold', 'Story'], ['Baby'], ['Sing', 'Street'], ['Thor:', 'Ragnarok'], ['Jojo', 'Rabbit'], ['Wonder'], ['Arrival'], ['Gully', 'Boy'], ['Short', 'Term', '12'], ['The', 'Raid', '2'], ['Before', 'Midnight'], ['X-Men:', 'Days', 'of', 'Future', 'Past'], ['The', 'Batman'], ['Bohemian', 'Rhapsody'], ['The', 'Way', 'He', 'Looks'], ['The', 'Artist'], ['Edge', 'of', 'Tomorrow'], ['Amour'], ['About', 'Elly'], ['Dev.D'], ['My', 'Name', 'Is', 'Khan'], ['The', 'Breath'], ['Let', 'the', 'Right', 'One', 'In'], ['District', '9'], ['The', 'Wrestler'], ['Jab', 'We', 'Met'], ['Boyhood'], ['The', 'Worst', 'Person', 'in', 'the', 'World'], ['4', 'Months,', '3', 'Weeks', 'and', '2', 'Days'], ['Star', 'Trek'], ['Dallas', 'Buyers', 'Club'], ['In', 'Bruges'], ['The', 'Man', 'from', 'Earth'], ['Letters', 'from', 'Iwo', 'Jima'], ['Life', 'of', 'Pi'], ['Fantastic', 'Mr.', 'Fox'], ['3-Iron'], ['C.R.A.Z.Y.'], ['The', 'Return'], ['Iron', 'Man'], ['Shaun', 'of', 'the', 'Dead'], ['Kal', 'Ho', 'Naa', 'Ho'], ['Head-On'], ['Mystic', 'River'], ['Harry', 'Potter', 'and', 'the', 'Prisoner', 'of', 'Azkaban'], ['Hero'], ['Talk', 'to', 'Her'], ['No', \"Man's\", 'Land'], ['The', 'Bourne', 'Identity'], ['Nine', 'Queens'], ['Children', 'of', 'Men'], ['Crouching', 'Tiger,', 'Hidden', 'Dragon'], ['Almost', 'Famous'], ['Dancer', 'in', 'the', 'Dark'], ['Mulholland', 'Drive'], ['Shrek'], ['Toy', 'Story', '2'], ['Titanic'], [\"Knockin'\", 'on', \"Heaven's\", 'Door'], ['Boogie', 'Nights'], ['Whisper', 'of', 'the', 'Heart'], ['Ghost', 'in', 'the', 'Shell'], ['Once', 'Were', 'Warriors'], ['True', 'Romance'], ['Three', 'Colors:', 'Blue'], ['The', 'Nightmare', 'Before', 'Christmas'], [\"Carlito's\", 'Way'], ['Blood', 'In,', 'Blood', 'Out'], ['Edward', 'Scissorhands'], ['My', 'Left', 'Foot'], ['Do', 'the', 'Right', 'Thing'], ['The', 'Untouchables'], ['The', 'Sacrifice'], ['Hannah', 'and', 'Her', 'Sisters'], ['Brazil'], ['This', 'Is', 'Spinal', 'Tap'], ['A', 'Christmas', 'Story'], ['E.T.', 'the', 'Extra-Terrestrial'], ['Kagemusha'], ['The', 'Blues', 'Brothers'], ['Manhattan'], ['All', 'the', \"President's\", 'Men'], ['Amarcord'], ['Harold', 'and', 'Maude'], ['Patton'], ['The', 'Conformist'], ['The', 'Wild', 'Bunch'], ['The', 'Lion', 'in', 'Winter'], ['In', 'the', 'Heat', 'of', 'the', 'Night'], ['In', 'Cold', 'Blood'], ['Doctor', 'Zhivago'], ['A', 'Fistful', 'of', 'Dollars'], ['Charade'], ['Vivre', 'Sa', 'Vie'], ['The', 'Manchurian', 'Candidate'], ['Spartacus'], ['Hiroshima', 'Mon', 'Amour'], ['Cat', 'on', 'a', 'Hot', 'Tin', 'Roof'], ['The', 'Ten', 'Commandments'], ['The', 'Searchers'], ['The', 'Big', 'Heat'], ['A', 'Streetcar', 'Named', 'Desire'], ['Strangers', 'on', 'a', 'Train'], ['In', 'a', 'Lonely', 'Place'], ['Harvey'], ['Rope'], ['Miracle', 'on', '34th', 'Street'], ['Notorious'], ['The', 'Big', 'Sleep'], ['La', 'Belle', 'et', 'la', 'Bête'], ['The', 'Lost', 'Weekend'], ['Laura'], ['Arsenic', 'and', 'Old', 'Lace'], [\"Sullivan's\", 'Travels'], ['The', 'Philadelphia', 'Story'], ['La', 'Règle', 'du', 'Jeu'], ['The', 'Adventures', 'of', 'Robin', 'Hood'], ['The', 'Thin', 'Man'], ['King', 'Kong'], ['Freaks'], ['Nosferatu'], ['The', 'Gentlemen'], ['Dragon', 'Ball', 'Super:', 'Broly'], ['Hindi', 'Medium'], ['Call', 'Me', 'by', 'Your', 'Name'], ['I,', 'Daniel', 'Blake'], ['Isle', 'of', 'Dogs'], ['Dunkirk'], ['Hidden', 'Figures'], ['Hunt', 'for', 'the', 'Wilderpeople'], ['Paddington', '2'], ['Manchester', 'by', 'the', 'Sea'], ['Land', 'of', 'Mine'], ['Rogue', 'One'], ['Captain', 'Fantastic'], ['Captain', 'America:', 'Civil', 'War'], ['The', 'Hateful', 'Eight'], ['Little', 'Women'], ['Loving', 'Vincent'], ['Pride'], ['Nightcrawler'], ['Star', 'Wars:', 'Episode', 'VII', '-', 'The', 'Force', 'Awakens'], ['The', 'Lunchbox'], ['Vicky', 'Donor'], ['Big', 'Hero', '6'], ['About', 'Time'], ['English', 'Vinglish'], ['Deception'], ['Captain', 'America:', 'The', 'Winter', 'Soldier'], ['Once', 'Upon', 'a', 'Time', 'in', 'Anatolia'], ['Moonrise', 'Kingdom'], ['How', 'to', 'Train', 'Your', 'Dragon', '2'], ['The', 'Big', 'Short'], ['I', 'Saw', 'the', 'Devil'], ['The', 'Girl', 'with', 'the', 'Dragon', 'Tattoo'], ['Captain', 'Phillips'], ['Straight', 'Outta', 'Compton'], ['The', 'Irishman'], ['The', 'Social', 'Network'], ['A', 'Prophet'], ['Mother'], ['The', 'Chaser'], ['Moon'], ['The', 'Hobbit:', 'The', 'Desolation', 'of', 'Smaug'], ['The', 'White', 'Ribbon'], ['The', 'Girl', 'with', 'the', 'Dragon', 'Tattoo'], ['Skyfall'], ['The', 'Fighter'], ['Taken'], ['Once'], ['The', 'Hobbit:', 'An', 'Unexpected', 'Journey'], ['Changeling'], ['Atonement'], ['Drive'], ['American', 'Gangster'], ['Avatar'], ['Mr.', 'Nobody'], ['Apocalypto'], ['The', 'Fall'], ['Little', 'Miss', 'Sunshine'], ['Hot', 'Fuzz'], ['The', 'Curious', 'Case', 'of', 'Benjamin', 'Button'], ['Veer', 'Zaara'], ['Pride', '&', 'Prejudice'], ['The', \"World's\", 'Fastest', 'Indian'], ['Tokyo', 'Godfathers'], ['Serenity'], ['Crash'], ['The', 'Chorus'], ['Walk', 'the', 'Line'], ['The', 'Notebook'], ['The', 'Last', 'Samurai'], ['The', 'Motorcycle', 'Diaries'], ['Lilya', '4-Ever'], ['Millennium', 'Actress'], ['Cowboy', 'Bebop:', 'The', 'Movie'], ['Joint', 'Security', 'Area'], ['Remember', 'the', 'Titans'], ['All', 'About', 'My', 'Mother'], ['Cast', 'Away'], ['The', 'Insider'], ['October', 'Sky'], ['Being', 'John', 'Malkovich'], ['Gattaca'], ['Hamlet'], ['Breaking', 'the', 'Waves'], ['Ed', 'Wood'], ['Tombstone'], ['The', 'Sandlot', 'Kids'], ['The', 'Remains', 'of', 'the', 'Day'], ['Ninja', 'Scroll'], ['The', 'Fugitive'], ['A', 'Bronx', 'Tale'], ['Batman:', 'Mask', 'of', 'the', 'Phantasm'], ['Boyz', 'n', 'the', 'Hood'], ['Misery'], ['Awakenings'], [\"Kiki's\", 'Delivery', 'Service'], ['Glory'], ['The', 'Killer'], ['Crimes', 'and', 'Misdemeanors'], ['Back', 'to', 'the', 'Future', 'Part', 'II'], ['Mississippi', 'Burning'], ['Predator'], ['Ferris', \"Bueller's\", 'Day', 'Off'], ['The', 'Breakfast', 'Club'], ['The', 'Killing', 'Fields'], ['Ghostbusters'], ['The', 'Right', 'Stuff'], ['The', 'King', 'of', 'Comedy'], ['Kramer', 'vs.', 'Kramer'], ['All', 'That', 'Jazz'], ['Days', 'of', 'Heaven'], ['Dawn', 'of', 'the', 'Dead'], ['The', 'Outlaw', 'Josey', 'Wales'], ['The', 'Man', 'Who', 'Would', 'Be', 'King'], ['The', 'Holy', 'Mountain'], ['The', 'Conversation'], ['The', 'Day', 'of', 'the', 'Jackal'], ['The', 'Discreet', 'Charm', 'of', 'the', 'Bourgeoisie'], ['Aguirre,', 'the', 'Wrath', 'of', 'God'], ['Willy', 'Wonka', '&', 'the', 'Chocolate', 'Factory'], ['Midnight', 'Cowboy'], ['Night', 'of', 'the', 'Living', 'Dead'], ['Guess', \"Who's\", 'Coming', 'to', 'Dinner'], ['The', 'Umbrellas', 'of', 'Cherbourg'], ['My', 'Fair', 'Lady'], ['Mary', 'Poppins'], ['The', 'Innocents'], [\"L'Avventura\"], ['East', 'of', 'Eden'], ['The', 'Day', 'the', 'Earth', 'Stood', 'Still'], ['The', 'Asphalt', 'Jungle'], ['Red', 'River'], ['To', 'Have', 'and', 'Have', 'Not'], ['Gaslight'], ['Shadow', 'of', 'a', 'Doubt'], ['His', 'Girl', 'Friday'], ['Stagecoach'], ['You', \"Can't\", 'Take', 'It', 'with', 'You'], ['The', 'Lady', 'Vanishes'], ['Bringing', 'Up', 'Baby'], ['A', 'Night', 'at', 'the', 'Opera'], ['Bride', 'of', 'Frankenstein'], ['Duck', 'Soup'], ['Frankenstein'], ['Roma'], ['Deadpool', '2'], ['Sound', 'of', 'Metal'], ['Wind', 'River'], ['The', 'Salesman'], ['Get', 'Out'], ['Mission:', 'Impossible', '-', 'Fallout'], ['Perfect', 'Strangers'], ['Udta', 'Punjab'], ['Kubo', 'and', 'the', 'Two', 'Strings'], ['A', 'Man', 'Called', 'Ove'], ['When', 'Marnie', 'Was', 'There'], ['The', 'Theory', 'of', 'Everything'], ['Kingsman:', 'The', 'Secret', 'Service'], ['The', 'Fault', 'in', 'Our', 'Stars'], ['Me', 'and', 'Earl', 'and', 'the', 'Dying', 'Girl'], ['Birdman', 'or', '(The', 'Unexpected', 'Virtue', 'of', 'Ignorance)'], ['The', 'Past'], ['The', 'Great', 'Beauty'], ['Blue', 'Is', 'the', 'Warmest', 'Colour'], ['The', 'Broken', 'Circle', 'Breakdown'], ['The', 'Wind', 'Rises'], ['Toy', 'Story', '4'], ['Nebraska'], ['Wreck-It', 'Ralph'], ['The', 'Little', 'Prince'], ['Detachment'], ['Midnight', 'in', 'Paris'], ['Confessions'], ['The', 'Man', 'from', 'Nowhere'], ['The', 'Lego', 'Movie'], ['Gravity'], ['Star', 'Trek', 'Into', 'Darkness'], ['Beasts', 'of', 'No', 'Nation'], ['X-Men:', 'First', 'Class'], ['The', 'Hangover'], ['The', 'Trial', 'of', 'the', 'Chicago', '7'], ['Silver', 'Linings', 'Playbook'], ['Another', 'Round'], ['Argo'], ['500', 'Days', 'of', 'Summer'], ['Harry', 'Potter', 'and', 'the', 'Deathly', 'Hallows:', 'Part', '1'], ['The', 'Boy', 'in', 'the', 'Striped', 'Pyjamas'], ['The', 'Edge', 'of', 'Heaven'], ['Frost/Nixon'], ['Paprika'], ['Flipped'], ['The', 'Girl', 'Who', 'Leapt', 'Through', 'Time'], ['This', 'Is', 'England'], ['Ex', 'Machina'], ['After', 'the', 'Wedding'], ['The', 'Last', 'King', 'of', 'Scotland'], ['Zodiac'], ['Lucky', 'Number', 'Slevin'], ['Joyeux', 'Noel'], ['Control'], [\"Adam's\", 'Apples'], ['Tangled'], ['Black', 'Book'], ['Brokeback', 'Mountain'], ['3:10', 'to', 'Yuma'], ['Kung', 'Fu', 'Hustle'], ['The', 'Bourne', 'Supremacy'], ['The', 'Machinist'], ['Ray'], ['Evil'], ['Lost', 'in', 'Translation'], ['Harry', 'Potter', 'and', 'the', 'Goblet', 'of', 'Fire'], ['Man', 'on', 'Fire'], ['Coraline'], ['The', 'Magdalene', 'Sisters'], ['21', 'Grams'], ['Finding', 'Neverland'], ['Good', 'Bye', 'Lenin!'], ['In', 'America'], ['The', 'Triplets', 'of', 'Belleville'], ['Adaptation.'], ['Black', 'Hawk', 'Down'], ['Road', 'to', 'Perdition'], ['Das', 'Experiment'], ['Billy', 'Elliot'], ['Hedwig', 'and', 'the', 'Angry', 'Inch'], ['The', 'Count', 'of', 'Monte', 'Cristo'], ['Y', 'tu', 'mamá', 'también'], ['Waking', 'Life'], [\"Ocean's\", 'Eleven'], ['O', 'Brother,', 'Where', 'Art', 'Thou?'], ['Minority', 'Report'], ['South', 'Park:', 'Bigger,', 'Longer', '&', 'Uncut'], ['Office', 'Space'], ['Happiness'], ['The', 'Boondock', 'Saints'], ['Training', 'Day'], ['Run', 'Lola', 'Run'], ['Open', 'Your', 'Eyes'], ['Taste', 'of', 'Cherry'], ['As', 'Good', 'as', 'It', 'Gets'], ['Hana-Bi'], ['The', 'Game'], ['Donnie', 'Brasco'], ['Happy', 'Together'], ['Shine'], ['Primal', 'Fear'], ['Sense', 'and', 'Sensibility'], ['Apollo', '13'], ['The', 'Postman'], ['Clerks'], [\"What's\", 'Eating', 'Gilbert', 'Grape'], ['Short', 'Cuts'], ['Philadelphia'], ['Naked'], ['The', 'Muppet', 'Christmas', 'Carol'], ['Malcolm', 'X'], ['The', 'Last', 'of', 'the', 'Mohicans'], ['Hard', 'Boiled'], ['Porco', 'Rosso'], ['Glengarry', 'Glen', 'Ross'], ['A', 'Few', 'Good', 'Men'], ['Night', 'on', 'Earth'], ['Fried', 'Green', 'Tomatoes', 'at', 'the', 'Whistle', 'Stop', 'Cafe'], ['The', 'Double', 'Life', 'of', 'Véronique'], ['Dreams'], [\"Miller's\", 'Crossing'], ['Home', 'Alone'], ['When', 'Harry', 'Met', 'Sally'], ['Who', 'Framed', 'Roger', 'Rabbit'], ['The', 'Vanishing'], ['The', 'Last', 'Emperor'], ['Evil', 'Dead', 'II'], ['Empire', 'of', 'the', 'Sun'], ['The', 'Name', 'of', 'the', 'Rose'], ['Down', 'by', 'Law'], ['Blue', 'Velvet'], ['The', 'Purple', 'Rose', 'of', 'Cairo'], ['The', 'Goonies'], ['The', 'Color', 'Purple'], ['Zelig'], ['The', 'Verdict'], ['Star', 'Trek', 'II:', 'The', 'Wrath', 'of', 'Khan'], ['First', 'Blood'], ['Ordinary', 'People'], ['Airplane!'], ['Halloween'], ['Nashville'], ['Love', 'and', 'Death'], ['Blazing', 'Saddles'], ['Serpico'], ['Fantastic', 'Planet'], ['Badlands'], ['Deliverance'], ['Cabaret'], ['The', 'French', 'Connection'], ['Dirty', 'Harry'], ['Wait', 'Until', 'Dark'], ['The', 'Dirty', 'Dozen'], ['Bonnie', 'and', 'Clyde'], ['Belle', 'de', 'Jour'], ['A', 'Man', 'for', 'All', 'Seasons'], ['Zulu'], ['Goldfinger'], ['The', 'Longest', 'Day'], ['Cape', 'Fear'], ['Jules', 'and', 'Jim'], ['The', 'Magnificent', 'Seven'], ['Breathless'], ['Invasion', 'of', 'the', 'Body', 'Snatchers'], ['The', 'Caine', 'Mutiny'], ['The', 'Quiet', 'Man'], ['The', 'African', 'Queen'], ['Key', 'Largo'], ['Fantasia'], ['Scarface'], ['Dark', 'Waters'], ['The', 'Mitchells', 'vs', 'the', 'Machines'], ['Searching'], ['Once', 'Upon', 'a', 'Time...', 'in', 'Hollywood'], ['Guardians', 'of', 'the', 'Galaxy:', 'Vol.', '2'], ['Bridge', 'of', 'Spies'], ['The', 'Incredibles', '2'], ['Moana'], ['What', 'We', 'Do', 'in', 'the', 'Shadows'], ['Sicario'], ['Creed'], ['Leviathan'], ['Hell', 'or', 'High', 'Water'], ['Philomena'], ['Dawn', 'of', 'the', 'Planet', 'of', 'the', 'Apes'], ['The', 'Raid'], ['End', 'of', 'Watch'], ['127', 'Hours'], ['A', 'Star', 'Is', 'Born'], ['True', 'Grit'], ['Despicable', 'Me'], ['Rise', 'of', 'the', 'Planet', 'of', 'the', 'Apes'], ['50/50'], ['Kick-Ass'], ['Cell', '211'], ['Moneyball'], ['The', 'Skin', 'I', 'Live', 'In'], ['Zombieland'], ['The', 'Blind', 'Side'], ['Ponyo'], ['Superbad'], ['Seven', 'Pounds'], ['Eastern', 'Promises'], ['Stardust'], ['United', '93'], ['Inside', 'Man'], ['Gone', 'Baby', 'Gone'], ['Kung', 'Fu', 'Panda'], ['300'], ['Match', 'Point'], ['Watchmen'], ['Lord', 'of', 'War'], ['Saw'], ['Vera', 'Drake'], ['Mysterious', 'Skin'], ['A', 'Very', 'Long', 'Engagement'], ['The', 'Station', 'Agent'], ['Love', 'Actually'], ['25th', 'Hour'], ['The', 'Butterfly', 'Effect'], ['I', 'Am', 'Sam'], ['The', 'Royal', 'Tenenbaums'], ['Harry', 'Potter', 'and', 'the', \"Philosopher's\", 'Stone'], ['The', 'Others'], ['Traffic'], ['American', 'Psycho'], ['Rushmore'], ['Star', 'Wars:', 'Episode', 'III', '-', 'Revenge', 'of', 'the', 'Sith'], ['The', 'Thin', 'Red', 'Line'], ['Mulan'], ['The', 'Fifth', 'Element'], ['Le', 'Dîner', 'de', 'Cons'], ['Dark', 'City'], ['Die', 'Hard:', 'With', 'a', 'Vengeance'], ['The', 'Bridges', 'of', 'Madison', 'County'], ['Three', 'Colors:', 'White'], ['Falling', 'Down'], ['My', 'Cousin', 'Vinny'], ['Barton', 'Fink'], ['The', 'Godfather', 'Part', 'III'], ['The', 'Little', 'Mermaid'], ['The', 'Naked', 'Gun:', 'From', 'the', 'Files', 'of', 'Police', 'Squad!'], ['RoboCop'], ['Lethal', 'Weapon'], ['The', 'Fly'], ['After', 'Hours'], ['Mad', 'Max', '2'], ['Close', 'Encounters', 'of', 'the', 'Third', 'Kind'], ['The', 'Taking', 'of', 'Pelham', 'One', 'Two', 'Three'], ['Enter', 'The', 'Dragon'], ['Where', 'Eagles', 'Dare'], ['The', 'Odd', 'Couple'], ['The', 'Jungle', 'Book'], ['Repulsion'], ['The', 'Birds'], ['Breakfast', 'at', \"Tiffany's\"], ['Peeping', 'Tom'], ['Eyes', 'Without', 'a', 'Face'], ['Rebel', 'Without', 'a', 'Cause'], ['Sabrina'], ['From', 'Here', 'to', 'Eternity'], ['Snow', 'White', 'and', 'the', 'Seven', 'Dwarfs'], ['The', '39', 'Steps'], ['The', 'Invisible', 'Man']]\n"
          ]
        }
      ]
    },
    {
      "cell_type": "code",
      "source": [
        "def label_BIO(_tokens, _NE):\n",
        "    \"\"\"\n",
        "    Generates BIO (Beginning, Inside, Outside) tags for movie titles in the given tokens.\n",
        "\n",
        "    Args:\n",
        "        _tokens (list): List of tokens representing words in a sentence.\n",
        "        _NE (list): List of named entities, where each entity is represented as a list of tokens.\n",
        "\n",
        "    Returns:\n",
        "        list: List of tuples containing tokens and their corresponding BIO tags.\n",
        "\n",
        "    Comments:\n",
        "        - This function searches for movie titles in the tokens and labels them using BIO notation.\n",
        "        - A movie title is considered to be a named entity, where the first word is labeled as 'B-MOV'\n",
        "          (Beginning of a movie title) and subsequent words are labeled as 'I-MOV' (Inside a movie title).\n",
        "        - Non-movie title tokens are labeled as 'O' (Outside any named entity).\n",
        "        - The function iterates through each token in the tokens list, searching for matches in the named entity list.\n",
        "          If a match is found, the corresponding tokens are labeled accordingly in the BIO format.\n",
        "        - It returns a list of tuples, each containing a token and its corresponding BIO tag.\n",
        "    \"\"\"\n",
        "    BIO_for_samples = []\n",
        "\n",
        "    for token in _tokens:\n",
        "        found_NE = False  # Flag to check if the token is part of a named entity\n",
        "\n",
        "        for ne in _NE:\n",
        "            if token in ne:\n",
        "                for i, ne_token in enumerate(ne):\n",
        "                    if i == 0:\n",
        "                        BIO_for_samples.append((ne_token, 'B-MOV'))  # First token in the movie title\n",
        "                    else:\n",
        "                        BIO_for_samples.append((ne_token, 'I-MOV'))  # Subsequent tokens in the movie title\n",
        "                found_NE = True\n",
        "                break\n",
        "\n",
        "        if not found_NE:\n",
        "            BIO_for_samples.append((token, 'O'))  # Token is not part of any named entity\n",
        "\n",
        "    return BIO_for_samples"
      ],
      "metadata": {
        "id": "Mem-wyqU1z0f"
      },
      "execution_count": 40,
      "outputs": []
    },
    {
      "cell_type": "code",
      "source": [
        "# Don't change this cell\n",
        "def print_BIO_res(_BIO):\n",
        "    for i in range(len(_BIO)):\n",
        "        if _BIO[i][1] == 'B-MOV':\n",
        "            for j in range(i - 7, i + 7):\n",
        "                if _BIO[j][1] == 'O':\n",
        "                    print(_BIO[j][0], end=\" \")\n",
        "                else:\n",
        "                    print(_BIO[j], end=\" \")\n",
        "            print(\"\")"
      ],
      "metadata": {
        "id": "1UA4HbNA5Fj6"
      },
      "execution_count": 41,
      "outputs": []
    },
    {
      "cell_type": "code",
      "source": [
        "# Don't change this cell\n",
        "def get_data_from_file(_fn):\n",
        "    with open(_fn, 'r') as file:\n",
        "        data = file.read().replace('\\n', ' ')\n",
        "    return data"
      ],
      "metadata": {
        "id": "vrQqvG947sb4"
      },
      "execution_count": 42,
      "outputs": []
    },
    {
      "cell_type": "code",
      "source": [
        "titles_top_1000 = get_top_1000_list()\n",
        "\n",
        "# get text data from a text file\n",
        "data = get_data_from_file(\"article-about-a-genre.txt\")\n",
        "# tokenize text data\n",
        "tokens = word_tokenize(data)\n",
        "# tag with BIO using the IMDB top 1000 movie title list\n",
        "BIO = label_BIO(tokens, titles_top_1000)\n",
        "\n",
        "print_BIO_res(BIO)"
      ],
      "metadata": {
        "id": "CdzyVGJ25IBc",
        "colab": {
          "base_uri": "https://localhost:8080/"
        },
        "outputId": "a8941553-b4cd-4ce3-e5b7-43e3b7cbf005"
      },
      "execution_count": 43,
      "outputs": [
        {
          "output_type": "stream",
          "name": "stdout",
          "text": [
            "('the', 'I-MOV') ('King', 'I-MOV') kung fu cinema fans . ('The', 'B-MOV') ('Naked', 'I-MOV') ('Gun:', 'I-MOV') ('From', 'I-MOV') ('the', 'I-MOV') ('Files', 'I-MOV') ('of', 'I-MOV') \n",
            "('the', 'I-MOV') ('Files', 'I-MOV') ('of', 'I-MOV') ('Police', 'I-MOV') ('Squad!', 'I-MOV') Bruce Lee ('Back', 'B-MOV') ('to', 'I-MOV') ('the', 'I-MOV') ('Future', 'I-MOV') Shang-Chi : (\"It's\", 'B-MOV') \n",
            "Lee ('Back', 'B-MOV') ('to', 'I-MOV') ('the', 'I-MOV') ('Future', 'I-MOV') Shang-Chi : (\"It's\", 'B-MOV') ('a', 'I-MOV') ('Wonderful', 'I-MOV') ('Life', 'I-MOV') short history ('The', 'B-MOV') \n",
            ": (\"It's\", 'B-MOV') ('a', 'I-MOV') ('Wonderful', 'I-MOV') ('Life', 'I-MOV') short history ('The', 'B-MOV') ('Lord', 'I-MOV') ('of', 'I-MOV') ('the', 'I-MOV') ('Rings:', 'I-MOV') ('The', 'I-MOV') ('Return', 'I-MOV') \n",
            "('the', 'I-MOV') ('Rings:', 'I-MOV') ('The', 'I-MOV') ('Return', 'I-MOV') ('of', 'I-MOV') ('the', 'I-MOV') ('King', 'I-MOV') ('The', 'B-MOV') ('Lord', 'I-MOV') ('of', 'I-MOV') ('the', 'I-MOV') ('Rings:', 'I-MOV') ('The', 'I-MOV') ('Return', 'I-MOV') \n",
            "('Return', 'I-MOV') ('of', 'I-MOV') ('the', 'I-MOV') ('King', 'I-MOV') kung fu film ('Once', 'B-MOV') ('Upon', 'I-MOV') ('a', 'I-MOV') ('Time', 'I-MOV') ('in', 'I-MOV') ('the', 'I-MOV') ('West', 'I-MOV') \n",
            "('Upon', 'I-MOV') ('a', 'I-MOV') ('Time', 'I-MOV') ('in', 'I-MOV') ('the', 'I-MOV') ('West', 'I-MOV') cinema ('Die', 'B-MOV') ('Hard:', 'I-MOV') ('With', 'I-MOV') ('a', 'I-MOV') ('Vengeance', 'I-MOV') action sequences \n",
            "('Vengeance', 'I-MOV') action sequences that are being hailed ('As', 'B-MOV') ('Good', 'I-MOV') ('as', 'I-MOV') ('It', 'I-MOV') ('Gets', 'I-MOV') some ('The', 'B-MOV') \n",
            "hailed ('As', 'B-MOV') ('Good', 'I-MOV') ('as', 'I-MOV') ('It', 'I-MOV') ('Gets', 'I-MOV') some ('The', 'B-MOV') ('Lord', 'I-MOV') ('of', 'I-MOV') ('the', 'I-MOV') ('Rings:', 'I-MOV') ('The', 'I-MOV') ('Return', 'I-MOV') \n",
            "('the', 'I-MOV') ('Rings:', 'I-MOV') ('The', 'I-MOV') ('Return', 'I-MOV') ('of', 'I-MOV') ('the', 'I-MOV') ('King', 'I-MOV') ('The', 'B-MOV') ('Lord', 'I-MOV') ('of', 'I-MOV') ('the', 'I-MOV') ('Rings:', 'I-MOV') ('The', 'I-MOV') ('Return', 'I-MOV') \n",
            "('Rings:', 'I-MOV') ('The', 'I-MOV') ('Return', 'I-MOV') ('of', 'I-MOV') ('the', 'I-MOV') ('King', 'I-MOV') best ('Once', 'B-MOV') ('Upon', 'I-MOV') ('a', 'I-MOV') ('Time', 'I-MOV') ('in', 'I-MOV') ('the', 'I-MOV') ('West', 'I-MOV') \n",
            "('Once', 'B-MOV') ('Upon', 'I-MOV') ('a', 'I-MOV') ('Time', 'I-MOV') ('in', 'I-MOV') ('the', 'I-MOV') ('West', 'I-MOV') ('The', 'B-MOV') ('Lord', 'I-MOV') ('of', 'I-MOV') ('the', 'I-MOV') ('Rings:', 'I-MOV') ('The', 'I-MOV') ('Return', 'I-MOV') \n",
            "('Rings:', 'I-MOV') ('The', 'I-MOV') ('Return', 'I-MOV') ('of', 'I-MOV') ('the', 'I-MOV') ('King', 'I-MOV') history ('The', 'B-MOV') ('Lord', 'I-MOV') ('of', 'I-MOV') ('the', 'I-MOV') ('Rings:', 'I-MOV') ('The', 'I-MOV') ('Return', 'I-MOV') \n",
            "('the', 'I-MOV') ('Rings:', 'I-MOV') ('The', 'I-MOV') ('Return', 'I-MOV') ('of', 'I-MOV') ('the', 'I-MOV') ('King', 'I-MOV') ('The', 'B-MOV') ('Lord', 'I-MOV') ('of', 'I-MOV') ('the', 'I-MOV') ('Rings:', 'I-MOV') ('The', 'I-MOV') ('Return', 'I-MOV') \n",
            "('the', 'I-MOV') ('King', 'I-MOV') Marvel Cinematic Universe , Shang-Chi ('The', 'B-MOV') ('Good,', 'I-MOV') ('the', 'I-MOV') ('Bad', 'I-MOV') ('and', 'I-MOV') ('the', 'I-MOV') ('Ugly', 'I-MOV') \n",
            "('The', 'B-MOV') ('Good,', 'I-MOV') ('the', 'I-MOV') ('Bad', 'I-MOV') ('and', 'I-MOV') ('the', 'I-MOV') ('Ugly', 'I-MOV') ('The', 'B-MOV') ('Lord', 'I-MOV') ('of', 'I-MOV') ('the', 'I-MOV') ('Rings:', 'I-MOV') ('The', 'I-MOV') ('Return', 'I-MOV') \n",
            "('the', 'I-MOV') ('Rings:', 'I-MOV') ('The', 'I-MOV') ('Return', 'I-MOV') ('of', 'I-MOV') ('the', 'I-MOV') ('King', 'I-MOV') ('The', 'B-MOV') ('Legend', 'I-MOV') ('of', 'I-MOV') ('1900', 'I-MOV') ('The', 'B-MOV') ('Lord', 'I-MOV') ('of', 'I-MOV') \n",
            "('of', 'I-MOV') ('the', 'I-MOV') ('King', 'I-MOV') ('The', 'B-MOV') ('Legend', 'I-MOV') ('of', 'I-MOV') ('1900', 'I-MOV') ('The', 'B-MOV') ('Lord', 'I-MOV') ('of', 'I-MOV') ('the', 'I-MOV') ('Rings:', 'I-MOV') ('The', 'I-MOV') ('Return', 'I-MOV') \n",
            "('the', 'I-MOV') ('Rings:', 'I-MOV') ('The', 'I-MOV') ('Return', 'I-MOV') ('of', 'I-MOV') ('the', 'I-MOV') ('King', 'I-MOV') ('The', 'B-MOV') ('Lord', 'I-MOV') ('of', 'I-MOV') ('the', 'I-MOV') ('Rings:', 'I-MOV') ('The', 'I-MOV') ('Return', 'I-MOV') \n",
            "('the', 'I-MOV') ('Rings:', 'I-MOV') ('The', 'I-MOV') ('Return', 'I-MOV') ('of', 'I-MOV') ('the', 'I-MOV') ('King', 'I-MOV') ('The', 'B-MOV') ('Ten', 'I-MOV') ('Commandments', 'I-MOV') Rings is shaping up \n",
            "('The', 'B-MOV') ('Ten', 'I-MOV') ('Commandments', 'I-MOV') Rings is shaping up ('Back', 'B-MOV') ('to', 'I-MOV') ('the', 'I-MOV') ('Future', 'I-MOV') overtake ('Black', 'B-MOV') Widow \n",
            "shaping up ('Back', 'B-MOV') ('to', 'I-MOV') ('the', 'I-MOV') ('Future', 'I-MOV') overtake ('Black', 'B-MOV') Widow ('As', 'B-MOV') ('Good', 'I-MOV') ('as', 'I-MOV') ('It', 'I-MOV') ('Gets', 'I-MOV') \n",
            "('Back', 'B-MOV') ('to', 'I-MOV') ('the', 'I-MOV') ('Future', 'I-MOV') overtake ('Black', 'B-MOV') Widow ('As', 'B-MOV') ('Good', 'I-MOV') ('as', 'I-MOV') ('It', 'I-MOV') ('Gets', 'I-MOV') ('The', 'B-MOV') ('Lord', 'I-MOV') \n",
            "('Black', 'B-MOV') Widow ('As', 'B-MOV') ('Good', 'I-MOV') ('as', 'I-MOV') ('It', 'I-MOV') ('Gets', 'I-MOV') ('The', 'B-MOV') ('Lord', 'I-MOV') ('of', 'I-MOV') ('the', 'I-MOV') ('Rings:', 'I-MOV') ('The', 'I-MOV') ('Return', 'I-MOV') \n",
            "('The', 'I-MOV') ('Return', 'I-MOV') ('of', 'I-MOV') ('the', 'I-MOV') ('King', 'I-MOV') biggest film ('The', 'B-MOV') ('Lord', 'I-MOV') ('of', 'I-MOV') ('the', 'I-MOV') ('Rings:', 'I-MOV') ('The', 'I-MOV') ('Return', 'I-MOV') \n",
            "('the', 'I-MOV') ('Rings:', 'I-MOV') ('The', 'I-MOV') ('Return', 'I-MOV') ('of', 'I-MOV') ('the', 'I-MOV') ('King', 'I-MOV') ('The', 'B-MOV') ('Lord', 'I-MOV') ('of', 'I-MOV') ('the', 'I-MOV') ('Rings:', 'I-MOV') ('The', 'I-MOV') ('Return', 'I-MOV') \n",
            "('The', 'I-MOV') ('Return', 'I-MOV') ('of', 'I-MOV') ('the', 'I-MOV') ('King', 'I-MOV') pandemic . ('A', 'B-MOV') ('Separation', 'I-MOV') hit ('Gone', 'B-MOV') ('with', 'I-MOV') ('the', 'I-MOV') ('Wind', 'I-MOV') \n",
            "('the', 'I-MOV') ('King', 'I-MOV') pandemic . ('A', 'B-MOV') ('Separation', 'I-MOV') hit ('Gone', 'B-MOV') ('with', 'I-MOV') ('the', 'I-MOV') ('Wind', 'I-MOV') critics ('The', 'B-MOV') ('Good,', 'I-MOV') \n",
            "('Separation', 'I-MOV') hit ('Gone', 'B-MOV') ('with', 'I-MOV') ('the', 'I-MOV') ('Wind', 'I-MOV') critics ('The', 'B-MOV') ('Good,', 'I-MOV') ('the', 'I-MOV') ('Bad', 'I-MOV') ('and', 'I-MOV') ('the', 'I-MOV') ('Ugly', 'I-MOV') \n",
            "commentators are praising Shang-Chi ’ s cast ('The', 'B-MOV') ('Good,', 'I-MOV') ('the', 'I-MOV') ('Bad', 'I-MOV') ('and', 'I-MOV') ('the', 'I-MOV') ('Ugly', 'I-MOV') \n",
            "('Good,', 'I-MOV') ('the', 'I-MOV') ('Bad', 'I-MOV') ('and', 'I-MOV') ('the', 'I-MOV') ('Ugly', 'I-MOV') , ('Once', 'B-MOV') ('Upon', 'I-MOV') ('a', 'I-MOV') ('Time', 'I-MOV') ('in', 'I-MOV') ('the', 'I-MOV') ('West', 'I-MOV') \n",
            "('a', 'I-MOV') ('Time', 'I-MOV') ('in', 'I-MOV') ('the', 'I-MOV') ('West', 'I-MOV') particular , ('The', 'B-MOV') ('Lord', 'I-MOV') ('of', 'I-MOV') ('the', 'I-MOV') ('Rings:', 'I-MOV') ('The', 'I-MOV') ('Return', 'I-MOV') \n",
            "('Rings:', 'I-MOV') ('The', 'I-MOV') ('Return', 'I-MOV') ('of', 'I-MOV') ('the', 'I-MOV') ('King', 'I-MOV') performance ('North', 'B-MOV') ('by', 'I-MOV') ('Northwest', 'I-MOV') Hong ('King', 'B-MOV') ('Kong', 'I-MOV') screen \n",
            "('the', 'I-MOV') ('King', 'I-MOV') performance ('North', 'B-MOV') ('by', 'I-MOV') ('Northwest', 'I-MOV') Hong ('King', 'B-MOV') ('Kong', 'I-MOV') screen legend Tony Leung Chiu-wai \n",
            "('Kong', 'I-MOV') screen legend Tony Leung Chiu-wai , ('Witness', 'B-MOV') ('for', 'I-MOV') ('the', 'I-MOV') ('Prosecution', 'I-MOV') helping breathe new \n",
            "('the', 'I-MOV') ('Prosecution', 'I-MOV') helping breathe new life into (\"It's\", 'B-MOV') ('a', 'I-MOV') ('Wonderful', 'I-MOV') ('Life', 'I-MOV') familiar Marvel formula \n",
            "('Wonderful', 'I-MOV') ('Life', 'I-MOV') familiar Marvel formula . Given ('The', 'B-MOV') ('Lord', 'I-MOV') ('of', 'I-MOV') ('the', 'I-MOV') ('Rings:', 'I-MOV') ('The', 'I-MOV') ('Return', 'I-MOV') \n",
            "('The', 'I-MOV') ('Return', 'I-MOV') ('of', 'I-MOV') ('the', 'I-MOV') ('King', 'I-MOV') huge challenge ('The', 'B-MOV') ('Lord', 'I-MOV') ('of', 'I-MOV') ('the', 'I-MOV') ('Rings:', 'I-MOV') ('The', 'I-MOV') ('Return', 'I-MOV') \n",
            "('Rings:', 'I-MOV') ('The', 'I-MOV') ('Return', 'I-MOV') ('of', 'I-MOV') ('the', 'I-MOV') ('King', 'I-MOV') presenting (\"It's\", 'B-MOV') ('a', 'I-MOV') ('Wonderful', 'I-MOV') ('Life', 'I-MOV') film ('The', 'B-MOV') ('Lord', 'I-MOV') \n",
            "('King', 'I-MOV') presenting (\"It's\", 'B-MOV') ('a', 'I-MOV') ('Wonderful', 'I-MOV') ('Life', 'I-MOV') film ('The', 'B-MOV') ('Lord', 'I-MOV') ('of', 'I-MOV') ('the', 'I-MOV') ('Rings:', 'I-MOV') ('The', 'I-MOV') ('Return', 'I-MOV') \n",
            "('The', 'I-MOV') ('Return', 'I-MOV') ('of', 'I-MOV') ('the', 'I-MOV') ('King', 'I-MOV') this scale ('Gone', 'B-MOV') ('with', 'I-MOV') ('the', 'I-MOV') ('Wind', 'I-MOV') (\"It's\", 'B-MOV') ('a', 'I-MOV') ('Wonderful', 'I-MOV') \n",
            "('King', 'I-MOV') this scale ('Gone', 'B-MOV') ('with', 'I-MOV') ('the', 'I-MOV') ('Wind', 'I-MOV') (\"It's\", 'B-MOV') ('a', 'I-MOV') ('Wonderful', 'I-MOV') ('Life', 'I-MOV') kung fu master \n",
            "(\"It's\", 'B-MOV') ('a', 'I-MOV') ('Wonderful', 'I-MOV') ('Life', 'I-MOV') kung fu master ('As', 'B-MOV') ('Good', 'I-MOV') ('as', 'I-MOV') ('It', 'I-MOV') ('Gets', 'I-MOV') its central \n",
            "its central character , it was imperative ('The', 'B-MOV') ('Lord', 'I-MOV') ('of', 'I-MOV') ('the', 'I-MOV') ('Rings:', 'I-MOV') ('The', 'I-MOV') ('Return', 'I-MOV') \n",
            "authentic fight scenes that could stand alongside ('The', 'B-MOV') ('Lord', 'I-MOV') ('of', 'I-MOV') ('the', 'I-MOV') ('Rings:', 'I-MOV') ('The', 'I-MOV') ('Return', 'I-MOV') \n",
            "('Rings:', 'I-MOV') ('The', 'I-MOV') ('Return', 'I-MOV') ('of', 'I-MOV') ('the', 'I-MOV') ('King', 'I-MOV') classics ('The', 'B-MOV') ('Good,', 'I-MOV') ('the', 'I-MOV') ('Bad', 'I-MOV') ('and', 'I-MOV') ('the', 'I-MOV') ('Ugly', 'I-MOV') \n",
            "('Good,', 'I-MOV') ('the', 'I-MOV') ('Bad', 'I-MOV') ('and', 'I-MOV') ('the', 'I-MOV') ('Ugly', 'I-MOV') showcase ('The', 'B-MOV') ('Lord', 'I-MOV') ('of', 'I-MOV') ('the', 'I-MOV') ('Rings:', 'I-MOV') ('The', 'I-MOV') ('Return', 'I-MOV') \n",
            "('The', 'I-MOV') ('Return', 'I-MOV') ('of', 'I-MOV') ('the', 'I-MOV') ('King', 'I-MOV') best action ('The', 'B-MOV') ('Lord', 'I-MOV') ('of', 'I-MOV') ('the', 'I-MOV') ('Rings:', 'I-MOV') ('The', 'I-MOV') ('Return', 'I-MOV') \n",
            "('The', 'I-MOV') ('Return', 'I-MOV') ('of', 'I-MOV') ('the', 'I-MOV') ('King', 'I-MOV') genre has ('Back', 'B-MOV') ('to', 'I-MOV') ('the', 'I-MOV') ('Future', 'I-MOV') offer . Tracing \n",
            "offer . Tracing through China , Hong ('King', 'B-MOV') ('Kong', 'I-MOV') ('The', 'B-MOV') ('Good,', 'I-MOV') ('the', 'I-MOV') ('Bad', 'I-MOV') ('and', 'I-MOV') \n",
            "Tracing through China , Hong ('King', 'B-MOV') ('Kong', 'I-MOV') ('The', 'B-MOV') ('Good,', 'I-MOV') ('the', 'I-MOV') ('Bad', 'I-MOV') ('and', 'I-MOV') ('the', 'I-MOV') ('Ugly', 'I-MOV') \n",
            "('The', 'B-MOV') ('Good,', 'I-MOV') ('the', 'I-MOV') ('Bad', 'I-MOV') ('and', 'I-MOV') ('the', 'I-MOV') ('Ugly', 'I-MOV') ('Once', 'B-MOV') ('Upon', 'I-MOV') ('a', 'I-MOV') ('Time...', 'I-MOV') ('in', 'I-MOV') ('Hollywood', 'I-MOV') , \n",
            "('in', 'I-MOV') ('Hollywood', 'I-MOV') , martial arts films have (\"It's\", 'B-MOV') ('a', 'I-MOV') ('Wonderful', 'I-MOV') ('Life', 'I-MOV') history almost ('As', 'B-MOV') \n",
            "have (\"It's\", 'B-MOV') ('a', 'I-MOV') ('Wonderful', 'I-MOV') ('Life', 'I-MOV') history almost ('As', 'B-MOV') ('Good', 'I-MOV') ('as', 'I-MOV') ('It', 'I-MOV') ('Gets', 'I-MOV') long cinema \n",
            "('as', 'I-MOV') ('It', 'I-MOV') ('Gets', 'I-MOV') long cinema itself . ('This', 'B-MOV') ('Is', 'I-MOV') ('Spinal', 'I-MOV') ('Tap', 'I-MOV') history is ('Like', 'B-MOV') \n",
            ". ('This', 'B-MOV') ('Is', 'I-MOV') ('Spinal', 'I-MOV') ('Tap', 'I-MOV') history is ('Like', 'B-MOV') ('Stars', 'I-MOV') ('on', 'I-MOV') ('Earth', 'I-MOV') exciting display ('Once', 'B-MOV') \n",
            "is ('Like', 'B-MOV') ('Stars', 'I-MOV') ('on', 'I-MOV') ('Earth', 'I-MOV') exciting display ('Once', 'B-MOV') ('Upon', 'I-MOV') ('a', 'I-MOV') ('Time', 'I-MOV') ('in', 'I-MOV') ('the', 'I-MOV') ('West', 'I-MOV') \n",
            "('a', 'I-MOV') ('Time', 'I-MOV') ('in', 'I-MOV') ('the', 'I-MOV') ('West', 'I-MOV') Shang-Chi , ('The', 'B-MOV') ('Good,', 'I-MOV') ('the', 'I-MOV') ('Bad', 'I-MOV') ('and', 'I-MOV') ('the', 'I-MOV') ('Ugly', 'I-MOV') \n",
            "('the', 'I-MOV') ('Bad', 'I-MOV') ('and', 'I-MOV') ('the', 'I-MOV') ('Ugly', 'I-MOV') will cement ('The', 'B-MOV') ('Lord', 'I-MOV') ('of', 'I-MOV') ('the', 'I-MOV') ('Rings:', 'I-MOV') ('The', 'I-MOV') ('Return', 'I-MOV') \n",
            "('of', 'I-MOV') ('the', 'I-MOV') ('King', 'I-MOV') film ’ s position ('Once', 'B-MOV') ('Upon', 'I-MOV') ('a', 'I-MOV') ('Time', 'I-MOV') ('in', 'I-MOV') ('the', 'I-MOV') ('West', 'I-MOV') \n",
            "('West', 'I-MOV') kung fu cinematic history . Birth ('The', 'B-MOV') ('Lord', 'I-MOV') ('of', 'I-MOV') ('the', 'I-MOV') ('Rings:', 'I-MOV') ('The', 'I-MOV') ('Return', 'I-MOV') \n",
            "('the', 'I-MOV') ('Rings:', 'I-MOV') ('The', 'I-MOV') ('Return', 'I-MOV') ('of', 'I-MOV') ('the', 'I-MOV') ('King', 'I-MOV') ('The', 'B-MOV') ('Lord', 'I-MOV') ('of', 'I-MOV') ('the', 'I-MOV') ('Rings:', 'I-MOV') ('The', 'I-MOV') ('Return', 'I-MOV') \n",
            "('Return', 'I-MOV') ('of', 'I-MOV') ('the', 'I-MOV') ('King', 'I-MOV') kung fu genre ('The', 'B-MOV') ('Good,', 'I-MOV') ('the', 'I-MOV') ('Bad', 'I-MOV') ('and', 'I-MOV') ('the', 'I-MOV') ('Ugly', 'I-MOV') \n",
            "('The', 'B-MOV') ('Good,', 'I-MOV') ('the', 'I-MOV') ('Bad', 'I-MOV') ('and', 'I-MOV') ('the', 'I-MOV') ('Ugly', 'I-MOV') ('The', 'B-MOV') ('Lord', 'I-MOV') ('of', 'I-MOV') ('the', 'I-MOV') ('Rings:', 'I-MOV') ('The', 'I-MOV') ('Return', 'I-MOV') \n",
            "('The', 'I-MOV') ('Return', 'I-MOV') ('of', 'I-MOV') ('the', 'I-MOV') ('King', 'I-MOV') first boom ('Baahubali:', 'B-MOV') ('The', 'I-MOV') ('Beginning', 'I-MOV') ('Gone', 'B-MOV') ('with', 'I-MOV') ('the', 'I-MOV') ('Wind', 'I-MOV') \n",
            "('the', 'I-MOV') ('King', 'I-MOV') first boom ('Baahubali:', 'B-MOV') ('The', 'I-MOV') ('Beginning', 'I-MOV') ('Gone', 'B-MOV') ('with', 'I-MOV') ('the', 'I-MOV') ('Wind', 'I-MOV') Shanghai productions ('Once', 'B-MOV') \n",
            "('Beginning', 'I-MOV') ('Gone', 'B-MOV') ('with', 'I-MOV') ('the', 'I-MOV') ('Wind', 'I-MOV') Shanghai productions ('Once', 'B-MOV') ('Upon', 'I-MOV') ('a', 'I-MOV') ('Time', 'I-MOV') ('in', 'I-MOV') ('the', 'I-MOV') ('West', 'I-MOV') \n",
            "('Once', 'B-MOV') ('Upon', 'I-MOV') ('a', 'I-MOV') ('Time', 'I-MOV') ('in', 'I-MOV') ('the', 'I-MOV') ('West', 'I-MOV') ('The', 'B-MOV') ('Lord', 'I-MOV') ('of', 'I-MOV') ('the', 'I-MOV') ('Rings:', 'I-MOV') ('The', 'I-MOV') ('Return', 'I-MOV') \n",
            ", early martial arts films drew influence ('The', 'B-MOV') ('Man', 'I-MOV') ('from', 'I-MOV') ('Earth', 'I-MOV') Chinese opera ('The', 'B-MOV') \n",
            "influence ('The', 'B-MOV') ('Man', 'I-MOV') ('from', 'I-MOV') ('Earth', 'I-MOV') Chinese opera ('The', 'B-MOV') ('Good,', 'I-MOV') ('the', 'I-MOV') ('Bad', 'I-MOV') ('and', 'I-MOV') ('the', 'I-MOV') ('Ugly', 'I-MOV') \n",
            "('the', 'I-MOV') ('Ugly', 'I-MOV') wuxia novels : narratives set ('Once', 'B-MOV') ('Upon', 'I-MOV') ('a', 'I-MOV') ('Time', 'I-MOV') ('in', 'I-MOV') ('the', 'I-MOV') ('West', 'I-MOV') \n",
            "('Time', 'I-MOV') ('in', 'I-MOV') ('the', 'I-MOV') ('West', 'I-MOV') Ancient China focusing ('Like', 'B-MOV') ('Stars', 'I-MOV') ('on', 'I-MOV') ('Earth', 'I-MOV') heroes ('Gone', 'B-MOV') ('with', 'I-MOV') \n",
            "China focusing ('Like', 'B-MOV') ('Stars', 'I-MOV') ('on', 'I-MOV') ('Earth', 'I-MOV') heroes ('Gone', 'B-MOV') ('with', 'I-MOV') ('the', 'I-MOV') ('Wind', 'I-MOV') supernatural martial arts \n",
            "('the', 'I-MOV') ('Wind', 'I-MOV') supernatural martial arts abilities . ('Fight', 'B-MOV') ('Club', 'I-MOV') scenes ('Once', 'B-MOV') ('Upon', 'I-MOV') ('a', 'I-MOV') ('Time', 'I-MOV') \n",
            "martial arts abilities . ('Fight', 'B-MOV') ('Club', 'I-MOV') scenes ('Once', 'B-MOV') ('Upon', 'I-MOV') ('a', 'I-MOV') ('Time', 'I-MOV') ('in', 'I-MOV') ('the', 'I-MOV') ('West', 'I-MOV') \n",
            "rarely showcased actual martial arts skills . ('This', 'B-MOV') ('Is', 'I-MOV') ('Spinal', 'I-MOV') ('Tap', 'I-MOV') changed ('Gone', 'B-MOV') ('with', 'I-MOV') \n",
            "skills . ('This', 'B-MOV') ('Is', 'I-MOV') ('Spinal', 'I-MOV') ('Tap', 'I-MOV') changed ('Gone', 'B-MOV') ('with', 'I-MOV') ('the', 'I-MOV') ('Wind', 'I-MOV') ('The', 'B-MOV') ('Lord', 'I-MOV') ('of', 'I-MOV') \n",
            "('Spinal', 'I-MOV') ('Tap', 'I-MOV') changed ('Gone', 'B-MOV') ('with', 'I-MOV') ('the', 'I-MOV') ('Wind', 'I-MOV') ('The', 'B-MOV') ('Lord', 'I-MOV') ('of', 'I-MOV') ('the', 'I-MOV') ('Rings:', 'I-MOV') ('The', 'I-MOV') ('Return', 'I-MOV') \n",
            "('Rings:', 'I-MOV') ('The', 'I-MOV') ('Return', 'I-MOV') ('of', 'I-MOV') ('the', 'I-MOV') ('King', 'I-MOV') transformation ('The', 'B-MOV') ('Lord', 'I-MOV') ('of', 'I-MOV') ('the', 'I-MOV') ('Rings:', 'I-MOV') ('The', 'I-MOV') ('Return', 'I-MOV') \n",
            "('Rings:', 'I-MOV') ('The', 'I-MOV') ('Return', 'I-MOV') ('of', 'I-MOV') ('the', 'I-MOV') ('King', 'I-MOV') Hong ('King', 'B-MOV') ('Kong', 'I-MOV') cinema ('Once', 'B-MOV') ('Upon', 'I-MOV') ('a', 'I-MOV') ('Time', 'I-MOV') \n",
            "('of', 'I-MOV') ('the', 'I-MOV') ('King', 'I-MOV') Hong ('King', 'B-MOV') ('Kong', 'I-MOV') cinema ('Once', 'B-MOV') ('Upon', 'I-MOV') ('a', 'I-MOV') ('Time', 'I-MOV') ('in', 'I-MOV') ('the', 'I-MOV') ('West', 'I-MOV') \n",
            "('Once', 'B-MOV') ('Upon', 'I-MOV') ('a', 'I-MOV') ('Time', 'I-MOV') ('in', 'I-MOV') ('the', 'I-MOV') ('West', 'I-MOV') ('The', 'B-MOV') ('Lord', 'I-MOV') ('of', 'I-MOV') ('the', 'I-MOV') ('Rings:', 'I-MOV') ('The', 'I-MOV') ('Return', 'I-MOV') \n",
            "('Return', 'I-MOV') ('of', 'I-MOV') ('the', 'I-MOV') ('King', 'I-MOV') 1970s . Resisting ('The', 'B-MOV') ('Lord', 'I-MOV') ('of', 'I-MOV') ('the', 'I-MOV') ('Rings:', 'I-MOV') ('The', 'I-MOV') ('Return', 'I-MOV') \n",
            "('The', 'I-MOV') ('Return', 'I-MOV') ('of', 'I-MOV') ('the', 'I-MOV') ('King', 'I-MOV') fantastical elements ('The', 'B-MOV') ('Lord', 'I-MOV') ('of', 'I-MOV') ('the', 'I-MOV') ('Rings:', 'I-MOV') ('The', 'I-MOV') ('Return', 'I-MOV') \n",
            "('the', 'I-MOV') ('Rings:', 'I-MOV') ('The', 'I-MOV') ('Return', 'I-MOV') ('of', 'I-MOV') ('the', 'I-MOV') ('King', 'I-MOV') ('The', 'B-MOV') ('Lord', 'I-MOV') ('of', 'I-MOV') ('the', 'I-MOV') ('Rings:', 'I-MOV') ('The', 'I-MOV') ('Return', 'I-MOV') \n",
            "('King', 'I-MOV') wuxia style , local studios Shaw ('The', 'B-MOV') ('Blues', 'I-MOV') ('Brothers', 'I-MOV') ('The', 'B-MOV') ('Good,', 'I-MOV') ('the', 'I-MOV') ('Bad', 'I-MOV') \n",
            ", local studios Shaw ('The', 'B-MOV') ('Blues', 'I-MOV') ('Brothers', 'I-MOV') ('The', 'B-MOV') ('Good,', 'I-MOV') ('the', 'I-MOV') ('Bad', 'I-MOV') ('and', 'I-MOV') ('the', 'I-MOV') ('Ugly', 'I-MOV') \n",
            "actual martial artists into their films . ('Die', 'B-MOV') ('Hard:', 'I-MOV') ('With', 'I-MOV') ('a', 'I-MOV') ('Vengeance', 'I-MOV') this move \n",
            "('Hard:', 'I-MOV') ('With', 'I-MOV') ('a', 'I-MOV') ('Vengeance', 'I-MOV') this move , ('The', 'B-MOV') ('Lord', 'I-MOV') ('of', 'I-MOV') ('the', 'I-MOV') ('Rings:', 'I-MOV') ('The', 'I-MOV') ('Return', 'I-MOV') \n",
            "fu genre was born . Popular titles ('The', 'B-MOV') ('Lord', 'I-MOV') ('of', 'I-MOV') ('the', 'I-MOV') ('Rings:', 'I-MOV') ('The', 'I-MOV') ('Return', 'I-MOV') \n",
            "('the', 'I-MOV') ('Rings:', 'I-MOV') ('The', 'I-MOV') ('Return', 'I-MOV') ('of', 'I-MOV') ('the', 'I-MOV') ('King', 'I-MOV') ('The', 'B-MOV') ('Lord', 'I-MOV') ('of', 'I-MOV') ('the', 'I-MOV') ('Rings:', 'I-MOV') ('The', 'I-MOV') ('Return', 'I-MOV') \n",
            "like Five Deadly Venoms ( 1978 ) ('The', 'B-MOV') ('Good,', 'I-MOV') ('the', 'I-MOV') ('Bad', 'I-MOV') ('and', 'I-MOV') ('the', 'I-MOV') ('Ugly', 'I-MOV') \n",
            "('The', 'B-MOV') ('Good,', 'I-MOV') ('the', 'I-MOV') ('Bad', 'I-MOV') ('and', 'I-MOV') ('the', 'I-MOV') ('Ugly', 'I-MOV') ('The', 'B-MOV') ('Shawshank', 'I-MOV') ('Redemption', 'I-MOV') 36th Chamber ('The', 'B-MOV') ('Lord', 'I-MOV') \n",
            "('the', 'I-MOV') ('Ugly', 'I-MOV') ('The', 'B-MOV') ('Shawshank', 'I-MOV') ('Redemption', 'I-MOV') 36th Chamber ('The', 'B-MOV') ('Lord', 'I-MOV') ('of', 'I-MOV') ('the', 'I-MOV') ('Rings:', 'I-MOV') ('The', 'I-MOV') ('Return', 'I-MOV') \n",
            "Shaolin ( 1978 ) are classics , ('The', 'B-MOV') ('Good,', 'I-MOV') ('the', 'I-MOV') ('Bad', 'I-MOV') ('and', 'I-MOV') ('the', 'I-MOV') ('Ugly', 'I-MOV') \n",
            "('The', 'B-MOV') ('Good,', 'I-MOV') ('the', 'I-MOV') ('Bad', 'I-MOV') ('and', 'I-MOV') ('the', 'I-MOV') ('Ugly', 'I-MOV') ('The', 'B-MOV') ('Lord', 'I-MOV') ('of', 'I-MOV') ('the', 'I-MOV') ('Rings:', 'I-MOV') ('The', 'I-MOV') ('Return', 'I-MOV') \n",
            "('Rings:', 'I-MOV') ('The', 'I-MOV') ('Return', 'I-MOV') ('of', 'I-MOV') ('the', 'I-MOV') ('King', 'I-MOV') films ('The', 'B-MOV') ('Lord', 'I-MOV') ('of', 'I-MOV') ('the', 'I-MOV') ('Rings:', 'I-MOV') ('The', 'I-MOV') ('Return', 'I-MOV') \n",
            "('the', 'I-MOV') ('King', 'I-MOV') Bruce Lee brought kung fu ('Back', 'B-MOV') ('to', 'I-MOV') ('the', 'I-MOV') ('Future', 'I-MOV') ('The', 'B-MOV') ('Lord', 'I-MOV') ('of', 'I-MOV') \n",
            "brought kung fu ('Back', 'B-MOV') ('to', 'I-MOV') ('the', 'I-MOV') ('Future', 'I-MOV') ('The', 'B-MOV') ('Lord', 'I-MOV') ('of', 'I-MOV') ('the', 'I-MOV') ('Rings:', 'I-MOV') ('The', 'I-MOV') ('Return', 'I-MOV') \n",
            "s attention . Lee ’ s intense ('The', 'B-MOV') ('Good,', 'I-MOV') ('the', 'I-MOV') ('Bad', 'I-MOV') ('and', 'I-MOV') ('the', 'I-MOV') ('Ugly', 'I-MOV') \n",
            "('and', 'I-MOV') ('the', 'I-MOV') ('Ugly', 'I-MOV') realistic fighting style , ('As', 'B-MOV') ('Good', 'I-MOV') ('as', 'I-MOV') ('It', 'I-MOV') ('Gets', 'I-MOV') shown ('Once', 'B-MOV') \n",
            ", ('As', 'B-MOV') ('Good', 'I-MOV') ('as', 'I-MOV') ('It', 'I-MOV') ('Gets', 'I-MOV') shown ('Once', 'B-MOV') ('Upon', 'I-MOV') ('a', 'I-MOV') ('Time', 'I-MOV') ('in', 'I-MOV') ('the', 'I-MOV') ('West', 'I-MOV') \n",
            "('a', 'I-MOV') ('Time', 'I-MOV') ('in', 'I-MOV') ('the', 'I-MOV') ('West', 'I-MOV') films like ('The', 'B-MOV') ('Shawshank', 'I-MOV') ('Redemption', 'I-MOV') ('The', 'B-MOV') ('Big', 'I-MOV') ('Lebowski', 'I-MOV') Boss \n",
            "('the', 'I-MOV') ('West', 'I-MOV') films like ('The', 'B-MOV') ('Shawshank', 'I-MOV') ('Redemption', 'I-MOV') ('The', 'B-MOV') ('Big', 'I-MOV') ('Lebowski', 'I-MOV') Boss ( 1971 ) \n",
            "('The', 'B-MOV') ('Big', 'I-MOV') ('Lebowski', 'I-MOV') Boss ( 1971 ) ('The', 'B-MOV') ('Good,', 'I-MOV') ('the', 'I-MOV') ('Bad', 'I-MOV') ('and', 'I-MOV') ('the', 'I-MOV') ('Ugly', 'I-MOV') \n",
            "('The', 'B-MOV') ('Good,', 'I-MOV') ('the', 'I-MOV') ('Bad', 'I-MOV') ('and', 'I-MOV') ('the', 'I-MOV') ('Ugly', 'I-MOV') ('Enter', 'B-MOV') ('The', 'I-MOV') ('Dragon', 'I-MOV') ('The', 'B-MOV') ('Lord', 'I-MOV') ('of', 'I-MOV') ('the', 'I-MOV') \n",
            "('Bad', 'I-MOV') ('and', 'I-MOV') ('the', 'I-MOV') ('Ugly', 'I-MOV') ('Enter', 'B-MOV') ('The', 'I-MOV') ('Dragon', 'I-MOV') ('The', 'B-MOV') ('Lord', 'I-MOV') ('of', 'I-MOV') ('the', 'I-MOV') ('Rings:', 'I-MOV') ('The', 'I-MOV') ('Return', 'I-MOV') \n",
            "('the', 'I-MOV') ('Rings:', 'I-MOV') ('The', 'I-MOV') ('Return', 'I-MOV') ('of', 'I-MOV') ('the', 'I-MOV') ('King', 'I-MOV') ('How', 'B-MOV') ('to', 'I-MOV') ('Train', 'I-MOV') ('Your', 'I-MOV') ('Dragon', 'I-MOV') ( 1973 \n",
            "1973 ) , sparked an international obsession ('Gone', 'B-MOV') ('with', 'I-MOV') ('the', 'I-MOV') ('Wind', 'I-MOV') ('The', 'B-MOV') ('Lord', 'I-MOV') ('of', 'I-MOV') \n",
            "an international obsession ('Gone', 'B-MOV') ('with', 'I-MOV') ('the', 'I-MOV') ('Wind', 'I-MOV') ('The', 'B-MOV') ('Lord', 'I-MOV') ('of', 'I-MOV') ('the', 'I-MOV') ('Rings:', 'I-MOV') ('The', 'I-MOV') ('Return', 'I-MOV') \n",
            "('Rings:', 'I-MOV') ('The', 'I-MOV') ('Return', 'I-MOV') ('of', 'I-MOV') ('the', 'I-MOV') ('King', 'I-MOV') art ('The', 'B-MOV') ('Lord', 'I-MOV') ('of', 'I-MOV') ('the', 'I-MOV') ('Rings:', 'I-MOV') ('The', 'I-MOV') ('Return', 'I-MOV') \n",
            "('of', 'I-MOV') ('the', 'I-MOV') ('King', 'I-MOV') kung fu — even ('As', 'B-MOV') ('Good', 'I-MOV') ('as', 'I-MOV') ('It', 'I-MOV') ('Gets', 'I-MOV') international fans \n",
            "('as', 'I-MOV') ('It', 'I-MOV') ('Gets', 'I-MOV') international fans often had ('Back', 'B-MOV') ('to', 'I-MOV') ('the', 'I-MOV') ('Future', 'I-MOV') deal ('Gone', 'B-MOV') ('with', 'I-MOV') \n",
            "often had ('Back', 'B-MOV') ('to', 'I-MOV') ('the', 'I-MOV') ('Future', 'I-MOV') deal ('Gone', 'B-MOV') ('with', 'I-MOV') ('the', 'I-MOV') ('Wind', 'I-MOV') poor-quality dubbing ('The', 'B-MOV') \n",
            "deal ('Gone', 'B-MOV') ('with', 'I-MOV') ('the', 'I-MOV') ('Wind', 'I-MOV') poor-quality dubbing ('The', 'B-MOV') ('Good,', 'I-MOV') ('the', 'I-MOV') ('Bad', 'I-MOV') ('and', 'I-MOV') ('the', 'I-MOV') ('Ugly', 'I-MOV') \n",
            "('Bad', 'I-MOV') ('and', 'I-MOV') ('the', 'I-MOV') ('Ugly', 'I-MOV') bootleg videos . ('After', 'B-MOV') ('the', 'I-MOV') ('Wedding', 'I-MOV') Lee ’ s untimely \n",
            "('the', 'I-MOV') ('Wedding', 'I-MOV') Lee ’ s untimely death ('Once', 'B-MOV') ('Upon', 'I-MOV') ('a', 'I-MOV') ('Time', 'I-MOV') ('in', 'I-MOV') ('the', 'I-MOV') ('West', 'I-MOV') \n",
            "('a', 'I-MOV') ('Time', 'I-MOV') ('in', 'I-MOV') ('the', 'I-MOV') ('West', 'I-MOV') 1973 , ('The', 'B-MOV') ('Lord', 'I-MOV') ('of', 'I-MOV') ('the', 'I-MOV') ('Rings:', 'I-MOV') ('The', 'I-MOV') ('Return', 'I-MOV') \n",
            "('The', 'I-MOV') ('Return', 'I-MOV') ('of', 'I-MOV') ('the', 'I-MOV') ('King', 'I-MOV') genre morphed ('The', 'B-MOV') ('Man', 'I-MOV') ('from', 'I-MOV') ('Earth', 'I-MOV') showcasing ferocious physicality \n",
            "('Man', 'I-MOV') ('from', 'I-MOV') ('Earth', 'I-MOV') showcasing ferocious physicality into (\"It's\", 'B-MOV') ('a', 'I-MOV') ('Wonderful', 'I-MOV') ('Life', 'I-MOV') more acrobatic , \n",
            "more acrobatic , comedy-infused approach , such ('As', 'B-MOV') ('Good', 'I-MOV') ('as', 'I-MOV') ('It', 'I-MOV') ('Gets', 'I-MOV') ('Once', 'B-MOV') ('Upon', 'I-MOV') \n",
            ", such ('As', 'B-MOV') ('Good', 'I-MOV') ('as', 'I-MOV') ('It', 'I-MOV') ('Gets', 'I-MOV') ('Once', 'B-MOV') ('Upon', 'I-MOV') ('a', 'I-MOV') ('Time', 'I-MOV') ('in', 'I-MOV') ('the', 'I-MOV') ('West', 'I-MOV') \n",
            "('the', 'I-MOV') ('West', 'I-MOV') Drunken Master ( 1978 ) ('The', 'B-MOV') ('Good,', 'I-MOV') ('the', 'I-MOV') ('Bad', 'I-MOV') ('and', 'I-MOV') ('the', 'I-MOV') ('Ugly', 'I-MOV') \n",
            "('The', 'B-MOV') ('Good,', 'I-MOV') ('the', 'I-MOV') ('Bad', 'I-MOV') ('and', 'I-MOV') ('the', 'I-MOV') ('Ugly', 'I-MOV') ('The', 'B-MOV') ('Shawshank', 'I-MOV') ('Redemption', 'I-MOV') ('The', 'B-MOV') ('Magnificent', 'I-MOV') ('Seven', 'I-MOV') Butcher \n",
            "('Bad', 'I-MOV') ('and', 'I-MOV') ('the', 'I-MOV') ('Ugly', 'I-MOV') ('The', 'B-MOV') ('Shawshank', 'I-MOV') ('Redemption', 'I-MOV') ('The', 'B-MOV') ('Magnificent', 'I-MOV') ('Seven', 'I-MOV') Butcher ( 1979 ) \n",
            ") starring , respectively , Jackie Chan ('The', 'B-MOV') ('Good,', 'I-MOV') ('the', 'I-MOV') ('Bad', 'I-MOV') ('and', 'I-MOV') ('the', 'I-MOV') ('Ugly', 'I-MOV') \n",
            "brother ” , Sammo Hung . Hong ('King', 'B-MOV') ('Kong', 'I-MOV') cinema entered its Golden Age \n",
            "('King', 'B-MOV') ('Kong', 'I-MOV') cinema entered its Golden Age ('Once', 'B-MOV') ('Upon', 'I-MOV') ('a', 'I-MOV') ('Time', 'I-MOV') ('in', 'I-MOV') ('the', 'I-MOV') ('West', 'I-MOV') \n",
            "('Once', 'B-MOV') ('Upon', 'I-MOV') ('a', 'I-MOV') ('Time', 'I-MOV') ('in', 'I-MOV') ('the', 'I-MOV') ('West', 'I-MOV') ('The', 'B-MOV') ('Lord', 'I-MOV') ('of', 'I-MOV') ('the', 'I-MOV') ('Rings:', 'I-MOV') ('The', 'I-MOV') ('Return', 'I-MOV') \n",
            "('Rings:', 'I-MOV') ('The', 'I-MOV') ('Return', 'I-MOV') ('of', 'I-MOV') ('the', 'I-MOV') ('King', 'I-MOV') 1980 ('The', 'B-MOV') ('Good,', 'I-MOV') ('the', 'I-MOV') ('Bad', 'I-MOV') ('and', 'I-MOV') ('the', 'I-MOV') ('Ugly', 'I-MOV') \n",
            "kung fu classics like Chan ’ s ('The', 'B-MOV') ('Naked', 'I-MOV') ('Gun:', 'I-MOV') ('From', 'I-MOV') ('the', 'I-MOV') ('Files', 'I-MOV') ('of', 'I-MOV') \n",
            "('Gun:', 'I-MOV') ('From', 'I-MOV') ('the', 'I-MOV') ('Files', 'I-MOV') ('of', 'I-MOV') ('Police', 'I-MOV') ('Squad!', 'I-MOV') ('Toy', 'B-MOV') ('Story', 'I-MOV') ('3', 'I-MOV') ( 1985 ) complimented \n",
            "1985 ) complimented popular historical films such ('As', 'B-MOV') ('Good', 'I-MOV') ('as', 'I-MOV') ('It', 'I-MOV') ('Gets', 'I-MOV') Jet Li \n",
            "s Tai Chi Master ( 1993 ) ('The', 'B-MOV') ('Good,', 'I-MOV') ('the', 'I-MOV') ('Bad', 'I-MOV') ('and', 'I-MOV') ('the', 'I-MOV') ('Ugly', 'I-MOV') \n",
            "('The', 'B-MOV') ('Good,', 'I-MOV') ('the', 'I-MOV') ('Bad', 'I-MOV') ('and', 'I-MOV') ('the', 'I-MOV') ('Ugly', 'I-MOV') ('Donnie', 'B-MOV') ('Darko', 'I-MOV') Yen ’ s ('The', 'B-MOV') ('Iron', 'I-MOV') \n",
            "('the', 'I-MOV') ('Ugly', 'I-MOV') ('Donnie', 'B-MOV') ('Darko', 'I-MOV') Yen ’ s ('The', 'B-MOV') ('Iron', 'I-MOV') ('Giant', 'I-MOV') Monkey ( 1993 ) \n",
            "('Iron', 'I-MOV') ('Giant', 'I-MOV') Monkey ( 1993 ) . ('The', 'B-MOV') ('Shawshank', 'I-MOV') ('Redemption', 'I-MOV') second boom ('In', 'B-MOV') ('the', 'I-MOV') \n",
            ") . ('The', 'B-MOV') ('Shawshank', 'I-MOV') ('Redemption', 'I-MOV') second boom ('In', 'B-MOV') ('the', 'I-MOV') ('Name', 'I-MOV') ('of', 'I-MOV') ('the', 'I-MOV') ('Father', 'I-MOV') ('The', 'B-MOV') \n",
            "boom ('In', 'B-MOV') ('the', 'I-MOV') ('Name', 'I-MOV') ('of', 'I-MOV') ('the', 'I-MOV') ('Father', 'I-MOV') ('The', 'B-MOV') ('Lord', 'I-MOV') ('of', 'I-MOV') ('the', 'I-MOV') ('Rings:', 'I-MOV') ('The', 'I-MOV') ('Return', 'I-MOV') \n",
            "('of', 'I-MOV') ('the', 'I-MOV') ('King', 'I-MOV') late 1990s , around ('The', 'B-MOV') ('Lord', 'I-MOV') ('of', 'I-MOV') ('the', 'I-MOV') ('Rings:', 'I-MOV') ('The', 'I-MOV') ('Return', 'I-MOV') \n",
            "('Rings:', 'I-MOV') ('The', 'I-MOV') ('Return', 'I-MOV') ('of', 'I-MOV') ('the', 'I-MOV') ('King', 'I-MOV') time ('The', 'B-MOV') ('Lord', 'I-MOV') ('of', 'I-MOV') ('the', 'I-MOV') ('Rings:', 'I-MOV') ('The', 'I-MOV') ('Return', 'I-MOV') \n",
            "('Rings:', 'I-MOV') ('The', 'I-MOV') ('Return', 'I-MOV') ('of', 'I-MOV') ('the', 'I-MOV') ('King', 'I-MOV') Hong ('King', 'B-MOV') ('Kong', 'I-MOV') ’ s handover ('Back', 'B-MOV') ('to', 'I-MOV') \n",
            "('King', 'I-MOV') Hong ('King', 'B-MOV') ('Kong', 'I-MOV') ’ s handover ('Back', 'B-MOV') ('to', 'I-MOV') ('the', 'I-MOV') ('Future', 'I-MOV') China , many \n",
            "('Back', 'B-MOV') ('to', 'I-MOV') ('the', 'I-MOV') ('Future', 'I-MOV') China , many ('The', 'B-MOV') ('Lord', 'I-MOV') ('of', 'I-MOV') ('the', 'I-MOV') ('Rings:', 'I-MOV') ('The', 'I-MOV') ('Return', 'I-MOV') \n",
            "('the', 'I-MOV') ('Rings:', 'I-MOV') ('The', 'I-MOV') ('Return', 'I-MOV') ('of', 'I-MOV') ('the', 'I-MOV') ('King', 'I-MOV') ('The', 'B-MOV') ('Lord', 'I-MOV') ('of', 'I-MOV') ('the', 'I-MOV') ('Rings:', 'I-MOV') ('The', 'I-MOV') ('Return', 'I-MOV') \n",
            "('King', 'I-MOV') industry ’ s leading figures made ('The', 'B-MOV') ('Lord', 'I-MOV') ('of', 'I-MOV') ('the', 'I-MOV') ('Rings:', 'I-MOV') ('The', 'I-MOV') ('Return', 'I-MOV') \n",
            "('Rings:', 'I-MOV') ('The', 'I-MOV') ('Return', 'I-MOV') ('of', 'I-MOV') ('the', 'I-MOV') ('King', 'I-MOV') move ('Back', 'B-MOV') ('to', 'I-MOV') ('the', 'I-MOV') ('Future', 'I-MOV') ('Once', 'B-MOV') ('Upon', 'I-MOV') ('a', 'I-MOV') \n",
            "('the', 'I-MOV') ('King', 'I-MOV') move ('Back', 'B-MOV') ('to', 'I-MOV') ('the', 'I-MOV') ('Future', 'I-MOV') ('Once', 'B-MOV') ('Upon', 'I-MOV') ('a', 'I-MOV') ('Time...', 'I-MOV') ('in', 'I-MOV') ('Hollywood', 'I-MOV') . \n",
            "('Once', 'B-MOV') ('Upon', 'I-MOV') ('a', 'I-MOV') ('Time...', 'I-MOV') ('in', 'I-MOV') ('Hollywood', 'I-MOV') . ('Die', 'B-MOV') ('Hard:', 'I-MOV') ('With', 'I-MOV') ('a', 'I-MOV') ('Vengeance', 'I-MOV') films like \n",
            "('a', 'I-MOV') ('Vengeance', 'I-MOV') films like Chan ’ s ('The', 'B-MOV') ('Gold', 'I-MOV') ('Rush', 'I-MOV') ('25th', 'B-MOV') ('Hour', 'I-MOV') ( 1998 \n",
            "like Chan ’ s ('The', 'B-MOV') ('Gold', 'I-MOV') ('Rush', 'I-MOV') ('25th', 'B-MOV') ('Hour', 'I-MOV') ( 1998 ) ('The', 'B-MOV') ('Good,', 'I-MOV') \n",
            "('Gold', 'I-MOV') ('Rush', 'I-MOV') ('25th', 'B-MOV') ('Hour', 'I-MOV') ( 1998 ) ('The', 'B-MOV') ('Good,', 'I-MOV') ('the', 'I-MOV') ('Bad', 'I-MOV') ('and', 'I-MOV') ('the', 'I-MOV') ('Ugly', 'I-MOV') \n",
            "('Good,', 'I-MOV') ('the', 'I-MOV') ('Bad', 'I-MOV') ('and', 'I-MOV') ('the', 'I-MOV') ('Ugly', 'I-MOV') Shanghai ('High', 'B-MOV') ('Noon', 'I-MOV') ( 2000 ) , ('The', 'B-MOV') \n",
            "Shanghai ('High', 'B-MOV') ('Noon', 'I-MOV') ( 2000 ) , ('The', 'B-MOV') ('Good,', 'I-MOV') ('the', 'I-MOV') ('Bad', 'I-MOV') ('and', 'I-MOV') ('the', 'I-MOV') ('Ugly', 'I-MOV') \n",
            "('the', 'I-MOV') ('Ugly', 'I-MOV') Li ’ s Romeo Must ('Die', 'B-MOV') ('Hard', 'I-MOV') ( 2000 ) ('The', 'B-MOV') ('Good,', 'I-MOV') \n",
            "Romeo Must ('Die', 'B-MOV') ('Hard', 'I-MOV') ( 2000 ) ('The', 'B-MOV') ('Good,', 'I-MOV') ('the', 'I-MOV') ('Bad', 'I-MOV') ('and', 'I-MOV') ('the', 'I-MOV') ('Ugly', 'I-MOV') \n",
            "('The', 'B-MOV') ('Good,', 'I-MOV') ('the', 'I-MOV') ('Bad', 'I-MOV') ('and', 'I-MOV') ('the', 'I-MOV') ('Ugly', 'I-MOV') ('The', 'B-MOV') ('Shawshank', 'I-MOV') ('Redemption', 'I-MOV') ('One', 'B-MOV') ('Flew', 'I-MOV') ('Over', 'I-MOV') ('the', 'I-MOV') \n",
            "('Bad', 'I-MOV') ('and', 'I-MOV') ('the', 'I-MOV') ('Ugly', 'I-MOV') ('The', 'B-MOV') ('Shawshank', 'I-MOV') ('Redemption', 'I-MOV') ('One', 'B-MOV') ('Flew', 'I-MOV') ('Over', 'I-MOV') ('the', 'I-MOV') (\"Cuckoo's\", 'I-MOV') ('Nest', 'I-MOV') ( \n",
            "fans could finally see kung fu films ('Like', 'B-MOV') ('Stars', 'I-MOV') ('on', 'I-MOV') ('Earth', 'I-MOV') (\"It's\", 'B-MOV') ('a', 'I-MOV') ('Wonderful', 'I-MOV') \n",
            "kung fu films ('Like', 'B-MOV') ('Stars', 'I-MOV') ('on', 'I-MOV') ('Earth', 'I-MOV') (\"It's\", 'B-MOV') ('a', 'I-MOV') ('Wonderful', 'I-MOV') ('Life', 'I-MOV') big screen without \n",
            "(\"It's\", 'B-MOV') ('a', 'I-MOV') ('Wonderful', 'I-MOV') ('Life', 'I-MOV') big screen without ('The', 'B-MOV') ('Lord', 'I-MOV') ('of', 'I-MOV') ('the', 'I-MOV') ('Rings:', 'I-MOV') ('The', 'I-MOV') ('Return', 'I-MOV') \n",
            "('Rings:', 'I-MOV') ('The', 'I-MOV') ('Return', 'I-MOV') ('of', 'I-MOV') ('the', 'I-MOV') ('King', 'I-MOV') need ('Witness', 'B-MOV') ('for', 'I-MOV') ('the', 'I-MOV') ('Prosecution', 'I-MOV') subtitles . Celebrated \n",
            "choreographer Yuen Woo-ping also lent his talents ('Back', 'B-MOV') ('to', 'I-MOV') ('the', 'I-MOV') ('Future', 'I-MOV') international productions , \n",
            "('Future', 'I-MOV') international productions , allowing kung fu ('Back', 'B-MOV') ('to', 'I-MOV') ('the', 'I-MOV') ('Future', 'I-MOV') find its way \n",
            "('Future', 'I-MOV') find its way into hits like ('The', 'B-MOV') ('Shawshank', 'I-MOV') ('Redemption', 'I-MOV') ('The', 'B-MOV') ('Matrix', 'I-MOV') ( 1999 \n",
            "way into hits like ('The', 'B-MOV') ('Shawshank', 'I-MOV') ('Redemption', 'I-MOV') ('The', 'B-MOV') ('Matrix', 'I-MOV') ( 1999 ) ('The', 'B-MOV') ('Good,', 'I-MOV') \n",
            "('Shawshank', 'I-MOV') ('Redemption', 'I-MOV') ('The', 'B-MOV') ('Matrix', 'I-MOV') ( 1999 ) ('The', 'B-MOV') ('Good,', 'I-MOV') ('the', 'I-MOV') ('Bad', 'I-MOV') ('and', 'I-MOV') ('the', 'I-MOV') ('Ugly', 'I-MOV') \n",
            "('The', 'B-MOV') ('Good,', 'I-MOV') ('the', 'I-MOV') ('Bad', 'I-MOV') ('and', 'I-MOV') ('the', 'I-MOV') ('Ugly', 'I-MOV') ('To', 'B-MOV') ('Kill', 'I-MOV') ('a', 'I-MOV') ('Mockingbird', 'I-MOV') Bill ( 2003 \n",
            "('a', 'I-MOV') ('Mockingbird', 'I-MOV') Bill ( 2003 ) . ('In', 'B-MOV') ('the', 'I-MOV') ('Name', 'I-MOV') ('of', 'I-MOV') ('the', 'I-MOV') ('Father', 'I-MOV') 2000 \n",
            "('the', 'I-MOV') ('Name', 'I-MOV') ('of', 'I-MOV') ('the', 'I-MOV') ('Father', 'I-MOV') 2000 , ('The', 'B-MOV') ('Lord', 'I-MOV') ('of', 'I-MOV') ('the', 'I-MOV') ('Rings:', 'I-MOV') ('The', 'I-MOV') ('Return', 'I-MOV') \n",
            "('The', 'I-MOV') ('Return', 'I-MOV') ('of', 'I-MOV') ('the', 'I-MOV') ('King', 'I-MOV') Chinese blockbuster ('Crouching', 'B-MOV') ('Tiger,', 'I-MOV') ('Hidden', 'I-MOV') ('Dragon', 'I-MOV') Tiger , ('The', 'B-MOV') \n",
            "blockbuster ('Crouching', 'B-MOV') ('Tiger,', 'I-MOV') ('Hidden', 'I-MOV') ('Dragon', 'I-MOV') Tiger , ('The', 'B-MOV') ('Hidden', 'I-MOV') ('Fortress', 'I-MOV') ('How', 'B-MOV') ('to', 'I-MOV') ('Train', 'I-MOV') ('Your', 'I-MOV') \n",
            "('Hidden', 'I-MOV') ('Dragon', 'I-MOV') Tiger , ('The', 'B-MOV') ('Hidden', 'I-MOV') ('Fortress', 'I-MOV') ('How', 'B-MOV') ('to', 'I-MOV') ('Train', 'I-MOV') ('Your', 'I-MOV') ('Dragon', 'I-MOV') showed modern \n",
            "modern international audiences now had an appetite ('Witness', 'B-MOV') ('for', 'I-MOV') ('the', 'I-MOV') ('Prosecution', 'I-MOV') ('The', 'B-MOV') ('Lord', 'I-MOV') ('of', 'I-MOV') \n",
            "had an appetite ('Witness', 'B-MOV') ('for', 'I-MOV') ('the', 'I-MOV') ('Prosecution', 'I-MOV') ('The', 'B-MOV') ('Lord', 'I-MOV') ('of', 'I-MOV') ('the', 'I-MOV') ('Rings:', 'I-MOV') ('The', 'I-MOV') ('Return', 'I-MOV') \n",
            "('The', 'I-MOV') ('Return', 'I-MOV') ('of', 'I-MOV') ('the', 'I-MOV') ('King', 'I-MOV') elaborate swordplay ('The', 'B-MOV') ('Good,', 'I-MOV') ('the', 'I-MOV') ('Bad', 'I-MOV') ('and', 'I-MOV') ('the', 'I-MOV') ('Ugly', 'I-MOV') \n",
            "('the', 'I-MOV') ('Bad', 'I-MOV') ('and', 'I-MOV') ('the', 'I-MOV') ('Ugly', 'I-MOV') gravity-defying wirework ('The', 'B-MOV') ('Lord', 'I-MOV') ('of', 'I-MOV') ('the', 'I-MOV') ('Rings:', 'I-MOV') ('The', 'I-MOV') ('Return', 'I-MOV') \n",
            "('Return', 'I-MOV') ('of', 'I-MOV') ('the', 'I-MOV') ('King', 'I-MOV') wuxia films , ('The', 'B-MOV') ('Good,', 'I-MOV') ('the', 'I-MOV') ('Bad', 'I-MOV') ('and', 'I-MOV') ('the', 'I-MOV') ('Ugly', 'I-MOV') \n",
            "('Bad', 'I-MOV') ('and', 'I-MOV') ('the', 'I-MOV') ('Ugly', 'I-MOV') many stars returned ('Back', 'B-MOV') ('to', 'I-MOV') ('the', 'I-MOV') ('Future', 'I-MOV') China ('Back', 'B-MOV') ('to', 'I-MOV') \n",
            "stars returned ('Back', 'B-MOV') ('to', 'I-MOV') ('the', 'I-MOV') ('Future', 'I-MOV') China ('Back', 'B-MOV') ('to', 'I-MOV') ('the', 'I-MOV') ('Future', 'I-MOV') capitalised ('Like', 'B-MOV') ('Stars', 'I-MOV') \n",
            "('Future', 'I-MOV') China ('Back', 'B-MOV') ('to', 'I-MOV') ('the', 'I-MOV') ('Future', 'I-MOV') capitalised ('Like', 'B-MOV') ('Stars', 'I-MOV') ('on', 'I-MOV') ('Earth', 'I-MOV') ('The', 'B-MOV') ('Lord', 'I-MOV') ('of', 'I-MOV') \n",
            "('the', 'I-MOV') ('Future', 'I-MOV') capitalised ('Like', 'B-MOV') ('Stars', 'I-MOV') ('on', 'I-MOV') ('Earth', 'I-MOV') ('The', 'B-MOV') ('Lord', 'I-MOV') ('of', 'I-MOV') ('the', 'I-MOV') ('Rings:', 'I-MOV') ('The', 'I-MOV') ('Return', 'I-MOV') \n",
            "('King', 'I-MOV') trend . Jet Li ’ s ('Hero', 'B-MOV') ( 2002 ) ('The', 'B-MOV') ('Good,', 'I-MOV') ('the', 'I-MOV') \n",
            "Li ’ s ('Hero', 'B-MOV') ( 2002 ) ('The', 'B-MOV') ('Good,', 'I-MOV') ('the', 'I-MOV') ('Bad', 'I-MOV') ('and', 'I-MOV') ('the', 'I-MOV') ('Ugly', 'I-MOV') \n",
            "('the', 'I-MOV') ('Ugly', 'I-MOV') Fearless ( 2006 ) , ('As', 'B-MOV') ('Good', 'I-MOV') ('as', 'I-MOV') ('It', 'I-MOV') ('Gets', 'I-MOV') well ('As', 'B-MOV') \n",
            ", ('As', 'B-MOV') ('Good', 'I-MOV') ('as', 'I-MOV') ('It', 'I-MOV') ('Gets', 'I-MOV') well ('As', 'B-MOV') ('Good', 'I-MOV') ('as', 'I-MOV') ('It', 'I-MOV') ('Gets', 'I-MOV') House ('The', 'B-MOV') \n",
            "well ('As', 'B-MOV') ('Good', 'I-MOV') ('as', 'I-MOV') ('It', 'I-MOV') ('Gets', 'I-MOV') House ('The', 'B-MOV') ('Lord', 'I-MOV') ('of', 'I-MOV') ('the', 'I-MOV') ('Rings:', 'I-MOV') ('The', 'I-MOV') ('Return', 'I-MOV') \n",
            "('the', 'I-MOV') ('King', 'I-MOV') Flying Daggers ( 2004 ) ('The', 'B-MOV') ('Good,', 'I-MOV') ('the', 'I-MOV') ('Bad', 'I-MOV') ('and', 'I-MOV') ('the', 'I-MOV') ('Ugly', 'I-MOV') \n",
            "('The', 'B-MOV') ('Good,', 'I-MOV') ('the', 'I-MOV') ('Bad', 'I-MOV') ('and', 'I-MOV') ('the', 'I-MOV') ('Ugly', 'I-MOV') ('The', 'B-MOV') ('Lord', 'I-MOV') ('of', 'I-MOV') ('the', 'I-MOV') ('Rings:', 'I-MOV') ('The', 'I-MOV') ('Return', 'I-MOV') \n",
            "('The', 'I-MOV') ('Return', 'I-MOV') ('of', 'I-MOV') ('the', 'I-MOV') ('King', 'I-MOV') first film ('Back', 'B-MOV') ('to', 'I-MOV') ('the', 'I-MOV') ('Future', 'I-MOV') feature both Jackie \n",
            "('to', 'I-MOV') ('the', 'I-MOV') ('Future', 'I-MOV') feature both Jackie Chan ('The', 'B-MOV') ('Good,', 'I-MOV') ('the', 'I-MOV') ('Bad', 'I-MOV') ('and', 'I-MOV') ('the', 'I-MOV') ('Ugly', 'I-MOV') \n",
            "('and', 'I-MOV') ('the', 'I-MOV') ('Ugly', 'I-MOV') Jet Li , Forbidden ('Moonrise', 'B-MOV') ('Kingdom', 'I-MOV') ( 2008 ) , all \n",
            "('Kingdom', 'I-MOV') ( 2008 ) , all helped ('Back', 'B-MOV') ('to', 'I-MOV') ('the', 'I-MOV') ('Future', 'I-MOV') redefine ('The', 'B-MOV') ('Lord', 'I-MOV') \n",
            "all helped ('Back', 'B-MOV') ('to', 'I-MOV') ('the', 'I-MOV') ('Future', 'I-MOV') redefine ('The', 'B-MOV') ('Lord', 'I-MOV') ('of', 'I-MOV') ('the', 'I-MOV') ('Rings:', 'I-MOV') ('The', 'I-MOV') ('Return', 'I-MOV') \n",
            "martial arts film : bringing star power ('The', 'B-MOV') ('Good,', 'I-MOV') ('the', 'I-MOV') ('Bad', 'I-MOV') ('and', 'I-MOV') ('the', 'I-MOV') ('Ugly', 'I-MOV') \n",
            "('the', 'I-MOV') ('Bad', 'I-MOV') ('and', 'I-MOV') ('the', 'I-MOV') ('Ugly', 'I-MOV') global audiences ('Back', 'B-MOV') ('to', 'I-MOV') ('the', 'I-MOV') ('Future', 'I-MOV') an industry that \n",
            "local attention . These Chinese-made films focused ('Like', 'B-MOV') ('Stars', 'I-MOV') ('on', 'I-MOV') ('Earth', 'I-MOV') producing elegant wuxia \n",
            "('Earth', 'I-MOV') producing elegant wuxia action dramas . ('In', 'B-MOV') ('the', 'I-MOV') ('Name', 'I-MOV') ('of', 'I-MOV') ('the', 'I-MOV') ('Father', 'I-MOV') Hong \n",
            "('In', 'B-MOV') ('the', 'I-MOV') ('Name', 'I-MOV') ('of', 'I-MOV') ('the', 'I-MOV') ('Father', 'I-MOV') Hong ('King', 'B-MOV') ('Kong', 'I-MOV') , kung fu was still \n",
            "was still going strong , largely thanks ('Back', 'B-MOV') ('to', 'I-MOV') ('the', 'I-MOV') ('Future', 'I-MOV') Stephen Chow ’ \n",
            "popular comedies Shaolin Soccer ( 2001 ) ('The', 'B-MOV') ('Good,', 'I-MOV') ('the', 'I-MOV') ('Bad', 'I-MOV') ('and', 'I-MOV') ('the', 'I-MOV') ('Ugly', 'I-MOV') \n",
            "('The', 'B-MOV') ('Good,', 'I-MOV') ('the', 'I-MOV') ('Bad', 'I-MOV') ('and', 'I-MOV') ('the', 'I-MOV') ('Ugly', 'I-MOV') ('Kung', 'B-MOV') ('Fu', 'I-MOV') ('Hustle', 'I-MOV') ('Kung', 'B-MOV') ('Fu', 'I-MOV') ('Hustle', 'I-MOV') ('Kung', 'B-MOV') \n",
            "('Bad', 'I-MOV') ('and', 'I-MOV') ('the', 'I-MOV') ('Ugly', 'I-MOV') ('Kung', 'B-MOV') ('Fu', 'I-MOV') ('Hustle', 'I-MOV') ('Kung', 'B-MOV') ('Fu', 'I-MOV') ('Hustle', 'I-MOV') ('Kung', 'B-MOV') ('Fu', 'I-MOV') ('Hustle', 'I-MOV') ( \n",
            "('Ugly', 'I-MOV') ('Kung', 'B-MOV') ('Fu', 'I-MOV') ('Hustle', 'I-MOV') ('Kung', 'B-MOV') ('Fu', 'I-MOV') ('Hustle', 'I-MOV') ('Kung', 'B-MOV') ('Fu', 'I-MOV') ('Hustle', 'I-MOV') ( 2004 ) , \n",
            "('Kung', 'B-MOV') ('Fu', 'I-MOV') ('Hustle', 'I-MOV') ( 2004 ) , ('The', 'B-MOV') ('Good,', 'I-MOV') ('the', 'I-MOV') ('Bad', 'I-MOV') ('and', 'I-MOV') ('the', 'I-MOV') ('Ugly', 'I-MOV') \n",
            "('The', 'B-MOV') ('Good,', 'I-MOV') ('the', 'I-MOV') ('Bad', 'I-MOV') ('and', 'I-MOV') ('the', 'I-MOV') ('Ugly', 'I-MOV') ('Donnie', 'B-MOV') ('Darko', 'I-MOV') Yen ’ s ('Ip', 'B-MOV') ('Man', 'I-MOV') \n",
            "('the', 'I-MOV') ('Ugly', 'I-MOV') ('Donnie', 'B-MOV') ('Darko', 'I-MOV') Yen ’ s ('Ip', 'B-MOV') ('Man', 'I-MOV') ('The', 'B-MOV') ('Elephant', 'I-MOV') ('Man', 'I-MOV') ( 2008 \n",
            "('Donnie', 'B-MOV') ('Darko', 'I-MOV') Yen ’ s ('Ip', 'B-MOV') ('Man', 'I-MOV') ('The', 'B-MOV') ('Elephant', 'I-MOV') ('Man', 'I-MOV') ( 2008 ) . \n",
            "('Man', 'I-MOV') ( 2008 ) . Shang-Chi : ('The', 'B-MOV') ('Lord', 'I-MOV') ('of', 'I-MOV') ('the', 'I-MOV') ('Rings:', 'I-MOV') ('The', 'I-MOV') ('Return', 'I-MOV') \n",
            "('Return', 'I-MOV') ('of', 'I-MOV') ('the', 'I-MOV') ('King', 'I-MOV') first Asian superhero ('In', 'B-MOV') ('the', 'I-MOV') ('Name', 'I-MOV') ('of', 'I-MOV') ('the', 'I-MOV') ('Father', 'I-MOV') many \n",
            "('Name', 'I-MOV') ('of', 'I-MOV') ('the', 'I-MOV') ('Father', 'I-MOV') many ways , ('The', 'B-MOV') ('Lord', 'I-MOV') ('of', 'I-MOV') ('the', 'I-MOV') ('Rings:', 'I-MOV') ('The', 'I-MOV') ('Return', 'I-MOV') \n",
            "('Rings:', 'I-MOV') ('The', 'I-MOV') ('Return', 'I-MOV') ('of', 'I-MOV') ('the', 'I-MOV') ('King', 'I-MOV') character ('The', 'B-MOV') ('Lord', 'I-MOV') ('of', 'I-MOV') ('the', 'I-MOV') ('Rings:', 'I-MOV') ('The', 'I-MOV') ('Return', 'I-MOV') \n",
            "('of', 'I-MOV') ('the', 'I-MOV') ('King', 'I-MOV') Shang-Chi may be seen ('As', 'B-MOV') ('Good', 'I-MOV') ('as', 'I-MOV') ('It', 'I-MOV') ('Gets', 'I-MOV') ('The', 'B-MOV') ('Lord', 'I-MOV') \n",
            "be seen ('As', 'B-MOV') ('Good', 'I-MOV') ('as', 'I-MOV') ('It', 'I-MOV') ('Gets', 'I-MOV') ('The', 'B-MOV') ('Lord', 'I-MOV') ('of', 'I-MOV') ('the', 'I-MOV') ('Rings:', 'I-MOV') ('The', 'I-MOV') ('Return', 'I-MOV') \n",
            "('The', 'I-MOV') ('Return', 'I-MOV') ('of', 'I-MOV') ('the', 'I-MOV') ('King', 'I-MOV') cultural successor ('Back', 'B-MOV') ('to', 'I-MOV') ('the', 'I-MOV') ('Future', 'I-MOV') Bruce Lee . \n",
            "('the', 'I-MOV') ('Future', 'I-MOV') Bruce Lee . Created during ('The', 'B-MOV') ('Lord', 'I-MOV') ('of', 'I-MOV') ('the', 'I-MOV') ('Rings:', 'I-MOV') ('The', 'I-MOV') ('Return', 'I-MOV') \n",
            "('Rings:', 'I-MOV') ('The', 'I-MOV') ('Return', 'I-MOV') ('of', 'I-MOV') ('the', 'I-MOV') ('King', 'I-MOV') height ('The', 'B-MOV') ('Lord', 'I-MOV') ('of', 'I-MOV') ('the', 'I-MOV') ('Rings:', 'I-MOV') ('The', 'I-MOV') ('Return', 'I-MOV') \n",
            "('the', 'I-MOV') ('Rings:', 'I-MOV') ('The', 'I-MOV') ('Return', 'I-MOV') ('of', 'I-MOV') ('the', 'I-MOV') ('King', 'I-MOV') ('The', 'B-MOV') ('Lord', 'I-MOV') ('of', 'I-MOV') ('the', 'I-MOV') ('Rings:', 'I-MOV') ('The', 'I-MOV') ('Return', 'I-MOV') \n",
            "('The', 'I-MOV') ('Return', 'I-MOV') ('of', 'I-MOV') ('the', 'I-MOV') ('King', 'I-MOV') global obsession ('Gone', 'B-MOV') ('with', 'I-MOV') ('the', 'I-MOV') ('Wind', 'I-MOV') Lee ’ s \n",
            "('the', 'I-MOV') ('Wind', 'I-MOV') Lee ’ s films , ('The', 'B-MOV') ('Lord', 'I-MOV') ('of', 'I-MOV') ('the', 'I-MOV') ('Rings:', 'I-MOV') ('The', 'I-MOV') ('Return', 'I-MOV') \n",
            "('Rings:', 'I-MOV') ('The', 'I-MOV') ('Return', 'I-MOV') ('of', 'I-MOV') ('the', 'I-MOV') ('King', 'I-MOV') character ('The', 'B-MOV') ('Lord', 'I-MOV') ('of', 'I-MOV') ('the', 'I-MOV') ('Rings:', 'I-MOV') ('The', 'I-MOV') ('Return', 'I-MOV') \n",
            "('Return', 'I-MOV') ('of', 'I-MOV') ('the', 'I-MOV') ('King', 'I-MOV') Shang-Chi first appeared ('Once', 'B-MOV') ('Upon', 'I-MOV') ('a', 'I-MOV') ('Time', 'I-MOV') ('in', 'I-MOV') ('the', 'I-MOV') ('West', 'I-MOV') \n",
            "('a', 'I-MOV') ('Time', 'I-MOV') ('in', 'I-MOV') ('the', 'I-MOV') ('West', 'I-MOV') Marvel comics ('Once', 'B-MOV') ('Upon', 'I-MOV') ('a', 'I-MOV') ('Time', 'I-MOV') ('in', 'I-MOV') ('the', 'I-MOV') ('West', 'I-MOV') \n",
            "('West', 'I-MOV') December 1973 – just months after ('The', 'B-MOV') ('Lord', 'I-MOV') ('of', 'I-MOV') ('the', 'I-MOV') ('Rings:', 'I-MOV') ('The', 'I-MOV') ('Return', 'I-MOV') \n",
            "('Rings:', 'I-MOV') ('The', 'I-MOV') ('Return', 'I-MOV') ('of', 'I-MOV') ('the', 'I-MOV') ('King', 'I-MOV') death ('The', 'B-MOV') ('Lord', 'I-MOV') ('of', 'I-MOV') ('the', 'I-MOV') ('Rings:', 'I-MOV') ('The', 'I-MOV') ('Return', 'I-MOV') \n",
            "('the', 'I-MOV') ('Rings:', 'I-MOV') ('The', 'I-MOV') ('Return', 'I-MOV') ('of', 'I-MOV') ('the', 'I-MOV') ('King', 'I-MOV') ('The', 'B-MOV') ('Lord', 'I-MOV') ('of', 'I-MOV') ('the', 'I-MOV') ('Rings:', 'I-MOV') ('The', 'I-MOV') ('Return', 'I-MOV') \n",
            "“ other kung fu hero ” , ('The', 'B-MOV') ('Iron', 'I-MOV') ('Giant', 'I-MOV') Fist ('The', 'B-MOV') ('Man', 'I-MOV') ('from', 'I-MOV') \n",
            "hero ” , ('The', 'B-MOV') ('Iron', 'I-MOV') ('Giant', 'I-MOV') Fist ('The', 'B-MOV') ('Man', 'I-MOV') ('from', 'I-MOV') ('Earth', 'I-MOV') ('The', 'B-MOV') ('Lord', 'I-MOV') ('of', 'I-MOV') \n",
            "('Iron', 'I-MOV') ('Giant', 'I-MOV') Fist ('The', 'B-MOV') ('Man', 'I-MOV') ('from', 'I-MOV') ('Earth', 'I-MOV') ('The', 'B-MOV') ('Lord', 'I-MOV') ('of', 'I-MOV') ('the', 'I-MOV') ('Rings:', 'I-MOV') ('The', 'I-MOV') ('Return', 'I-MOV') \n",
            "('Return', 'I-MOV') ('of', 'I-MOV') ('the', 'I-MOV') ('King', 'I-MOV') 2017 Netflix series ('The', 'B-MOV') ('Lord', 'I-MOV') ('of', 'I-MOV') ('the', 'I-MOV') ('Rings:', 'I-MOV') ('The', 'I-MOV') ('Return', 'I-MOV') \n",
            "('the', 'I-MOV') ('Rings:', 'I-MOV') ('The', 'I-MOV') ('Return', 'I-MOV') ('of', 'I-MOV') ('the', 'I-MOV') ('King', 'I-MOV') ('The', 'B-MOV') ('Lord', 'I-MOV') ('of', 'I-MOV') ('the', 'I-MOV') ('Rings:', 'I-MOV') ('The', 'I-MOV') ('Return', 'I-MOV') \n",
            "('King', 'I-MOV') same name , was controversial . ('The', 'B-MOV') ('Shawshank', 'I-MOV') ('Redemption', 'I-MOV') star , Finn ('Indiana', 'B-MOV') \n",
            ". ('The', 'B-MOV') ('Shawshank', 'I-MOV') ('Redemption', 'I-MOV') star , Finn ('Indiana', 'B-MOV') ('Jones', 'I-MOV') ('and', 'I-MOV') ('the', 'I-MOV') ('Last', 'I-MOV') ('Crusade', 'I-MOV') , \n",
            "('Crusade', 'I-MOV') , lacked martial arts experience , ('The', 'B-MOV') ('Good,', 'I-MOV') ('the', 'I-MOV') ('Bad', 'I-MOV') ('and', 'I-MOV') ('the', 'I-MOV') ('Ugly', 'I-MOV') \n",
            "('The', 'B-MOV') ('Good,', 'I-MOV') ('the', 'I-MOV') ('Bad', 'I-MOV') ('and', 'I-MOV') ('the', 'I-MOV') ('Ugly', 'I-MOV') ('The', 'B-MOV') ('Lord', 'I-MOV') ('of', 'I-MOV') ('the', 'I-MOV') ('Rings:', 'I-MOV') ('The', 'I-MOV') ('Return', 'I-MOV') \n",
            "('Return', 'I-MOV') ('of', 'I-MOV') ('the', 'I-MOV') ('King', 'I-MOV') show was criticised ('Witness', 'B-MOV') ('for', 'I-MOV') ('the', 'I-MOV') ('Prosecution', 'I-MOV') its “ white \n",
            "its “ white saviour ” narrative . ('In', 'B-MOV') ('the', 'I-MOV') ('Name', 'I-MOV') ('of', 'I-MOV') ('the', 'I-MOV') ('Father', 'I-MOV') light \n",
            "('In', 'B-MOV') ('the', 'I-MOV') ('Name', 'I-MOV') ('of', 'I-MOV') ('the', 'I-MOV') ('Father', 'I-MOV') light ('The', 'B-MOV') ('Lord', 'I-MOV') ('of', 'I-MOV') ('the', 'I-MOV') ('Rings:', 'I-MOV') ('The', 'I-MOV') ('Return', 'I-MOV') \n",
            "('The', 'I-MOV') ('Return', 'I-MOV') ('of', 'I-MOV') ('the', 'I-MOV') ('King', 'I-MOV') this , ('The', 'B-MOV') ('Lord', 'I-MOV') ('of', 'I-MOV') ('the', 'I-MOV') ('Rings:', 'I-MOV') ('The', 'I-MOV') ('Return', 'I-MOV') \n",
            "('Rings:', 'I-MOV') ('The', 'I-MOV') ('Return', 'I-MOV') ('of', 'I-MOV') ('the', 'I-MOV') ('King', 'I-MOV') producers ('The', 'B-MOV') ('Lord', 'I-MOV') ('of', 'I-MOV') ('the', 'I-MOV') ('Rings:', 'I-MOV') ('The', 'I-MOV') ('Return', 'I-MOV') \n",
            "('Return', 'I-MOV') ('of', 'I-MOV') ('the', 'I-MOV') ('King', 'I-MOV') Shang-Chi were keen ('Back', 'B-MOV') ('to', 'I-MOV') ('the', 'I-MOV') ('Future', 'I-MOV') bring together (\"It's\", 'B-MOV') \n",
            "keen ('Back', 'B-MOV') ('to', 'I-MOV') ('the', 'I-MOV') ('Future', 'I-MOV') bring together (\"It's\", 'B-MOV') ('a', 'I-MOV') ('Wonderful', 'I-MOV') ('Life', 'I-MOV') predominantly Asian ('The', 'B-MOV') \n",
            "together (\"It's\", 'B-MOV') ('a', 'I-MOV') ('Wonderful', 'I-MOV') ('Life', 'I-MOV') predominantly Asian ('The', 'B-MOV') ('Good,', 'I-MOV') ('the', 'I-MOV') ('Bad', 'I-MOV') ('and', 'I-MOV') ('the', 'I-MOV') ('Ugly', 'I-MOV') \n",
            "('the', 'I-MOV') ('Bad', 'I-MOV') ('and', 'I-MOV') ('the', 'I-MOV') ('Ugly', 'I-MOV') Asian-American cast ('The', 'B-MOV') ('Good,', 'I-MOV') ('the', 'I-MOV') ('Bad', 'I-MOV') ('and', 'I-MOV') ('the', 'I-MOV') ('Ugly', 'I-MOV') \n",
            "('the', 'I-MOV') ('Ugly', 'I-MOV') crew who could do justice ('Back', 'B-MOV') ('to', 'I-MOV') ('the', 'I-MOV') ('Future', 'I-MOV') ('The', 'B-MOV') ('Lord', 'I-MOV') ('of', 'I-MOV') \n",
            "could do justice ('Back', 'B-MOV') ('to', 'I-MOV') ('the', 'I-MOV') ('Future', 'I-MOV') ('The', 'B-MOV') ('Lord', 'I-MOV') ('of', 'I-MOV') ('the', 'I-MOV') ('Rings:', 'I-MOV') ('The', 'I-MOV') ('Return', 'I-MOV') \n",
            "('Return', 'I-MOV') ('of', 'I-MOV') ('the', 'I-MOV') ('King', 'I-MOV') first Asian superhero ('Back', 'B-MOV') ('to', 'I-MOV') ('the', 'I-MOV') ('Future', 'I-MOV') headline (\"It's\", 'B-MOV') ('a', 'I-MOV') \n",
            "Asian superhero ('Back', 'B-MOV') ('to', 'I-MOV') ('the', 'I-MOV') ('Future', 'I-MOV') headline (\"It's\", 'B-MOV') ('a', 'I-MOV') ('Wonderful', 'I-MOV') ('Life', 'I-MOV') Marvel feature film \n",
            "('a', 'I-MOV') ('Wonderful', 'I-MOV') ('Life', 'I-MOV') Marvel feature film . ('This', 'B-MOV') ('Is', 'I-MOV') ('Spinal', 'I-MOV') ('Tap', 'I-MOV') has paid off \n",
            "paid off : Shang-Chi is being praised ('As', 'B-MOV') ('Good', 'I-MOV') ('as', 'I-MOV') ('It', 'I-MOV') ('Gets', 'I-MOV') both (\"It's\", 'B-MOV') \n",
            "praised ('As', 'B-MOV') ('Good', 'I-MOV') ('as', 'I-MOV') ('It', 'I-MOV') ('Gets', 'I-MOV') both (\"It's\", 'B-MOV') ('a', 'I-MOV') ('Wonderful', 'I-MOV') ('Life', 'I-MOV') classic Marvel superhero \n",
            "('Wonderful', 'I-MOV') ('Life', 'I-MOV') classic Marvel superhero film , ('The', 'B-MOV') ('Good,', 'I-MOV') ('the', 'I-MOV') ('Bad', 'I-MOV') ('and', 'I-MOV') ('the', 'I-MOV') ('Ugly', 'I-MOV') \n",
            "('the', 'I-MOV') ('Ugly', 'I-MOV') an exceptional kung fu film ('Once', 'B-MOV') ('Upon', 'I-MOV') ('a', 'I-MOV') ('Time', 'I-MOV') ('in', 'I-MOV') ('the', 'I-MOV') ('West', 'I-MOV') \n",
            "right . Under fight director Andy Cheng ('The', 'B-MOV') ('Good,', 'I-MOV') ('the', 'I-MOV') ('Bad', 'I-MOV') ('and', 'I-MOV') ('the', 'I-MOV') ('Ugly', 'I-MOV') \n",
            "('the', 'I-MOV') ('Ugly', 'I-MOV') stunt coordinator Brad Allan , ('The', 'B-MOV') ('Lord', 'I-MOV') ('of', 'I-MOV') ('the', 'I-MOV') ('Rings:', 'I-MOV') ('The', 'I-MOV') ('Return', 'I-MOV') \n",
            "('Return', 'I-MOV') ('of', 'I-MOV') ('the', 'I-MOV') ('King', 'I-MOV') film draws upon (\"It's\", 'B-MOV') ('a', 'I-MOV') ('Wonderful', 'I-MOV') ('Life', 'I-MOV') range ('The', 'B-MOV') ('Lord', 'I-MOV') \n",
            "draws upon (\"It's\", 'B-MOV') ('a', 'I-MOV') ('Wonderful', 'I-MOV') ('Life', 'I-MOV') range ('The', 'B-MOV') ('Lord', 'I-MOV') ('of', 'I-MOV') ('the', 'I-MOV') ('Rings:', 'I-MOV') ('The', 'I-MOV') ('Return', 'I-MOV') \n",
            "chun , Shaolin kung fu , bajiquan ('The', 'B-MOV') ('Good,', 'I-MOV') ('the', 'I-MOV') ('Bad', 'I-MOV') ('and', 'I-MOV') ('the', 'I-MOV') ('Ugly', 'I-MOV') \n",
            "('and', 'I-MOV') ('the', 'I-MOV') ('Ugly', 'I-MOV') hung ga stances , ('The', 'B-MOV') ('Good,', 'I-MOV') ('the', 'I-MOV') ('Bad', 'I-MOV') ('and', 'I-MOV') ('the', 'I-MOV') ('Ugly', 'I-MOV') \n",
            "('The', 'B-MOV') ('Good,', 'I-MOV') ('the', 'I-MOV') ('Bad', 'I-MOV') ('and', 'I-MOV') ('the', 'I-MOV') ('Ugly', 'I-MOV') ('The', 'B-MOV') ('Lord', 'I-MOV') ('of', 'I-MOV') ('the', 'I-MOV') ('Rings:', 'I-MOV') ('The', 'I-MOV') ('Return', 'I-MOV') \n",
            "('The', 'I-MOV') ('Return', 'I-MOV') ('of', 'I-MOV') ('the', 'I-MOV') ('King', 'I-MOV') iron rings ('The', 'B-MOV') ('Man', 'I-MOV') ('from', 'I-MOV') ('Earth', 'I-MOV') which ('The', 'B-MOV') ('Lord', 'I-MOV') \n",
            "iron rings ('The', 'B-MOV') ('Man', 'I-MOV') ('from', 'I-MOV') ('Earth', 'I-MOV') which ('The', 'B-MOV') ('Lord', 'I-MOV') ('of', 'I-MOV') ('the', 'I-MOV') ('Rings:', 'I-MOV') ('The', 'I-MOV') ('Return', 'I-MOV') \n",
            "('the', 'I-MOV') ('King', 'I-MOV') film gets its title . ('Once', 'B-MOV') ('Upon', 'I-MOV') ('a', 'I-MOV') ('Time...', 'I-MOV') ('in', 'I-MOV') ('Hollywood', 'I-MOV') has \n",
            "('Upon', 'I-MOV') ('a', 'I-MOV') ('Time...', 'I-MOV') ('in', 'I-MOV') ('Hollywood', 'I-MOV') has come (\"It's\", 'B-MOV') ('a', 'I-MOV') ('Wonderful', 'I-MOV') ('Life', 'I-MOV') long way ('The', 'B-MOV') \n",
            "come (\"It's\", 'B-MOV') ('a', 'I-MOV') ('Wonderful', 'I-MOV') ('Life', 'I-MOV') long way ('The', 'B-MOV') ('Man', 'I-MOV') ('from', 'I-MOV') ('Earth', 'I-MOV') declaring Lee “ \n",
            "('Earth', 'I-MOV') declaring Lee “ too authentic ” ('Back', 'B-MOV') ('to', 'I-MOV') ('the', 'I-MOV') ('Future', 'I-MOV') take ('The', 'B-MOV') ('Lord', 'I-MOV') \n",
            "authentic ” ('Back', 'B-MOV') ('to', 'I-MOV') ('the', 'I-MOV') ('Future', 'I-MOV') take ('The', 'B-MOV') ('Lord', 'I-MOV') ('of', 'I-MOV') ('the', 'I-MOV') ('Rings:', 'I-MOV') ('The', 'I-MOV') ('Return', 'I-MOV') \n",
            "('The', 'I-MOV') ('Return', 'I-MOV') ('of', 'I-MOV') ('the', 'I-MOV') ('King', 'I-MOV') lead role ('Once', 'B-MOV') ('Upon', 'I-MOV') ('a', 'I-MOV') ('Time', 'I-MOV') ('in', 'I-MOV') ('the', 'I-MOV') ('West', 'I-MOV') \n",
            "('Once', 'B-MOV') ('Upon', 'I-MOV') ('a', 'I-MOV') ('Time', 'I-MOV') ('in', 'I-MOV') ('the', 'I-MOV') ('West', 'I-MOV') ('The', 'B-MOV') ('Lord', 'I-MOV') ('of', 'I-MOV') ('the', 'I-MOV') ('Rings:', 'I-MOV') ('The', 'I-MOV') ('Return', 'I-MOV') \n",
            "('The', 'I-MOV') ('Return', 'I-MOV') ('of', 'I-MOV') ('the', 'I-MOV') ('King', 'I-MOV') original 1970s ('Kung', 'B-MOV') ('Fu', 'I-MOV') ('Hustle', 'I-MOV') ('Kung', 'B-MOV') ('Fu', 'I-MOV') ('Hustle', 'I-MOV') television \n",
            "('the', 'I-MOV') ('King', 'I-MOV') original 1970s ('Kung', 'B-MOV') ('Fu', 'I-MOV') ('Hustle', 'I-MOV') ('Kung', 'B-MOV') ('Fu', 'I-MOV') ('Hustle', 'I-MOV') television series . Shang-Chi \n",
            "('Hustle', 'I-MOV') television series . Shang-Chi is likely ('Back', 'B-MOV') ('to', 'I-MOV') ('the', 'I-MOV') ('Future', 'I-MOV') inspire (\"It's\", 'B-MOV') ('a', 'I-MOV') \n",
            "is likely ('Back', 'B-MOV') ('to', 'I-MOV') ('the', 'I-MOV') ('Future', 'I-MOV') inspire (\"It's\", 'B-MOV') ('a', 'I-MOV') ('Wonderful', 'I-MOV') ('Life', 'I-MOV') whole new generation \n",
            "(\"It's\", 'B-MOV') ('a', 'I-MOV') ('Wonderful', 'I-MOV') ('Life', 'I-MOV') whole new generation ('The', 'B-MOV') ('Lord', 'I-MOV') ('of', 'I-MOV') ('the', 'I-MOV') ('Rings:', 'I-MOV') ('The', 'I-MOV') ('Return', 'I-MOV') \n"
          ]
        }
      ]
    }
  ]
}