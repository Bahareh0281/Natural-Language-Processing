{
  "nbformat": 4,
  "nbformat_minor": 0,
  "metadata": {
    "colab": {
      "provenance": []
    },
    "kernelspec": {
      "name": "python3",
      "display_name": "Python 3"
    },
    "language_info": {
      "name": "python"
    }
  },
  "cells": [
    {
      "cell_type": "markdown",
      "source": [
        "# Q3"
      ],
      "metadata": {
        "id": "NgQDc4v3TfsF"
      }
    },
    {
      "cell_type": "markdown",
      "source": [
        "*   We will develop a NER system specific to the category of names of the top 1000 movie titles from IMDB.\n",
        "\n",
        "*   We will evaluate the system on a collection of text likely to contain instances of these named entities."
      ],
      "metadata": {
        "id": "r3BJFGcYT-LV"
      }
    },
    {
      "cell_type": "code",
      "source": [
        "import nltk\n",
        "nltk.download('punkt')"
      ],
      "metadata": {
        "id": "GnwTjXyH5Xls",
        "colab": {
          "base_uri": "https://localhost:8080/"
        },
        "outputId": "c32a9ea0-a90e-4be3-8e5d-2cd1979ad6e2"
      },
      "execution_count": 44,
      "outputs": [
        {
          "output_type": "stream",
          "name": "stderr",
          "text": [
            "[nltk_data] Downloading package punkt to /root/nltk_data...\n",
            "[nltk_data]   Package punkt is already up-to-date!\n"
          ]
        },
        {
          "output_type": "execute_result",
          "data": {
            "text/plain": [
              "True"
            ]
          },
          "metadata": {},
          "execution_count": 44
        }
      ]
    },
    {
      "cell_type": "code",
      "source": [
        "import re\n",
        "import csv\n",
        "import math\n",
        "import nltk\n",
        "nltk.download('brown')\n",
        "nltk.download('movie_reviews')\n",
        "from nltk.corpus import brown, movie_reviews\n",
        "from nltk.tokenize import word_tokenize"
      ],
      "metadata": {
        "id": "o3DlFdNPT95l",
        "colab": {
          "base_uri": "https://localhost:8080/"
        },
        "outputId": "01bb4ed2-46d9-44d2-cf7a-2944e432d83d"
      },
      "execution_count": 45,
      "outputs": [
        {
          "output_type": "stream",
          "name": "stderr",
          "text": [
            "[nltk_data] Downloading package brown to /root/nltk_data...\n",
            "[nltk_data]   Package brown is already up-to-date!\n",
            "[nltk_data] Downloading package movie_reviews to /root/nltk_data...\n",
            "[nltk_data]   Package movie_reviews is already up-to-date!\n"
          ]
        }
      ]
    },
    {
      "cell_type": "code",
      "source": [
        "def get_top_1000_list():\n",
        "    \"\"\"\n",
        "    Function to extract movie titles from a IMDB-top-1000.csv file.\n",
        "\n",
        "    Returns:\n",
        "        list: A list of unique titles of the top 1000 movies\n",
        "    \"\"\"\n",
        "    movie_titles = []\n",
        "    csv_file_path = 'IMDB-top-1000.csv'\n",
        "    with open(csv_file_path, 'r', encoding='utf-8') as file:\n",
        "        reader = csv.reader(file)\n",
        "        next(reader)\n",
        "        for row in reader:\n",
        "          # print (type(row))\n",
        "          # print(\"Row is: \", row)\n",
        "            title = row[1]\n",
        "            movie_titles.append(title.split())\n",
        "\n",
        "    # collected_titles =  list(set(movie_titles))  # Return unique movie titles\n",
        "    collected_titles = movie_titles\n",
        "    return collected_titles"
      ],
      "metadata": {
        "id": "5hHLacEwzP3q"
      },
      "execution_count": 46,
      "outputs": []
    },
    {
      "cell_type": "code",
      "source": [
        "# Example usage\n",
        "movie_titles = get_top_1000_list()\n",
        "print(movie_titles)"
      ],
      "metadata": {
        "colab": {
          "base_uri": "https://localhost:8080/"
        },
        "id": "d3WMjuXDoqo8",
        "outputId": "7e2ad198-fcaa-4c47-b0c1-1b93647673ff"
      },
      "execution_count": 47,
      "outputs": [
        {
          "output_type": "stream",
          "name": "stdout",
          "text": [
            "[['The', 'Shawshank', 'Redemption'], ['The', 'Godfather'], ['The', 'Dark', 'Knight'], ['The', 'Lord', 'of', 'the', 'Rings:', 'The', 'Return', 'of', 'the', 'King'], [\"Schindler's\", 'List'], ['The', 'Godfather', 'Part', 'II'], ['12', 'Angry', 'Men'], ['Jai', 'Bhim'], ['Pulp', 'Fiction'], ['Inception'], ['The', 'Lord', 'of', 'the', 'Rings:', 'The', 'Two', 'Towers'], ['Fight', 'Club'], ['The', 'Lord', 'of', 'the', 'Rings:', 'The', 'Fellowship', 'of', 'the', 'Ring'], ['Forrest', 'Gump'], ['The', 'Good,', 'the', 'Bad', 'and', 'the', 'Ugly'], ['Soorarai', 'Pottru'], ['The', 'Matrix'], ['Goodfellas'], ['Star', 'Wars:', 'Episode', 'V', '-', 'The', 'Empire', 'Strikes', 'Back'], ['One', 'Flew', 'Over', 'the', \"Cuckoo's\", 'Nest'], ['Top', 'Gun:', 'Maverick'], ['Interstellar'], ['City', 'of', 'God'], ['Spirited', 'Away'], ['Saving', 'Private', 'Ryan'], ['The', 'Green', 'Mile'], ['Life', 'Is', 'Beautiful'], ['Seven'], ['Terminator', '2:', 'Judgment', 'Day'], ['The', 'Silence', 'of', 'the', 'Lambs'], ['Star', 'Wars'], ['Harakiri'], ['Seven', 'Samurai'], [\"It's\", 'a', 'Wonderful', 'Life'], ['Asuran'], ['Parasite'], ['Whiplash'], ['Untouchable'], ['K.G.F:', 'Chapter', '2'], ['Sardar', 'Udham'], ['The', 'Prestige'], ['The', 'Departed'], ['The', 'Pianist'], ['Gladiator'], ['American', 'History', 'X'], ['The', 'Usual', 'Suspects'], ['Leon'], ['The', 'Lion', 'King'], ['Cinema', 'Paradiso'], ['Grave', 'of', 'the', 'Fireflies'], ['Back', 'to', 'the', 'Future'], ['Apocalypse', 'Now'], ['Alien'], ['Once', 'Upon', 'a', 'Time', 'in', 'the', 'West'], ['Psycho'], ['Rear', 'Window'], ['Casablanca'], ['Modern', 'Times'], ['City', 'Lights'], ['Hamilton'], ['Capernaum'], ['Joker'], ['96'], ['Your', 'Name.'], ['Spider-Man:', 'Into', 'the', 'Spider-Verse'], ['Avengers:', 'Endgame'], ['Avengers:', 'Infinity', 'War'], ['Coco'], ['Django', 'Unchained'], ['The', 'Dark', 'Knight', 'Rises'], ['Drishyam', '2'], ['3', 'Idiots'], ['Shershaah'], ['WALL·E'], ['The', 'Lives', 'of', 'Others'], ['Oldboy'], ['Memento'], ['American', 'Beauty'], ['Princess', 'Mononoke'], ['Braveheart'], ['Aliens'], ['Amadeus'], ['Raiders', 'of', 'the', 'Lost', 'Ark'], ['Das', 'Boot'], ['The', 'Shining'], ['High', 'and', 'Low'], ['Dr.', 'Strangelove', 'or:', 'How', 'I', 'Learned', 'to', 'Stop', 'Worrying', 'and', 'Love', 'the', 'Bomb'], ['Witness', 'for', 'the', 'Prosecution'], ['Paths', 'of', 'Glory'], ['Sunset', 'Blvd.'], ['The', 'Great', 'Dictator'], ['Raatchasan'], ['Everything', 'Everywhere', 'All', 'at', 'Once'], ['Ayla'], ['Dangal'], ['Drishyam'], ['The', 'Hunt'], ['A', 'Separation'], ['Incendies'], ['Spider-Man:', 'No', 'Way', 'Home'], ['Up'], ['Like', 'Stars', 'on', 'Earth'], ['Toy', 'Story', '3'], ['Inglourious', 'Basterds'], ['Eternal', 'Sunshine', 'of', 'the', 'Spotless', 'Mind'], ['Amélie'], ['Snatch'], ['Requiem', 'for', 'a', 'Dream'], ['Good', 'Will', 'Hunting'], ['Toy', 'Story'], ['Heat'], ['Reservoir', 'Dogs'], ['Full', 'Metal', 'Jacket'], ['Come', 'and', 'See'], ['Once', 'Upon', 'a', 'Time', 'in', 'America'], ['Scarface'], ['Star', 'Wars:', 'Return', 'of', 'the', 'Jedi'], ['The', 'Sting'], ['A', 'Clockwork', 'Orange'], ['2001:', 'A', 'Space', 'Odyssey'], ['To', 'Kill', 'a', 'Mockingbird'], ['Lawrence', 'of', 'Arabia'], ['Judgment', 'at', 'Nuremberg'], ['The', 'Apartment'], ['North', 'by', 'Northwest'], ['Vertigo'], ['Pather', 'Panchali'], [\"Singin'\", 'in', 'the', 'Rain'], ['Ikiru'], ['Bicycle', 'Thieves'], ['Double', 'Indemnity'], ['Citizen', 'Kane'], ['M'], ['Metropolis'], ['The', 'Kid'], ['Chhichhore'], ['1917'], ['Uri:', 'The', 'Surgical', 'Strike'], ['Tumbbad'], ['Andhadhun'], ['K.G.F'], ['Green', 'Book'], ['Vikram', 'Vedha'], ['Baahubali', '2:', 'The', 'Conclusion'], ['Drishyam'], ['Bhaag', 'Milkha', 'Bhaag'], ['Inside', 'Out'], ['Gangs', 'of', 'Wasseypur'], ['Paan', 'Singh', 'Tomar'], ['The', 'Secret', 'in', 'Their', 'Eyes'], ['Warrior'], ['Shutter', 'Island'], ['Demon', 'Slayer', 'the', 'Movie:', 'Mugen', 'Train'], ['Miracle', 'in', 'Cell', 'No.', '7'], ['Article', '15'], ['The', 'Father'], ['The', 'Wolf', 'of', 'Wall', 'Street'], ['No', 'Country', 'for', 'Old', 'Men'], ['My', 'Father', 'and', 'My', 'Son'], ['There', 'Will', 'Be', 'Blood'], [\"Pan's\", 'Labyrinth'], ['V', 'for', 'Vendetta'], ['Batman', 'Begins'], ['Downfall'], [\"Howl's\", 'Moving', 'Castle'], ['A', 'Beautiful', 'Mind'], ['Kill', 'Bill:', 'Vol.', '1'], ['Finding', 'Nemo'], ['The', 'Sixth', 'Sense'], ['Lock,', 'Stock', 'and', 'Two', 'Smoking', 'Barrels'], ['The', 'Truman', 'Show'], ['L.A.', 'Confidential'], ['Children', 'of', 'Heaven'], ['Casino'], ['Jurassic', 'Park'], ['Unforgiven'], ['Indiana', 'Jones', 'and', 'the', 'Last', 'Crusade'], ['Die', 'Hard'], ['Ran'], ['The', 'Thing'], ['Raging', 'Bull'], ['The', 'Elephant', 'Man'], ['Taxi', 'Driver'], ['Monty', 'Python', 'and', 'the', 'Holy', 'Grail'], ['Dersu', 'Uzala'], ['Chinatown'], ['Z'], ['For', 'a', 'Few', 'Dollars', 'More'], ['The', 'Great', 'Escape'], ['Yojimbo'], ['Some', 'Like', 'It', 'Hot'], ['The', 'Bridge', 'on', 'the', 'River', 'Kwai'], ['Dial', 'M', 'for', 'Murder'], ['Tokyo', 'Story'], ['The', 'Wages', 'of', 'Fear'], ['Umberto', 'D.'], ['Rashomon'], ['All', 'About', 'Eve'], ['The', 'Treasure', 'of', 'the', 'Sierra', 'Madre'], ['To', 'Be', 'or', 'Not', 'to', 'Be'], ['Gone', 'with', 'the', 'Wind'], ['The', 'Passion', 'of', 'Joan', 'of', 'Arc'], ['The', 'General'], ['The', 'Gold', 'Rush'], ['Sherlock', 'Jr.'], ['Portrait', 'of', 'a', 'Lady', 'on', 'Fire'], ['RRR'], ['Pink'], ['A', 'Silent', 'Voice'], ['Three', 'Billboards', 'Outside', 'Ebbing,', 'Missouri'], ['Talvar'], ['Klaus'], ['Masaan'], ['The', 'Handmaiden'], ['Bajrangi', 'Bhaijaan'], ['Haider'], ['Queen'], ['Logan'], ['Room'], ['Wild', 'Tales'], ['Tangerines'], ['PK'], ['OMG:', 'Oh', 'My', 'God!'], ['The', 'Grand', 'Budapest', 'Hotel'], ['Gone', 'Girl'], ['Wolf', 'Children'], ['Hacksaw', 'Ridge'], ['Barfi!'], ['12', 'Years', 'a', 'Slave'], ['Rush'], ['Le', 'Mans', \"'66\"], ['Spotlight'], ['Kahaani'], ['Udaan'], ['Zindagi', 'Na', 'Milegi', 'Dobara'], ['The', 'Help'], ['Prisoners'], ['Mad', 'Max:', 'Fury', 'Road'], ['A', 'Wednesday'], ['Gran', 'Torino'], ['Harry', 'Potter', 'and', 'the', 'Deathly', 'Hallows:', 'Part', '2'], ['Hachi:', 'A', \"Dog's\", 'Tale'], ['Mary', 'and', 'Max'], ['How', 'to', 'Train', 'Your', 'Dragon'], ['Chakde!', 'India'], ['Into', 'the', 'Wild'], ['Color', 'It', 'Yellow'], ['Million', 'Dollar', 'Baby'], ['Hotel', 'Rwanda'], ['Ratatouille'], ['Before', 'Sunset'], ['Black'], ['Munna', 'Bhai', 'M.B.B.S.'], ['Swades:', 'We,', 'the', 'People'], ['Memories', 'of', 'Murder'], ['Pirates', 'of', 'the', 'Caribbean:', 'The', 'Curse', 'of', 'the', 'Black', 'Pearl'], ['Dil', 'Chahta', 'Hai'], ['Catch', 'Me', 'If', 'You', 'Can'], [\"Everything's\", 'Gonna', 'Be', 'Great'], ['Amores', 'perros'], ['Hera', 'Pheri'], ['Sarfarosh'], ['Monsters,', 'Inc.'], ['Lagaan:', 'Once', 'Upon', 'a', 'Time', 'in', 'India'], ['The', 'Celebration'], ['The', 'Iron', 'Giant'], ['The', 'Big', 'Lebowski'], ['Trainspotting'], ['Fargo'], ['The', 'Bandit'], ['Underground'], ['La', 'Haine'], ['Before', 'Sunrise'], ['Three', 'Colours:', 'Red'], ['In', 'the', 'Name', 'of', 'the', 'Father'], ['Groundhog', 'Day'], ['Farewell', 'My', 'Concubine'], ['Raise', 'the', 'Red', 'Lantern'], ['Time', 'of', 'the', 'Gypsies'], ['Dead', 'Poets', 'Society'], ['My', 'Neighbour', 'Totoro'], ['Stand', 'by', 'Me'], ['Platoon'], ['Jean', 'de', 'Florette'], ['The', 'Terminator'], ['Gandhi'], ['Fanny', 'and', 'Alexander'], ['Blade', 'Runner'], ['Stalker'], ['Autumn', 'Sonata'], ['The', 'Deer', 'Hunter'], ['Rocky'], ['Network'], ['The', 'Message'], ['Sholay'], ['Jaws'], ['Barry', 'Lyndon'], ['Paper', 'Moon'], ['The', 'Exorcist'], ['Anand'], ['Cool', 'Hand', 'Luke'], ['Persona'], ['The', 'Sound', 'of', 'Music'], ['The', 'Battle', 'of', 'Algiers'], ['The', 'Man', 'Who', 'Shot', 'Liberty', 'Valance'], ['The', 'Virgin', 'Spring'], ['Inherit', 'the', 'Wind'], ['The', '400', 'Blows'], ['Ben-Hur'], ['The', 'Hidden', 'Fortress'], ['Wild', 'Strawberries'], ['The', 'Seventh', 'Seal'], ['Nights', 'of', 'Cabiria'], ['Throne', 'of', 'Blood'], ['Rififi'], ['On', 'the', 'Waterfront'], ['Les', 'Diaboliques'], ['Ace', 'in', 'the', 'Hole'], ['White', 'Heat'], ['The', 'Third', 'Man'], ['The', 'Red', 'Shoes'], ['The', 'Best', 'Years', 'of', 'Our', 'Lives'], ['The', 'Shop', 'Around', 'the', 'Corner'], ['Rebecca'], ['The', 'Grapes', 'of', 'Wrath'], ['The', 'Wizard', 'of', 'Oz'], ['Mr.', 'Smith', 'Goes', 'to', 'Washington'], ['La', 'Grande', 'Illusion'], ['It', 'Happened', 'One', 'Night'], ['All', 'Quiet', 'on', 'the', 'Western', 'Front'], ['The', 'Circus'], ['Sunrise:', 'A', 'Song', 'of', 'Two', 'Humans'], ['Badhaai', 'Ho'], ['Wolfwalkers'], ['The', 'Invisible', 'Guest'], ['La', 'La', 'Land'], ['Lion'], ['The', 'Martian'], ['Mommy'], ['Soul'], ['Zootropolis'], ['Winter', 'Sleep'], ['Baahubali:', 'The', 'Beginning'], ['The', 'Tale', 'of', 'the', 'Princess', 'Kaguya'], ['Special', 'Chabbis'], ['The', 'Imitation', 'Game'], ['Guardians', 'of', 'the', 'Galaxy'], ['Song', 'of', 'the', 'Sea'], ['Blade', 'Runner', '2049'], ['Her'], ['The', 'Revenant'], ['The', 'Perks', 'of', 'Being', 'a', 'Wallflower'], ['Elite', 'Squad', '2:', 'The', 'Enemy', 'Within'], ['The', \"King's\", 'Speech'], ['Deadpool'], ['Zack', \"Snyder's\", 'Justice', 'League'], ['Ip', 'Man'], ['Dune'], ['Departures'], ['CODA'], ['Slumdog', 'Millionaire'], ['Black', 'Swan'], ['Elite', 'Squad'], ['Avengers', 'Assemble'], ['Persepolis'], ['Lage', 'Raho', 'Munna', 'Bhai'], ['The', 'Pursuit', 'of', 'Happyness'], ['Blood', 'Diamond'], ['The', 'Bourne', 'Ultimatum'], ['Nobody', 'Knows'], ['Sin', 'City'], ['The', 'Diving', 'Bell', 'and', 'the', 'Butterfly'], ['Brotherhood'], ['G.O.R.A.'], ['Casino', 'Royale'], ['Kill', 'Bill:', 'Vol.', '2'], ['Spring,', 'Summer,', 'Fall,', 'Winter...', 'And', 'Spring'], ['The', 'Sea', 'Inside'], ['Cinderella', 'Man'], ['Infernal', 'Affairs'], ['Big', 'Fish'], ['The', 'Incredibles'], ['My', 'Sassy', 'Girl'], ['Dogville'], ['Vizontele'], ['Donnie', 'Darko'], ['Magnolia'], ['Neon', 'Genesis', 'Evangelion:', 'The', 'End', 'of', 'Evangelion'], ['The', 'Straight', 'Story'], ['Perfect', 'Blue'], ['Central', 'Station'], ['The', 'Legend', 'of', '1900'], ['Black', 'Cat,', 'White', 'Cat'], ['In', 'the', 'Mood', 'for', 'Love'], ['Sling', 'Blade'], ['Secrets', '&', 'Lies'], ['Twelve', 'Monkeys'], ['Dilwale', 'Dulhania', 'Le', 'Jayenge'], ['Chungking', 'Express'], ['Andaz', 'Apna', 'Apna'], ['Scent', 'of', 'a', 'Woman'], ['Aladdin'], ['JFK'], ['Beauty', 'and', 'the', 'Beast'], ['Dances', 'with', 'Wolves'], ['Rain', 'Man'], ['Akira'], ['The', 'Princess', 'Bride'], ['Wings', 'of', 'Desire'], ['Au', 'Revoir', 'les', 'Enfants'], ['Laputa:', 'Castle', 'in', 'the', 'Sky'], ['Paris,', 'Texas'], ['Nausicaä', 'of', 'the', 'Valley', 'of', 'the', 'Wind'], ['Nostalgia'], ['Pink', 'Floyd:', 'The', 'Wall'], ['Fitzcarraldo'], ['Life', 'of', 'Brian'], ['Being', 'There'], ['Annie', 'Hall'], ['Dog', 'Day', 'Afternoon'], ['Mirror'], ['Young', 'Frankenstein'], ['Papillon'], ['Cries', 'and', 'Whispers'], ['Solaris'], ['Sleuth'], ['The', 'Last', 'Picture', 'Show'], ['Fiddler', 'on', 'the', 'Roof'], ['Butch', 'Cassidy', 'and', 'the', 'Sundance', 'Kid'], [\"Rosemary's\", 'Baby'], ['Planet', 'of', 'the', 'Apes'], ['Le', 'Samouraï'], ['The', 'Graduate'], [\"Who's\", 'Afraid', 'of', 'Virginia', 'Woolf?'], ['Andrei', 'Rublev'], ['The', 'Leopard'], ['Federico', \"Fellini's\", '8½'], ['The', 'Exterminating', 'Angel'], ['What', 'Ever', 'Happened', 'to', 'Baby', 'Jane?'], ['Sanjuro'], [\"Ivan's\", 'Childhood'], ['The', 'Hustler'], ['La', 'dolce', 'vita'], ['Rio', 'Bravo'], ['Anatomy', 'of', 'a', 'Murder'], ['Touch', 'of', 'Evil'], ['Sweet', 'Smell', 'of', 'Success'], ['The', 'Killing'], ['The', 'Night', 'of', 'the', 'Hunter'], ['La', 'Strada'], ['Stalag', '17'], ['Roman', 'Holiday'], ['High', 'Noon'], ['Kind', 'Hearts', 'and', 'Coronets'], ['Out', 'of', 'the', 'Past'], ['Rome,', 'Open', 'City'], ['Mildred', 'Pierce'], ['Brief', 'Encounter'], ['The', 'Maltese', 'Falcon'], ['Battleship', 'Potemkin'], ['The', 'Cabinet', 'of', 'Dr.', 'Caligari'], ['Knives', 'Out'], ['Shoplifters'], ['Marriage', 'Story'], ['Super', '30'], ['Padman'], ['Togo'], ['Airlift'], ['M.S.', 'Dhoni:', 'The', 'Untold', 'Story'], ['Baby'], ['Sing', 'Street'], ['Thor:', 'Ragnarok'], ['Jojo', 'Rabbit'], ['Wonder'], ['Arrival'], ['Gully', 'Boy'], ['Short', 'Term', '12'], ['The', 'Raid', '2'], ['Before', 'Midnight'], ['X-Men:', 'Days', 'of', 'Future', 'Past'], ['The', 'Batman'], ['Bohemian', 'Rhapsody'], ['The', 'Way', 'He', 'Looks'], ['The', 'Artist'], ['Edge', 'of', 'Tomorrow'], ['Amour'], ['About', 'Elly'], ['Dev.D'], ['My', 'Name', 'Is', 'Khan'], ['The', 'Breath'], ['Let', 'the', 'Right', 'One', 'In'], ['District', '9'], ['The', 'Wrestler'], ['Jab', 'We', 'Met'], ['Boyhood'], ['The', 'Worst', 'Person', 'in', 'the', 'World'], ['4', 'Months,', '3', 'Weeks', 'and', '2', 'Days'], ['Star', 'Trek'], ['Dallas', 'Buyers', 'Club'], ['In', 'Bruges'], ['The', 'Man', 'from', 'Earth'], ['Letters', 'from', 'Iwo', 'Jima'], ['Life', 'of', 'Pi'], ['Fantastic', 'Mr.', 'Fox'], ['3-Iron'], ['C.R.A.Z.Y.'], ['The', 'Return'], ['Iron', 'Man'], ['Shaun', 'of', 'the', 'Dead'], ['Kal', 'Ho', 'Naa', 'Ho'], ['Head-On'], ['Mystic', 'River'], ['Harry', 'Potter', 'and', 'the', 'Prisoner', 'of', 'Azkaban'], ['Hero'], ['Talk', 'to', 'Her'], ['No', \"Man's\", 'Land'], ['The', 'Bourne', 'Identity'], ['Nine', 'Queens'], ['Children', 'of', 'Men'], ['Crouching', 'Tiger,', 'Hidden', 'Dragon'], ['Almost', 'Famous'], ['Dancer', 'in', 'the', 'Dark'], ['Mulholland', 'Drive'], ['Shrek'], ['Toy', 'Story', '2'], ['Titanic'], [\"Knockin'\", 'on', \"Heaven's\", 'Door'], ['Boogie', 'Nights'], ['Whisper', 'of', 'the', 'Heart'], ['Ghost', 'in', 'the', 'Shell'], ['Once', 'Were', 'Warriors'], ['True', 'Romance'], ['Three', 'Colors:', 'Blue'], ['The', 'Nightmare', 'Before', 'Christmas'], [\"Carlito's\", 'Way'], ['Blood', 'In,', 'Blood', 'Out'], ['Edward', 'Scissorhands'], ['My', 'Left', 'Foot'], ['Do', 'the', 'Right', 'Thing'], ['The', 'Untouchables'], ['The', 'Sacrifice'], ['Hannah', 'and', 'Her', 'Sisters'], ['Brazil'], ['This', 'Is', 'Spinal', 'Tap'], ['A', 'Christmas', 'Story'], ['E.T.', 'the', 'Extra-Terrestrial'], ['Kagemusha'], ['The', 'Blues', 'Brothers'], ['Manhattan'], ['All', 'the', \"President's\", 'Men'], ['Amarcord'], ['Harold', 'and', 'Maude'], ['Patton'], ['The', 'Conformist'], ['The', 'Wild', 'Bunch'], ['The', 'Lion', 'in', 'Winter'], ['In', 'the', 'Heat', 'of', 'the', 'Night'], ['In', 'Cold', 'Blood'], ['Doctor', 'Zhivago'], ['A', 'Fistful', 'of', 'Dollars'], ['Charade'], ['Vivre', 'Sa', 'Vie'], ['The', 'Manchurian', 'Candidate'], ['Spartacus'], ['Hiroshima', 'Mon', 'Amour'], ['Cat', 'on', 'a', 'Hot', 'Tin', 'Roof'], ['The', 'Ten', 'Commandments'], ['The', 'Searchers'], ['The', 'Big', 'Heat'], ['A', 'Streetcar', 'Named', 'Desire'], ['Strangers', 'on', 'a', 'Train'], ['In', 'a', 'Lonely', 'Place'], ['Harvey'], ['Rope'], ['Miracle', 'on', '34th', 'Street'], ['Notorious'], ['The', 'Big', 'Sleep'], ['La', 'Belle', 'et', 'la', 'Bête'], ['The', 'Lost', 'Weekend'], ['Laura'], ['Arsenic', 'and', 'Old', 'Lace'], [\"Sullivan's\", 'Travels'], ['The', 'Philadelphia', 'Story'], ['La', 'Règle', 'du', 'Jeu'], ['The', 'Adventures', 'of', 'Robin', 'Hood'], ['The', 'Thin', 'Man'], ['King', 'Kong'], ['Freaks'], ['Nosferatu'], ['The', 'Gentlemen'], ['Dragon', 'Ball', 'Super:', 'Broly'], ['Hindi', 'Medium'], ['Call', 'Me', 'by', 'Your', 'Name'], ['I,', 'Daniel', 'Blake'], ['Isle', 'of', 'Dogs'], ['Dunkirk'], ['Hidden', 'Figures'], ['Hunt', 'for', 'the', 'Wilderpeople'], ['Paddington', '2'], ['Manchester', 'by', 'the', 'Sea'], ['Land', 'of', 'Mine'], ['Rogue', 'One'], ['Captain', 'Fantastic'], ['Captain', 'America:', 'Civil', 'War'], ['The', 'Hateful', 'Eight'], ['Little', 'Women'], ['Loving', 'Vincent'], ['Pride'], ['Nightcrawler'], ['Star', 'Wars:', 'Episode', 'VII', '-', 'The', 'Force', 'Awakens'], ['The', 'Lunchbox'], ['Vicky', 'Donor'], ['Big', 'Hero', '6'], ['About', 'Time'], ['English', 'Vinglish'], ['Deception'], ['Captain', 'America:', 'The', 'Winter', 'Soldier'], ['Once', 'Upon', 'a', 'Time', 'in', 'Anatolia'], ['Moonrise', 'Kingdom'], ['How', 'to', 'Train', 'Your', 'Dragon', '2'], ['The', 'Big', 'Short'], ['I', 'Saw', 'the', 'Devil'], ['The', 'Girl', 'with', 'the', 'Dragon', 'Tattoo'], ['Captain', 'Phillips'], ['Straight', 'Outta', 'Compton'], ['The', 'Irishman'], ['The', 'Social', 'Network'], ['A', 'Prophet'], ['Mother'], ['The', 'Chaser'], ['Moon'], ['The', 'Hobbit:', 'The', 'Desolation', 'of', 'Smaug'], ['The', 'White', 'Ribbon'], ['The', 'Girl', 'with', 'the', 'Dragon', 'Tattoo'], ['Skyfall'], ['The', 'Fighter'], ['Taken'], ['Once'], ['The', 'Hobbit:', 'An', 'Unexpected', 'Journey'], ['Changeling'], ['Atonement'], ['Drive'], ['American', 'Gangster'], ['Avatar'], ['Mr.', 'Nobody'], ['Apocalypto'], ['The', 'Fall'], ['Little', 'Miss', 'Sunshine'], ['Hot', 'Fuzz'], ['The', 'Curious', 'Case', 'of', 'Benjamin', 'Button'], ['Veer', 'Zaara'], ['Pride', '&', 'Prejudice'], ['The', \"World's\", 'Fastest', 'Indian'], ['Tokyo', 'Godfathers'], ['Serenity'], ['Crash'], ['The', 'Chorus'], ['Walk', 'the', 'Line'], ['The', 'Notebook'], ['The', 'Last', 'Samurai'], ['The', 'Motorcycle', 'Diaries'], ['Lilya', '4-Ever'], ['Millennium', 'Actress'], ['Cowboy', 'Bebop:', 'The', 'Movie'], ['Joint', 'Security', 'Area'], ['Remember', 'the', 'Titans'], ['All', 'About', 'My', 'Mother'], ['Cast', 'Away'], ['The', 'Insider'], ['October', 'Sky'], ['Being', 'John', 'Malkovich'], ['Gattaca'], ['Hamlet'], ['Breaking', 'the', 'Waves'], ['Ed', 'Wood'], ['Tombstone'], ['The', 'Sandlot', 'Kids'], ['The', 'Remains', 'of', 'the', 'Day'], ['Ninja', 'Scroll'], ['The', 'Fugitive'], ['A', 'Bronx', 'Tale'], ['Batman:', 'Mask', 'of', 'the', 'Phantasm'], ['Boyz', 'n', 'the', 'Hood'], ['Misery'], ['Awakenings'], [\"Kiki's\", 'Delivery', 'Service'], ['Glory'], ['The', 'Killer'], ['Crimes', 'and', 'Misdemeanors'], ['Back', 'to', 'the', 'Future', 'Part', 'II'], ['Mississippi', 'Burning'], ['Predator'], ['Ferris', \"Bueller's\", 'Day', 'Off'], ['The', 'Breakfast', 'Club'], ['The', 'Killing', 'Fields'], ['Ghostbusters'], ['The', 'Right', 'Stuff'], ['The', 'King', 'of', 'Comedy'], ['Kramer', 'vs.', 'Kramer'], ['All', 'That', 'Jazz'], ['Days', 'of', 'Heaven'], ['Dawn', 'of', 'the', 'Dead'], ['The', 'Outlaw', 'Josey', 'Wales'], ['The', 'Man', 'Who', 'Would', 'Be', 'King'], ['The', 'Holy', 'Mountain'], ['The', 'Conversation'], ['The', 'Day', 'of', 'the', 'Jackal'], ['The', 'Discreet', 'Charm', 'of', 'the', 'Bourgeoisie'], ['Aguirre,', 'the', 'Wrath', 'of', 'God'], ['Willy', 'Wonka', '&', 'the', 'Chocolate', 'Factory'], ['Midnight', 'Cowboy'], ['Night', 'of', 'the', 'Living', 'Dead'], ['Guess', \"Who's\", 'Coming', 'to', 'Dinner'], ['The', 'Umbrellas', 'of', 'Cherbourg'], ['My', 'Fair', 'Lady'], ['Mary', 'Poppins'], ['The', 'Innocents'], [\"L'Avventura\"], ['East', 'of', 'Eden'], ['The', 'Day', 'the', 'Earth', 'Stood', 'Still'], ['The', 'Asphalt', 'Jungle'], ['Red', 'River'], ['To', 'Have', 'and', 'Have', 'Not'], ['Gaslight'], ['Shadow', 'of', 'a', 'Doubt'], ['His', 'Girl', 'Friday'], ['Stagecoach'], ['You', \"Can't\", 'Take', 'It', 'with', 'You'], ['The', 'Lady', 'Vanishes'], ['Bringing', 'Up', 'Baby'], ['A', 'Night', 'at', 'the', 'Opera'], ['Bride', 'of', 'Frankenstein'], ['Duck', 'Soup'], ['Frankenstein'], ['Roma'], ['Deadpool', '2'], ['Sound', 'of', 'Metal'], ['Wind', 'River'], ['The', 'Salesman'], ['Get', 'Out'], ['Mission:', 'Impossible', '-', 'Fallout'], ['Perfect', 'Strangers'], ['Udta', 'Punjab'], ['Kubo', 'and', 'the', 'Two', 'Strings'], ['A', 'Man', 'Called', 'Ove'], ['When', 'Marnie', 'Was', 'There'], ['The', 'Theory', 'of', 'Everything'], ['Kingsman:', 'The', 'Secret', 'Service'], ['The', 'Fault', 'in', 'Our', 'Stars'], ['Me', 'and', 'Earl', 'and', 'the', 'Dying', 'Girl'], ['Birdman', 'or', '(The', 'Unexpected', 'Virtue', 'of', 'Ignorance)'], ['The', 'Past'], ['The', 'Great', 'Beauty'], ['Blue', 'Is', 'the', 'Warmest', 'Colour'], ['The', 'Broken', 'Circle', 'Breakdown'], ['The', 'Wind', 'Rises'], ['Toy', 'Story', '4'], ['Nebraska'], ['Wreck-It', 'Ralph'], ['The', 'Little', 'Prince'], ['Detachment'], ['Midnight', 'in', 'Paris'], ['Confessions'], ['The', 'Man', 'from', 'Nowhere'], ['The', 'Lego', 'Movie'], ['Gravity'], ['Star', 'Trek', 'Into', 'Darkness'], ['Beasts', 'of', 'No', 'Nation'], ['X-Men:', 'First', 'Class'], ['The', 'Hangover'], ['The', 'Trial', 'of', 'the', 'Chicago', '7'], ['Silver', 'Linings', 'Playbook'], ['Another', 'Round'], ['Argo'], ['500', 'Days', 'of', 'Summer'], ['Harry', 'Potter', 'and', 'the', 'Deathly', 'Hallows:', 'Part', '1'], ['The', 'Boy', 'in', 'the', 'Striped', 'Pyjamas'], ['The', 'Edge', 'of', 'Heaven'], ['Frost/Nixon'], ['Paprika'], ['Flipped'], ['The', 'Girl', 'Who', 'Leapt', 'Through', 'Time'], ['This', 'Is', 'England'], ['Ex', 'Machina'], ['After', 'the', 'Wedding'], ['The', 'Last', 'King', 'of', 'Scotland'], ['Zodiac'], ['Lucky', 'Number', 'Slevin'], ['Joyeux', 'Noel'], ['Control'], [\"Adam's\", 'Apples'], ['Tangled'], ['Black', 'Book'], ['Brokeback', 'Mountain'], ['3:10', 'to', 'Yuma'], ['Kung', 'Fu', 'Hustle'], ['The', 'Bourne', 'Supremacy'], ['The', 'Machinist'], ['Ray'], ['Evil'], ['Lost', 'in', 'Translation'], ['Harry', 'Potter', 'and', 'the', 'Goblet', 'of', 'Fire'], ['Man', 'on', 'Fire'], ['Coraline'], ['The', 'Magdalene', 'Sisters'], ['21', 'Grams'], ['Finding', 'Neverland'], ['Good', 'Bye', 'Lenin!'], ['In', 'America'], ['The', 'Triplets', 'of', 'Belleville'], ['Adaptation.'], ['Black', 'Hawk', 'Down'], ['Road', 'to', 'Perdition'], ['Das', 'Experiment'], ['Billy', 'Elliot'], ['Hedwig', 'and', 'the', 'Angry', 'Inch'], ['The', 'Count', 'of', 'Monte', 'Cristo'], ['Y', 'tu', 'mamá', 'también'], ['Waking', 'Life'], [\"Ocean's\", 'Eleven'], ['O', 'Brother,', 'Where', 'Art', 'Thou?'], ['Minority', 'Report'], ['South', 'Park:', 'Bigger,', 'Longer', '&', 'Uncut'], ['Office', 'Space'], ['Happiness'], ['The', 'Boondock', 'Saints'], ['Training', 'Day'], ['Run', 'Lola', 'Run'], ['Open', 'Your', 'Eyes'], ['Taste', 'of', 'Cherry'], ['As', 'Good', 'as', 'It', 'Gets'], ['Hana-Bi'], ['The', 'Game'], ['Donnie', 'Brasco'], ['Happy', 'Together'], ['Shine'], ['Primal', 'Fear'], ['Sense', 'and', 'Sensibility'], ['Apollo', '13'], ['The', 'Postman'], ['Clerks'], [\"What's\", 'Eating', 'Gilbert', 'Grape'], ['Short', 'Cuts'], ['Philadelphia'], ['Naked'], ['The', 'Muppet', 'Christmas', 'Carol'], ['Malcolm', 'X'], ['The', 'Last', 'of', 'the', 'Mohicans'], ['Hard', 'Boiled'], ['Porco', 'Rosso'], ['Glengarry', 'Glen', 'Ross'], ['A', 'Few', 'Good', 'Men'], ['Night', 'on', 'Earth'], ['Fried', 'Green', 'Tomatoes', 'at', 'the', 'Whistle', 'Stop', 'Cafe'], ['The', 'Double', 'Life', 'of', 'Véronique'], ['Dreams'], [\"Miller's\", 'Crossing'], ['Home', 'Alone'], ['When', 'Harry', 'Met', 'Sally'], ['Who', 'Framed', 'Roger', 'Rabbit'], ['The', 'Vanishing'], ['The', 'Last', 'Emperor'], ['Evil', 'Dead', 'II'], ['Empire', 'of', 'the', 'Sun'], ['The', 'Name', 'of', 'the', 'Rose'], ['Down', 'by', 'Law'], ['Blue', 'Velvet'], ['The', 'Purple', 'Rose', 'of', 'Cairo'], ['The', 'Goonies'], ['The', 'Color', 'Purple'], ['Zelig'], ['The', 'Verdict'], ['Star', 'Trek', 'II:', 'The', 'Wrath', 'of', 'Khan'], ['First', 'Blood'], ['Ordinary', 'People'], ['Airplane!'], ['Halloween'], ['Nashville'], ['Love', 'and', 'Death'], ['Blazing', 'Saddles'], ['Serpico'], ['Fantastic', 'Planet'], ['Badlands'], ['Deliverance'], ['Cabaret'], ['The', 'French', 'Connection'], ['Dirty', 'Harry'], ['Wait', 'Until', 'Dark'], ['The', 'Dirty', 'Dozen'], ['Bonnie', 'and', 'Clyde'], ['Belle', 'de', 'Jour'], ['A', 'Man', 'for', 'All', 'Seasons'], ['Zulu'], ['Goldfinger'], ['The', 'Longest', 'Day'], ['Cape', 'Fear'], ['Jules', 'and', 'Jim'], ['The', 'Magnificent', 'Seven'], ['Breathless'], ['Invasion', 'of', 'the', 'Body', 'Snatchers'], ['The', 'Caine', 'Mutiny'], ['The', 'Quiet', 'Man'], ['The', 'African', 'Queen'], ['Key', 'Largo'], ['Fantasia'], ['Scarface'], ['Dark', 'Waters'], ['The', 'Mitchells', 'vs', 'the', 'Machines'], ['Searching'], ['Once', 'Upon', 'a', 'Time...', 'in', 'Hollywood'], ['Guardians', 'of', 'the', 'Galaxy:', 'Vol.', '2'], ['Bridge', 'of', 'Spies'], ['The', 'Incredibles', '2'], ['Moana'], ['What', 'We', 'Do', 'in', 'the', 'Shadows'], ['Sicario'], ['Creed'], ['Leviathan'], ['Hell', 'or', 'High', 'Water'], ['Philomena'], ['Dawn', 'of', 'the', 'Planet', 'of', 'the', 'Apes'], ['The', 'Raid'], ['End', 'of', 'Watch'], ['127', 'Hours'], ['A', 'Star', 'Is', 'Born'], ['True', 'Grit'], ['Despicable', 'Me'], ['Rise', 'of', 'the', 'Planet', 'of', 'the', 'Apes'], ['50/50'], ['Kick-Ass'], ['Cell', '211'], ['Moneyball'], ['The', 'Skin', 'I', 'Live', 'In'], ['Zombieland'], ['The', 'Blind', 'Side'], ['Ponyo'], ['Superbad'], ['Seven', 'Pounds'], ['Eastern', 'Promises'], ['Stardust'], ['United', '93'], ['Inside', 'Man'], ['Gone', 'Baby', 'Gone'], ['Kung', 'Fu', 'Panda'], ['300'], ['Match', 'Point'], ['Watchmen'], ['Lord', 'of', 'War'], ['Saw'], ['Vera', 'Drake'], ['Mysterious', 'Skin'], ['A', 'Very', 'Long', 'Engagement'], ['The', 'Station', 'Agent'], ['Love', 'Actually'], ['25th', 'Hour'], ['The', 'Butterfly', 'Effect'], ['I', 'Am', 'Sam'], ['The', 'Royal', 'Tenenbaums'], ['Harry', 'Potter', 'and', 'the', \"Philosopher's\", 'Stone'], ['The', 'Others'], ['Traffic'], ['American', 'Psycho'], ['Rushmore'], ['Star', 'Wars:', 'Episode', 'III', '-', 'Revenge', 'of', 'the', 'Sith'], ['The', 'Thin', 'Red', 'Line'], ['Mulan'], ['The', 'Fifth', 'Element'], ['Le', 'Dîner', 'de', 'Cons'], ['Dark', 'City'], ['Die', 'Hard:', 'With', 'a', 'Vengeance'], ['The', 'Bridges', 'of', 'Madison', 'County'], ['Three', 'Colors:', 'White'], ['Falling', 'Down'], ['My', 'Cousin', 'Vinny'], ['Barton', 'Fink'], ['The', 'Godfather', 'Part', 'III'], ['The', 'Little', 'Mermaid'], ['The', 'Naked', 'Gun:', 'From', 'the', 'Files', 'of', 'Police', 'Squad!'], ['RoboCop'], ['Lethal', 'Weapon'], ['The', 'Fly'], ['After', 'Hours'], ['Mad', 'Max', '2'], ['Close', 'Encounters', 'of', 'the', 'Third', 'Kind'], ['The', 'Taking', 'of', 'Pelham', 'One', 'Two', 'Three'], ['Enter', 'The', 'Dragon'], ['Where', 'Eagles', 'Dare'], ['The', 'Odd', 'Couple'], ['The', 'Jungle', 'Book'], ['Repulsion'], ['The', 'Birds'], ['Breakfast', 'at', \"Tiffany's\"], ['Peeping', 'Tom'], ['Eyes', 'Without', 'a', 'Face'], ['Rebel', 'Without', 'a', 'Cause'], ['Sabrina'], ['From', 'Here', 'to', 'Eternity'], ['Snow', 'White', 'and', 'the', 'Seven', 'Dwarfs'], ['The', '39', 'Steps'], ['The', 'Invisible', 'Man']]\n"
          ]
        }
      ]
    },
    {
      "cell_type": "code",
      "source": [
        "def label_BIO(_tokens, _NE):\n",
        "    \"\"\"\n",
        "    Generates BIO (Beginning, Inside, Outside) tags for movie titles in the given tokens.\n",
        "\n",
        "    Args:\n",
        "        _tokens (list): List of tokens representing words in a sentence.\n",
        "        _NE (list): List of named entities, where each entity is represented as a list of tokens.\n",
        "\n",
        "    Returns:\n",
        "        list: List of tuples containing tokens and their corresponding BIO tags.\n",
        "\n",
        "    Comments:\n",
        "        - This function searches for movie titles in the tokens and labels them using BIO notation.\n",
        "        - A movie title is considered to be a named entity, where the first word is labeled as 'B-MOV'\n",
        "          (Beginning of a movie title) and subsequent words are labeled as 'I-MOV' (Inside a movie title).\n",
        "        - Non-movie title tokens are labeled as 'O' (Outside any named entity).\n",
        "        - The function iterates through each token in the tokens list, searching for matches in the named entity list.\n",
        "          If a match is found, the corresponding tokens are labeled accordingly in the BIO format.\n",
        "        - It returns a list of tuples, each containing a token and its corresponding BIO tag.\n",
        "    \"\"\"\n",
        "    BIO_for_samples = []\n",
        "\n",
        "    for token in _tokens:\n",
        "        found_NE = False  # Flag to check if the token is part of a named entity\n",
        "\n",
        "        for ne in _NE:\n",
        "            if token in ne:\n",
        "                # for i, ne_token in enumerate(ne):\n",
        "                #     if i == 0:\n",
        "                #         BIO_for_samples.append((ne_token, 'B-MOV'))  # First token in the movie title\n",
        "                #     else:\n",
        "                #         BIO_for_samples.append((ne_token, 'I-MOV'))  # Subsequent tokens in the movie title\n",
        "                if ne.index(token) == 0:\n",
        "                  BIO_for_samples.append((token, 'B-MOV'))  # First token in the movie title\n",
        "                else:\n",
        "                  BIO_for_samples.append((token, 'I-MOV'))  # Subsequent tokens in the movie title\n",
        "                found_NE = True\n",
        "                break\n",
        "\n",
        "        if not found_NE:\n",
        "            BIO_for_samples.append((token, 'O'))  # Token is not part of any named entity\n",
        "\n",
        "    return BIO_for_samples"
      ],
      "metadata": {
        "id": "Mem-wyqU1z0f"
      },
      "execution_count": 48,
      "outputs": []
    },
    {
      "cell_type": "code",
      "source": [
        "# Don't change this cell\n",
        "def print_BIO_res(_BIO):\n",
        "    for i in range(len(_BIO)):\n",
        "        if _BIO[i][1] == 'B-MOV':\n",
        "            for j in range(i - 7, i + 7):\n",
        "                if _BIO[j][1] == 'O':\n",
        "                    print(_BIO[j][0], end=\" \")\n",
        "                else:\n",
        "                    print(_BIO[j], end=\" \")\n",
        "            print(\"\")"
      ],
      "metadata": {
        "id": "1UA4HbNA5Fj6"
      },
      "execution_count": 49,
      "outputs": []
    },
    {
      "cell_type": "code",
      "source": [
        "# Don't change this cell\n",
        "def get_data_from_file(_fn):\n",
        "    with open(_fn, 'r') as file:\n",
        "        data = file.read().replace('\\n', ' ')\n",
        "    return data"
      ],
      "metadata": {
        "id": "vrQqvG947sb4"
      },
      "execution_count": 50,
      "outputs": []
    },
    {
      "cell_type": "code",
      "source": [
        "titles_top_1000 = get_top_1000_list()\n",
        "\n",
        "# get text data from a text file\n",
        "data = get_data_from_file(\"article-about-a-genre.txt\")\n",
        "# tokenize text data\n",
        "tokens = word_tokenize(data)\n",
        "# tag with BIO using the IMDB top 1000 movie title list\n",
        "BIO = label_BIO(tokens, titles_top_1000)\n",
        "\n",
        "print_BIO_res(BIO)"
      ],
      "metadata": {
        "id": "CdzyVGJ25IBc",
        "colab": {
          "base_uri": "https://localhost:8080/"
        },
        "outputId": "edfbdd1d-27b0-4510-dd47-54dbfeca9d8d"
      },
      "execution_count": 51,
      "outputs": [
        {
          "output_type": "stream",
          "name": "stdout",
          "text": [
            "('Ten', 'I-MOV') Rings is shaping up ('to', 'I-MOV') overtake ('Black', 'B-MOV') Widow ('as', 'I-MOV') ('the', 'I-MOV') biggest film ('of', 'I-MOV') \n",
            "('the', 'I-MOV') biggest film ('of', 'I-MOV') ('the', 'I-MOV') pandemic . ('A', 'B-MOV') hit ('with', 'I-MOV') critics ('and', 'I-MOV') audience alike \n",
            "history almost ('as', 'I-MOV') long cinema itself . ('This', 'B-MOV') history is ('on', 'I-MOV') exciting display ('in', 'I-MOV') \n",
            "heroes ('with', 'I-MOV') supernatural martial arts abilities . ('Fight', 'B-MOV') scenes ('in', 'I-MOV') these early films emphasised \n",
            "rarely showcased actual martial arts skills . ('This', 'B-MOV') changed ('with', 'I-MOV') ('the', 'I-MOV') transformation ('of', 'I-MOV') Hong \n",
            "Five Deadly Venoms ( 1978 ) ('and', 'I-MOV') ('The', 'B-MOV') 36th Chamber ('of', 'I-MOV') Shaolin ( 1978 \n",
            "style , ('as', 'I-MOV') shown ('in', 'I-MOV') films like ('The', 'B-MOV') ('Big', 'I-MOV') Boss ( 1971 ) ('and', 'I-MOV') \n",
            "('The', 'B-MOV') ('Big', 'I-MOV') Boss ( 1971 ) ('and', 'I-MOV') ('Enter', 'B-MOV') ('the', 'I-MOV') ('Dragon', 'I-MOV') ( 1973 ) , \n",
            "('with', 'I-MOV') poor-quality dubbing ('and', 'I-MOV') bootleg videos . ('After', 'B-MOV') Lee ’ s untimely death ('in', 'I-MOV') \n",
            "('in', 'I-MOV') Drunken Master ( 1978 ) ('and', 'I-MOV') ('The', 'B-MOV') ('Magnificent', 'I-MOV') Butcher ( 1979 ) starring \n",
            "Tai Chi Master ( 1993 ) ('and', 'I-MOV') ('Donnie', 'B-MOV') Yen ’ s ('Iron', 'I-MOV') Monkey ( \n",
            "s ('Iron', 'I-MOV') Monkey ( 1993 ) . ('The', 'B-MOV') second boom ('In', 'B-MOV') ('the', 'I-MOV') late 1990s \n",
            "( 1993 ) . ('The', 'B-MOV') second boom ('In', 'B-MOV') ('the', 'I-MOV') late 1990s , around ('the', 'I-MOV') \n",
            ", ('and', 'I-MOV') Li ’ s Romeo Must ('Die', 'B-MOV') ( 2000 ) ('and', 'I-MOV') ('The', 'B-MOV') ('One', 'B-MOV') \n",
            "Romeo Must ('Die', 'B-MOV') ( 2000 ) ('and', 'I-MOV') ('The', 'B-MOV') ('One', 'B-MOV') ( 2001 ) , English-speaking \n",
            "Must ('Die', 'B-MOV') ( 2000 ) ('and', 'I-MOV') ('The', 'B-MOV') ('One', 'B-MOV') ( 2001 ) , English-speaking fans \n",
            "('to', 'I-MOV') find its way into hits like ('The', 'B-MOV') ('Matrix', 'I-MOV') ( 1999 ) ('and', 'I-MOV') ('Kill', 'I-MOV') \n",
            "('and', 'I-MOV') ('Kill', 'I-MOV') Bill ( 2003 ) . ('In', 'B-MOV') 2000 , ('the', 'I-MOV') Chinese blockbuster ('Crouching', 'B-MOV') \n",
            ". ('In', 'B-MOV') 2000 , ('the', 'I-MOV') Chinese blockbuster ('Crouching', 'B-MOV') Tiger , ('Hidden', 'I-MOV') ('Dragon', 'I-MOV') showed modern \n",
            "('the', 'I-MOV') trend . Jet Li ’ s ('Hero', 'B-MOV') ( 2002 ) ('and', 'I-MOV') Fearless ( \n",
            "('on', 'I-MOV') producing elegant wuxia action dramas . ('In', 'B-MOV') Hong ('Kong', 'I-MOV') , kung fu was \n",
            "comedies Shaolin Soccer ( 2001 ) ('and', 'I-MOV') ('Kung', 'B-MOV') ('Fu', 'I-MOV') ('Hustle', 'I-MOV') ( 2004 ) , \n",
            "('Fu', 'I-MOV') ('Hustle', 'I-MOV') ( 2004 ) , ('and', 'I-MOV') ('Donnie', 'B-MOV') Yen ’ s ('Ip', 'B-MOV') ('Man', 'I-MOV') ( \n",
            ") , ('and', 'I-MOV') ('Donnie', 'B-MOV') Yen ’ s ('Ip', 'B-MOV') ('Man', 'I-MOV') ( 2008 ) . Shang-Chi \n",
            ". Shang-Chi : ('the', 'I-MOV') first Asian superhero ('In', 'B-MOV') many ways , ('the', 'I-MOV') character ('of', 'I-MOV') \n",
            "('the', 'I-MOV') same name , was controversial . ('The', 'B-MOV') star , Finn ('Jones', 'I-MOV') , lacked \n",
            "its “ white saviour ” narrative . ('In', 'B-MOV') light ('of', 'I-MOV') this , ('the', 'I-MOV') producers \n",
            "('to', 'I-MOV') headline ('a', 'I-MOV') Marvel feature film . ('This', 'B-MOV') has paid off : Shang-Chi is \n",
            "('the', 'I-MOV') lead role ('in', 'I-MOV') ('the', 'I-MOV') original 1970s ('Kung', 'B-MOV') ('Fu', 'I-MOV') television series . Shang-Chi is \n"
          ]
        }
      ]
    }
  ]
}